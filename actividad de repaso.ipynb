{
  "metadata": {
    "kernelspec": {
      "name": "python",
      "display_name": "Python (Pyodide)",
      "language": "python"
    },
    "language_info": {
      "codemirror_mode": {
        "name": "python",
        "version": 3
      },
      "file_extension": ".py",
      "mimetype": "text/x-python",
      "name": "python",
      "nbconvert_exporter": "python",
      "pygments_lexer": "ipython3",
      "version": "3.8"
    }
  },
  "nbformat_minor": 4,
  "nbformat": 4,
  "cells": [
    {
      "cell_type": "markdown",
      "source": "En esta actividad vimos un repaso acerca de python y latex",
      "metadata": {}
    },
    {
      "cell_type": "markdown",
      "source": "# Simulación matemática\n\n\n\n## Subtítulo\n\n",
      "metadata": {}
    },
    {
      "cell_type": "code",
      "source": "1+1",
      "metadata": {
        "trusted": true
      },
      "outputs": [
        {
          "execution_count": 4,
          "output_type": "execute_result",
          "data": {
            "text/plain": "2"
          },
          "metadata": {}
        }
      ],
      "execution_count": 4
    },
    {
      "cell_type": "code",
      "source": "import numpy as np",
      "metadata": {
        "trusted": true
      },
      "outputs": [],
      "execution_count": 13
    },
    {
      "cell_type": "markdown",
      "source": "# Chocolates\n\nEn este reporte hablaremos de la importancia de los chocolates.",
      "metadata": {}
    },
    {
      "cell_type": "markdown",
      "source": "# Tipos de chocolate y sus calificaciones",
      "metadata": {}
    },
    {
      "cell_type": "markdown",
      "source": "* Blanco: $ 7 $\n    * *Decente* \n* Negro $ 9 $\n    * *Excelente*\n* Almendrado $ 8 $\n    * *Bueno*\n* Confitado $ 8 $\n    * *Bueno*\n  ",
      "metadata": {}
    },
    {
      "cell_type": "markdown",
      "source": "## El orden de preferencia es:\n1. Negro\n2. Almendrado\n3. Confitado\n4. Blanco\n",
      "metadata": {}
    },
    {
      "cell_type": "markdown",
      "source": "La ecuación del chocolate es $ \\frac{\\sqrt{x^2+4y^4}}{e^{x^4+2y}} $",
      "metadata": {}
    },
    {
      "cell_type": "markdown",
      "source": "La ecuación del chocolate es $$ \\frac{\\sqrt{x^2+4y^4}}{e^{x^4+2y}} $$",
      "metadata": {}
    },
    {
      "cell_type": "markdown",
      "source": "$$\\alpha$$\n$$\\beta$$\n$$\\gamma$$",
      "metadata": {}
    }
  ]
}