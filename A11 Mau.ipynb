{
 "cells": [
  {
   "cell_type": "markdown",
   "id": "fd4d14d4-7864-427c-87a8-410ee19d9a3a",
   "metadata": {},
   "source": [
    "### Mauricio López Coronado\n",
    "\n",
    "### Act 11"
   ]
  },
  {
   "cell_type": "markdown",
   "id": "0f74c335-77f4-4110-b4ea-0cabfbd4bc4f",
   "metadata": {},
   "source": [
    "1.- Se tiene la siguiente ecuación diferencial:\r\n",
    "\r\n"
   ]
  },
  {
   "cell_type": "markdown",
   "id": "f60a930c-e8dc-4367-98f0-aae954226e47",
   "metadata": {},
   "source": [
    "y(x) es la acumulación de todos sus cambios instantáneos."
   ]
  },
  {
   "cell_type": "markdown",
   "id": "5d7c810c-f7e7-48ad-ba5f-3e665573e5b3",
   "metadata": {},
   "source": [
    "## Integra los siguientes intervalos utilizando 1 millón de muestras. Escribe los resultados en un DataFrame de pandas."
   ]
  },
  {
   "cell_type": "code",
   "execution_count": 36,
   "id": "3204c0ee-beb4-4a35-b86b-cd7dc61e35af",
   "metadata": {},
   "outputs": [],
   "source": [
    "n = 1000000\n",
    "\n",
    "def montecarlo_tipo1(f, a, b, n):\n",
    "    u = np.random.uniform(a, b, n)\n",
    "    return np.mean(f(u))*(b-a)\n",
    "\n",
    "\n"
   ]
  },
  {
   "cell_type": "code",
   "execution_count": 61,
   "id": "f117b25a-afa3-4f46-8d23-218147dffccf",
   "metadata": {},
   "outputs": [],
   "source": [
    "import numpy as np\n",
    "def fn(x):\n",
    "    return (np.log(1.5 + np.sin(x**2)))/(x*np.exp(-x**2))\n",
    "\n",
    "\n",
    "    "
   ]
  },
  {
   "cell_type": "markdown",
   "id": "c54e693b-4947-465b-b375-4d643cceb6c4",
   "metadata": {},
   "source": [
    "## Intervalo 1"
   ]
  },
  {
   "cell_type": "code",
   "execution_count": 78,
   "id": "fef2899e-ed45-48ed-af3b-74ab3986fea0",
   "metadata": {},
   "outputs": [
    {
     "data": {
      "text/plain": [
       "0.48981595280700413"
      ]
     },
     "execution_count": 78,
     "metadata": {},
     "output_type": "execute_result"
    }
   ],
   "source": [
    "int1 = montecarlo_tipo1(fn, .1, .3, n )\n",
    "int1"
   ]
  },
  {
   "cell_type": "markdown",
   "id": "11310eb7-ef5b-44ab-b77b-ed0498515c42",
   "metadata": {},
   "source": [
    "## Intervalo 2"
   ]
  },
  {
   "cell_type": "code",
   "execution_count": 83,
   "id": "d97071b4-071f-48e9-bef4-acb18a9622fd",
   "metadata": {},
   "outputs": [
    {
     "data": {
      "text/plain": [
       "0.3021020568077659"
      ]
     },
     "execution_count": 83,
     "metadata": {},
     "output_type": "execute_result"
    }
   ],
   "source": [
    "int2 = montecarlo_tipo1(fn, .3, .5, n )\n",
    "int2"
   ]
  },
  {
   "cell_type": "markdown",
   "id": "1bf6ad2e-d97f-42df-9494-05c89035de72",
   "metadata": {},
   "source": [
    "## Intervalo 3"
   ]
  },
  {
   "cell_type": "code",
   "execution_count": 87,
   "id": "7afd3cb3-ba03-4bf6-9b10-4c3e4151f8ea",
   "metadata": {},
   "outputs": [
    {
     "data": {
      "text/plain": [
       "0.29681861504357576"
      ]
     },
     "execution_count": 87,
     "metadata": {},
     "output_type": "execute_result"
    }
   ],
   "source": [
    "int3 = montecarlo_tipo1(fn, .5, .7, n )\n",
    "int3"
   ]
  },
  {
   "cell_type": "markdown",
   "id": "f6327974-fbfe-4202-990e-220ac7b2ae48",
   "metadata": {},
   "source": [
    "## Intervalo 4"
   ]
  },
  {
   "cell_type": "code",
   "execution_count": 89,
   "id": "609fd494-ad73-4a86-8aee-213c8a4ca751",
   "metadata": {},
   "outputs": [
    {
     "data": {
      "text/plain": [
       "0.35333218834383057"
      ]
     },
     "execution_count": 89,
     "metadata": {},
     "output_type": "execute_result"
    }
   ],
   "source": [
    "int4 = montecarlo_tipo1(fn, .7, .9, n )\n",
    "int4"
   ]
  },
  {
   "cell_type": "markdown",
   "id": "f41599c0-750b-4348-827d-56e6a3767849",
   "metadata": {},
   "source": [
    "## Intervalo 5"
   ]
  },
  {
   "cell_type": "code",
   "execution_count": 91,
   "id": "18e92a50-e3f8-42ad-badb-5363eb5e8e91",
   "metadata": {},
   "outputs": [
    {
     "data": {
      "text/plain": [
       "0.4653091535880418"
      ]
     },
     "execution_count": 91,
     "metadata": {},
     "output_type": "execute_result"
    }
   ],
   "source": [
    "int5 = montecarlo_tipo1(fn, .9, 1.1, n )\n",
    "int5"
   ]
  },
  {
   "cell_type": "code",
   "execution_count": 115,
   "id": "bddef081-2240-47f8-beaf-5efdebcfa5c1",
   "metadata": {},
   "outputs": [
    {
     "data": {
      "text/html": [
       "<div>\n",
       "<style scoped>\n",
       "    .dataframe tbody tr th:only-of-type {\n",
       "        vertical-align: middle;\n",
       "    }\n",
       "\n",
       "    .dataframe tbody tr th {\n",
       "        vertical-align: top;\n",
       "    }\n",
       "\n",
       "    .dataframe thead th {\n",
       "        text-align: right;\n",
       "    }\n",
       "</style>\n",
       "<table border=\"1\" class=\"dataframe\">\n",
       "  <thead>\n",
       "    <tr style=\"text-align: right;\">\n",
       "      <th></th>\n",
       "      <th>valor</th>\n",
       "    </tr>\n",
       "  </thead>\n",
       "  <tbody>\n",
       "    <tr>\n",
       "      <th>0</th>\n",
       "      <td>0.489816</td>\n",
       "    </tr>\n",
       "    <tr>\n",
       "      <th>1</th>\n",
       "      <td>0.302102</td>\n",
       "    </tr>\n",
       "    <tr>\n",
       "      <th>2</th>\n",
       "      <td>0.296819</td>\n",
       "    </tr>\n",
       "    <tr>\n",
       "      <th>3</th>\n",
       "      <td>0.353332</td>\n",
       "    </tr>\n",
       "    <tr>\n",
       "      <th>4</th>\n",
       "      <td>0.465309</td>\n",
       "    </tr>\n",
       "  </tbody>\n",
       "</table>\n",
       "</div>"
      ],
      "text/plain": [
       "      valor\n",
       "0  0.489816\n",
       "1  0.302102\n",
       "2  0.296819\n",
       "3  0.353332\n",
       "4  0.465309"
      ]
     },
     "execution_count": 115,
     "metadata": {},
     "output_type": "execute_result"
    }
   ],
   "source": [
    "import pandas as pd\n",
    "\n",
    "\n",
    "tabla = pd.DataFrame()\n",
    "tabla.loc[0, \"valor\"] = int1\n",
    "tabla.loc[1, \"valor\"] = int2\n",
    "tabla.loc[2, \"valor\"] = int3\n",
    "tabla.loc[3, \"valor\"] = int4\n",
    "tabla.loc[4, \"valor\"] = int5\n",
    "tabla"
   ]
  },
  {
   "cell_type": "markdown",
   "id": "01039f02-2cba-4e77-b904-b443eb2682ea",
   "metadata": {},
   "source": [
    "## Usa el teorema fundamental del cálculo para escribir la secuencia de valores para y(x):"
   ]
  },
  {
   "cell_type": "code",
   "execution_count": 121,
   "id": "71151b70-d28f-4597-a686-81989533f333",
   "metadata": {},
   "outputs": [
    {
     "data": {
      "text/plain": [
       "0.5898159528070042"
      ]
     },
     "execution_count": 121,
     "metadata": {},
     "output_type": "execute_result"
    }
   ],
   "source": [
    "val1 = 0.1 + int1\n",
    "val1"
   ]
  },
  {
   "cell_type": "code",
   "execution_count": 125,
   "id": "70677e58-ec40-4e93-9294-dcc0dc65fcd4",
   "metadata": {},
   "outputs": [
    {
     "data": {
      "text/plain": [
       "0.8919180096147701"
      ]
     },
     "execution_count": 125,
     "metadata": {},
     "output_type": "execute_result"
    }
   ],
   "source": [
    "val2 = val1 + int2\n",
    "val2"
   ]
  },
  {
   "cell_type": "code",
   "execution_count": 127,
   "id": "04a64a74-994b-4b20-9c1f-033891cccd3c",
   "metadata": {},
   "outputs": [
    {
     "data": {
      "text/plain": [
       "1.188736624658346"
      ]
     },
     "execution_count": 127,
     "metadata": {},
     "output_type": "execute_result"
    }
   ],
   "source": [
    "val3 = val2 + int3 \n",
    "val3"
   ]
  },
  {
   "cell_type": "code",
   "execution_count": 129,
   "id": "658a81b0-1ee8-479e-810a-b85b6ba9b4a1",
   "metadata": {},
   "outputs": [
    {
     "data": {
      "text/plain": [
       "1.5420688130021765"
      ]
     },
     "execution_count": 129,
     "metadata": {},
     "output_type": "execute_result"
    }
   ],
   "source": [
    "val4 = val3 + int4\n",
    "val4"
   ]
  },
  {
   "cell_type": "code",
   "execution_count": 131,
   "id": "3fde64e3-6437-4a9f-aa30-8ca32ca5c6c7",
   "metadata": {},
   "outputs": [
    {
     "data": {
      "text/plain": [
       "2.0073779665902185"
      ]
     },
     "execution_count": 131,
     "metadata": {},
     "output_type": "execute_result"
    }
   ],
   "source": [
    "val5 = val4 + int5\n",
    "val5"
   ]
  }
 ],
 "metadata": {
  "kernelspec": {
   "display_name": "Python 3 (ipykernel)",
   "language": "python",
   "name": "python3"
  },
  "language_info": {
   "codemirror_mode": {
    "name": "ipython",
    "version": 3
   },
   "file_extension": ".py",
   "mimetype": "text/x-python",
   "name": "python",
   "nbconvert_exporter": "python",
   "pygments_lexer": "ipython3",
   "version": "3.12.4"
  }
 },
 "nbformat": 4,
 "nbformat_minor": 5
}
