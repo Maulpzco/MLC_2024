{
 "cells": [
  {
   "cell_type": "markdown",
   "id": "021ba6d5-af98-478d-aca5-91e8b5ab1c30",
   "metadata": {},
   "source": [
    "## Aguja de Buffon"
   ]
  },
  {
   "cell_type": "markdown",
   "id": "c2cee80b-642c-4dbb-9743-ad70253b7c54",
   "metadata": {},
   "source": [
    "#### Mauricio López Coronado"
   ]
  },
  {
   "cell_type": "markdown",
   "id": "55b160a1-3cc3-4eb0-ae8e-f39f26af58f1",
   "metadata": {},
   "source": [
    "La aguja de Buffon es un problema de probabilidad geométrica, en el que se busca aproximar el valor de π a partir del lanzamiento de una aguja sobre un papel con rectas horizontales paralelas."
   ]
  },
  {
   "cell_type": "markdown",
   "id": "ebf5aedb-5b5e-4613-8a3e-b7d7629851bf",
   "metadata": {},
   "source": [
    "Con lo anterior, se puede llegar a demostrar que la distancia entre las rectas es igual a la longitud de la aguja y esto demuestra que la probabilidad de que la aguja cruce las líneas es de:"
   ]
  },
  {
   "cell_type": "markdown",
   "id": "4fb3f5b3-dd13-4964-b68e-8ad86f46e280",
   "metadata": {},
   "source": [
    "$$ \\frac{2}{π} $$\t "
   ]
  },
  {
   "cell_type": "markdown",
   "id": "b1ceca8a-4098-422e-a5fe-e83586d214dc",
   "metadata": {},
   "source": [
    "Este resultado se puede calcular con el cálculo integral y la solución es la siguiente:\n"
   ]
  },
  {
   "cell_type": "markdown",
   "id": "00622716-d10e-4a89-b1f9-6badcb367515",
   "metadata": {},
   "source": [
    "Como primer paso, se deben conocer todas las funciones de este problema:"
   ]
  },
  {
   "cell_type": "markdown",
   "id": "615f5675-54ab-4198-9b26-8d2647e70c91",
   "metadata": {},
   "source": [
    "Se encuentra la función de densidad de probabilidad para x:\n",
    "\n",
    "$$ f(x) = \\frac{2}{t}dx $$ "
   ]
  },
  {
   "cell_type": "markdown",
   "id": "c764ea3e-51f5-4904-84c8-08697696ccc3",
   "metadata": {},
   "source": [
    "Se encuentra la función de densidad de probabilidad para θ:\n",
    "\n",
    "$$ f(θ) = \\frac{2}{π}dθ $$ "
   ]
  },
  {
   "cell_type": "markdown",
   "id": "00a72bab-769e-49f2-b0f2-c0447e7aca1e",
   "metadata": {},
   "source": [
    "Al ser las anteriores variables independientes, sus funciones se pueden combinar con una simple multiplicación."
   ]
  },
  {
   "cell_type": "markdown",
   "id": "818a2b0b-ce0c-424f-a622-0bcffb364743",
   "metadata": {},
   "source": [
    "$$ f(x, θ) = \\frac{4}{tπ}dx dθ $$ "
   ]
  },
  {
   "cell_type": "markdown",
   "id": "9b7bb14e-2c0d-436b-a3b8-6ab1612a1d3f",
   "metadata": {},
   "source": [
    "Además es importante recalcar la condición o restricción que existe para que la aguja cruce la línea y es la siguiente:"
   ]
  },
  {
   "cell_type": "markdown",
   "id": "203edd9b-64dd-43e5-aa73-43e06e4de159",
   "metadata": {},
   "source": [
    "$$ x <= \\frac{l}{2}sin θ  $$"
   ]
  },
  {
   "cell_type": "markdown",
   "id": "750bf264-9827-4119-afd4-b87d2d05dba7",
   "metadata": {},
   "source": [
    "Una vez que tenemos las funciones, solo queda realizar una doble integral, tomando como límites de 0 a π/2 y de 0 a l/2."
   ]
  },
  {
   "cell_type": "markdown",
   "id": "6a4718b0-3068-4857-85cf-279a865369af",
   "metadata": {},
   "source": [
    "$$\\int_0^{\\frac{\\pi}{2}} \\int_0^{(\\ell/2)\\sin\\theta } \\frac{4}{t\\pi} dx \\, d\\theta = \\frac{2\\ell}{t\\pi}$$"
   ]
  },
  {
   "cell_type": "markdown",
   "id": "968045b5-7caf-4bd2-8e61-f95c579675ba",
   "metadata": {},
   "source": [
    "Se obtiene el resultado y se iguala a la h que es la cantidad de veces que cruza una línea sobre n que es el número de lanzamientos."
   ]
  },
  {
   "cell_type": "markdown",
   "id": "c1216c9f-1420-41f1-8c2f-b3891ef6492e",
   "metadata": {},
   "source": [
    "$$ \\frac{h}{n} = \\frac{2l}{tπ} $$"
   ]
  },
  {
   "cell_type": "markdown",
   "id": "9318b226-7ed2-43c0-bbe8-3d2d78199f37",
   "metadata": {},
   "source": [
    "Lo que se traduce en la probabilidad de:"
   ]
  },
  {
   "cell_type": "markdown",
   "id": "a11255d3-816b-4532-beb7-1823042946c4",
   "metadata": {},
   "source": [
    "$$ P = \\frac{2l}{tπ} $$"
   ]
  },
  {
   "cell_type": "markdown",
   "id": "d348bc57-5276-47f2-b491-6b64d48a78e1",
   "metadata": {},
   "source": [
    "Para la solución sin cálculo es simplemente sustituir en la fórmula obtenida anteriormente:"
   ]
  },
  {
   "cell_type": "markdown",
   "id": "28ac3b66-cfe8-4758-b66a-58fb72a505ec",
   "metadata": {},
   "source": [
    "$$ P = \\frac{2l}{tπ} $$"
   ]
  },
  {
   "cell_type": "markdown",
   "id": "6c9596c8-eca7-4bf5-a2f4-c5a6f8029ec0",
   "metadata": {},
   "source": [
    "Crea una simulación con numpy donde se arrojen n agujas de longitud l dado que se tiene una distancia d entre cada línea paralela.\n",
    "\n",
    "¿Qué variables aleatorias hay en este caso?\n",
    "¿Qué distribución siguen?\n",
    "¿Cómo evoluciona el resultado contra la cantidad de agujas que se usa?"
   ]
  },
  {
   "cell_type": "code",
   "execution_count": null,
   "id": "2ce2fddc-5f83-4f6d-8d2d-97081f539b77",
   "metadata": {},
   "outputs": [],
   "source": [
    "import numpy as np\n",
    "\n",
    "def buffon()\n"
   ]
  }
 ],
 "metadata": {
  "kernelspec": {
   "display_name": "Python 3 (ipykernel)",
   "language": "python",
   "name": "python3"
  },
  "language_info": {
   "codemirror_mode": {
    "name": "ipython",
    "version": 3
   },
   "file_extension": ".py",
   "mimetype": "text/x-python",
   "name": "python",
   "nbconvert_exporter": "python",
   "pygments_lexer": "ipython3",
   "version": "3.12.4"
  }
 },
 "nbformat": 4,
 "nbformat_minor": 5
}
