{
 "cells": [
  {
   "cell_type": "markdown",
   "id": "021ba6d5-af98-478d-aca5-91e8b5ab1c30",
   "metadata": {},
   "source": [
    "## Aguja de Buffon"
   ]
  },
  {
   "cell_type": "markdown",
   "id": "c2cee80b-642c-4dbb-9743-ad70253b7c54",
   "metadata": {},
   "source": [
    "#### Mauricio López Coronado"
   ]
  },
  {
   "cell_type": "markdown",
   "id": "55b160a1-3cc3-4eb0-ae8e-f39f26af58f1",
   "metadata": {},
   "source": [
    "La aguja de Buffon es un problema de probabilidad geométrica, en el que se busca aproximar el valor de π a partir del lanzamiento de una aguja sobre un papel con rectas horizontales paralelas."
   ]
  },
  {
   "cell_type": "markdown",
   "id": "ebf5aedb-5b5e-4613-8a3e-b7d7629851bf",
   "metadata": {},
   "source": [
    "Con lo anterior, se puede llegar a demostrar que la distancia entre las rectas es igual a la longitud de la aguja"
   ]
  }
 ],
 "metadata": {
  "kernelspec": {
   "display_name": "Python 3 (ipykernel)",
   "language": "python",
   "name": "python3"
  },
  "language_info": {
   "codemirror_mode": {
    "name": "ipython",
    "version": 3
   },
   "file_extension": ".py",
   "mimetype": "text/x-python",
   "name": "python",
   "nbconvert_exporter": "python",
   "pygments_lexer": "ipython3",
   "version": "3.12.4"
  }
 },
 "nbformat": 4,
 "nbformat_minor": 5
}
