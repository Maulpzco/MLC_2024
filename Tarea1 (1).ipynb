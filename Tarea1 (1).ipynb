{
 "cells": [
  {
   "cell_type": "markdown",
   "metadata": {},
   "source": [
    "# Tarea 1\n",
    "## Mauricio López Coronado\n",
    "## 15 de agosto 2023"
   ]
  },
  {
   "cell_type": "markdown",
   "metadata": {},
   "source": [
    "# Ingeniería Civil"
   ]
  },
  {
   "cell_type": "markdown",
   "metadata": {},
   "source": [
    "## ¿Qué es?"
   ]
  },
  {
   "cell_type": "markdown",
   "metadata": {},
   "source": [
    "Es una **ingeniería** que como principales conocimientos usa el cálculo, física, estática, hidráulica, mecánica, entre otras. \\\n",
    "Engloba a la **construcción**, con un gran campo en la actualidad ya que está presente en nuestro día a día, ya sea en casas, edificios, carreteras, puentes, etc."
   ]
  },
  {
   "cell_type": "markdown",
   "metadata": {},
   "source": [
    "## Aplicaciones"
   ]
  },
  {
   "cell_type": "markdown",
   "metadata": {},
   "source": [
    "AL tener una gran cantidad de campo, cuenta con las siguientes aplicaciones:\n",
    "\n",
    "- *Casa habitación*\n",
    "\n",
    "- *Edificaciones*\n",
    "\n",
    "- *Urbanización*\n",
    "\n",
    "- *Vías terrestres*\n",
    "\n",
    "- *Administración de obra*\n",
    "\n"
   ]
  },
  {
   "cell_type": "markdown",
   "metadata": {},
   "source": [
    "## Dentro de cada aplicación, existen ciencias muy importantes que se usan como base."
   ]
  },
  {
   "cell_type": "markdown",
   "metadata": {},
   "source": [
    "1. <u> Matemáticas\n",
    "\n",
    "2. <u> Fisica \n",
    "\n",
    "3. <u> Mecánica\n",
    "\n",
    "4. <u> Estática"
   ]
  },
  {
   "cell_type": "markdown",
   "metadata": {},
   "source": [
    "Una ecuación como las que se pueden ver, puede ser la siguiente.: $$ \\frac{\\sqrt{x^2+4y^4}}{e^{x^4+2y}} $$"
   ]
  },
  {
   "cell_type": "markdown",
   "metadata": {},
   "source": [
    "\\ usepackage{graphicx}\n",
    "    \n",
    "\\ includegraphics[width=10, height=8]{ingcivil.jpeg}\n"
   ]
  },
  {
   "cell_type": "code",
   "execution_count": null,
   "metadata": {},
   "outputs": [],
   "source": []
  }
 ],
 "metadata": {
  "kernelspec": {
   "display_name": "Python 3 (ipykernel)",
   "language": "python",
   "name": "python3"
  },
  "language_info": {
   "codemirror_mode": {
    "name": "ipython",
    "version": 3
   },
   "file_extension": ".py",
   "mimetype": "text/x-python",
   "name": "python",
   "nbconvert_exporter": "python",
   "pygments_lexer": "ipython3",
   "version": "3.12.4"
  }
 },
 "nbformat": 4,
 "nbformat_minor": 4
}
