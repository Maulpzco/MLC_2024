{
 "cells": [
  {
   "cell_type": "markdown",
   "id": "7d57011f-0c86-4783-9678-1574facf8813",
   "metadata": {},
   "source": [
    "# Actividad de clase\n",
    "## Mauricio López Coronado\n",
    "## 19 de agosto 2023"
   ]
  },
  {
   "cell_type": "code",
   "execution_count": 14,
   "id": "1ed00450-2807-478e-b507-d33fcc3be03a",
   "metadata": {},
   "outputs": [],
   "source": [
    "def esprimo(a):\n",
    "    if a <= 2:\n",
    "        print(False)\n",
    "        \n",
    "    else:\n",
    "        primo = True\n",
    "        for i in range (2, a):\n",
    "            if a % i == 0:\n",
    "                print(False)\n",
    "                primo = False\n",
    "                break\n",
    "                \n",
    "        if primo:\n",
    "            print(True)"
   ]
  },
  {
   "cell_type": "code",
   "execution_count": 16,
   "id": "96fddcec-d669-41f8-849f-3c466819d14a",
   "metadata": {},
   "outputs": [
    {
     "name": "stdout",
     "output_type": "stream",
     "text": [
      "True\n"
     ]
    }
   ],
   "source": [
    "esprimo(7)"
   ]
  },
  {
   "cell_type": "code",
   "execution_count": 18,
   "id": "2628641d-c9f4-43b1-9e56-e3e0726c8774",
   "metadata": {
    "scrolled": true
   },
   "outputs": [
    {
     "name": "stdout",
     "output_type": "stream",
     "text": [
      "False\n"
     ]
    }
   ],
   "source": [
    "esprimo(4)"
   ]
  },
  {
   "cell_type": "markdown",
   "id": "b42c2f43-bc89-4b4f-ac16-59ef072935a1",
   "metadata": {},
   "source": [
    "![](primo2.jpeg)"
   ]
  },
  {
   "cell_type": "code",
   "execution_count": null,
   "id": "539a8356-38ae-4f2c-9ecb-d0bd1d4bc8d2",
   "metadata": {},
   "outputs": [],
   "source": [
    "def esprimo(a):\n",
    "    if a <= 2:\n",
    "        print(\"No es primo\")\n",
    "        \n",
    "    else:\n",
    "        primo = True\n",
    "        for i in range (2, a):\n",
    "            if a % i == 0:\n",
    "                print(False)\n",
    "                primo = False\n",
    "                break\n",
    "                \n",
    "        if primo:\n",
    "            print(True)"
   ]
  },
  {
   "cell_type": "code",
   "execution_count": null,
   "id": "8cdcfcba-c860-4bfb-a0d7-784c0f774bbb",
   "metadata": {},
   "outputs": [],
   "source": []
  },
  {
   "cell_type": "code",
   "execution_count": null,
   "id": "81446f7c-f33c-47db-bb39-1c765c15bdd1",
   "metadata": {},
   "outputs": [],
   "source": []
  },
  {
   "cell_type": "code",
   "execution_count": null,
   "id": "e362e937-9d8a-47be-bc78-404fb9719d37",
   "metadata": {},
   "outputs": [],
   "source": []
  },
  {
   "cell_type": "code",
   "execution_count": 25,
   "id": "59880eba-d615-4e99-813a-bcc50f47016a",
   "metadata": {},
   "outputs": [],
   "source": [
    "#factorial\n",
    "#variable\n",
    "def factorial(a):\n",
    "    #contador\n",
    "    i = 1\n",
    "    \n",
    "    #ciclo\n",
    "    while a > 1:\n",
    "        i *= a\n",
    "        a-= 1\n",
    "        print(i)"
   ]
  },
  {
   "cell_type": "code",
   "execution_count": 27,
   "id": "053fc916-2eb2-49d8-afaa-9827506b3151",
   "metadata": {},
   "outputs": [
    {
     "name": "stdout",
     "output_type": "stream",
     "text": [
      "5\n",
      "20\n",
      "60\n",
      "120\n"
     ]
    }
   ],
   "source": [
    "factorial(5)"
   ]
  },
  {
   "cell_type": "code",
   "execution_count": null,
   "id": "7f4faae8-992c-4bed-92af-10e33a8764c7",
   "metadata": {},
   "outputs": [],
   "source": []
  },
  {
   "cell_type": "code",
   "execution_count": null,
   "id": "ccd41d8f-ed06-4f86-ab97-7cb8980be258",
   "metadata": {},
   "outputs": [],
   "source": []
  },
  {
   "cell_type": "code",
   "execution_count": null,
   "id": "accaa4eb-f4f9-440d-a3bf-55254df38c75",
   "metadata": {},
   "outputs": [],
   "source": [
    "Lmultiplos"
   ]
  }
 ],
 "metadata": {
  "kernelspec": {
   "display_name": "Python 3 (ipykernel)",
   "language": "python",
   "name": "python3"
  },
  "language_info": {
   "codemirror_mode": {
    "name": "ipython",
    "version": 3
   },
   "file_extension": ".py",
   "mimetype": "text/x-python",
   "name": "python",
   "nbconvert_exporter": "python",
   "pygments_lexer": "ipython3",
   "version": "3.12.4"
  }
 },
 "nbformat": 4,
 "nbformat_minor": 5
}
