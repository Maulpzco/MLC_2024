{
 "cells": [
  {
   "cell_type": "markdown",
   "id": "318694d0-33e1-44f1-9650-3443bbcd7f43",
   "metadata": {},
   "source": [
    "# Examen A Módulo 1 - Optimización.\n",
    "\n",
    "**Lea cuidadosamente las siguientes indicaciones antes de comenzar el examen:**\n",
    "- Para resolver el examen edite este mismo archivo y renómbrelo de la siguiente manera: *Examen1_ApellidoNombre*, donde *ApellidoNombre* corresponde a su apellido paterno con la inicial en mayúscula, seguido de su primer nombre con la inicial en mayúscula **sin tildes**. Por ejemplo, en mi caso el nombre del archivo sería *Examen1_MoralesGabriel*.\n",
    "- Resuelva los puntos en el espacio provisto. Si requiere agregar más celdas para código o escritura, hágalo (`Esc`,`B`) o (`Esc`,`A`).\n",
    "- Recuerde que también se está evaluando su capacidad de interpretar los resultados. Escriba sus interpretaciones/conclusiones en celdas utilizando *Markdown*.\n",
    "- El formato de presentación de todo el examen en general debe ser adecuado. Use tamaños de letra, colores, etiquetas, etcétera.\n",
    "- No se resuelven dudas de ningún tipo por los profesores de la asignatura. Por favor, absténgase de preguntar.\n",
    "- Revise bien el tipo de examen. Sólo se le calificará si realiza el tipo de examen asignado."
   ]
  },
  {
   "cell_type": "markdown",
   "id": "416c5986-27e8-4eac-84f7-d5ca143cbbae",
   "metadata": {},
   "source": [
    "## 1. Optimización de funciones con `Sympy`\n",
    "\n",
    "Funciones permitidas: subs, solve, var, expresiones matemáticas"
   ]
  },
  {
   "cell_type": "markdown",
   "id": "4f5051dd-a795-4ce5-9891-0461ea8c1b52",
   "metadata": {},
   "source": [
    "## 1-a"
   ]
  },
  {
   "cell_type": "markdown",
   "id": "07dadfa1-7f83-484a-909c-0150a65ce280",
   "metadata": {},
   "source": [
    "\n",
    "Un cine cobra 86 pesos la entrada estándar y 60 pesos la entrada a estudiantes. Una sala con capacidad para 120 personas se ocupó al 70\\%. Los ingresos para esa función fueron de 6,600 MXN. ¿Cuántos estudiantes entraron?"
   ]
  },
  {
   "cell_type": "markdown",
   "id": "2acc3fcf-5a98-4318-949e-5d3e13da5714",
   "metadata": {},
   "source": [
    "### Datos\n",
    "\n",
    "86 -- estandar -- x\n",
    "\n",
    "60 -- estudiante -- y\n",
    "\n",
    "120 personas al 70% --- 84 personas\n",
    "\n",
    "ingresos -- 6,600\n",
    "\n",
    "\n",
    "ecuación total\n",
    "\n",
    "86x + 60y = 6,600\n",
    "\n",
    "x + y = 84"
   ]
  },
  {
   "cell_type": "code",
   "execution_count": 7,
   "id": "c3055dbc-5c52-4727-9fa6-eab29d9e3694",
   "metadata": {},
   "outputs": [
    {
     "data": {
      "text/latex": [
       "$\\displaystyle 84 - x$"
      ],
      "text/plain": [
       "84 - x"
      ]
     },
     "execution_count": 7,
     "metadata": {},
     "output_type": "execute_result"
    }
   ],
   "source": [
    "import numpy as np\n",
    "import sympy as sp\n",
    "\n",
    "sp.var(\"x\")\n",
    "sp.var(\"y\")\n",
    "\n",
    "p = x + y - 84\n",
    "i = 86*x + 60*y - 6600\n",
    "\n",
    "#sustituir y\n",
    "y_ec = sp.solve(p, y)[0]\n",
    "\n",
    "y_ec\n"
   ]
  },
  {
   "cell_type": "code",
   "execution_count": 8,
   "id": "789f4501-2b81-44b3-83dd-4e757a6d90cd",
   "metadata": {},
   "outputs": [
    {
     "data": {
      "text/latex": [
       "$\\displaystyle 26 x - 1560$"
      ],
      "text/plain": [
       "26*x - 1560"
      ]
     },
     "execution_count": 8,
     "metadata": {},
     "output_type": "execute_result"
    }
   ],
   "source": [
    "# sustituir y en ec de ingresos\n",
    "\n",
    "i_x = i.subs(y, y_ec)\n",
    "i_x"
   ]
  },
  {
   "cell_type": "code",
   "execution_count": 9,
   "id": "11122380-1985-41ed-bcdf-d4bab5918fe5",
   "metadata": {
    "scrolled": true
   },
   "outputs": [
    {
     "data": {
      "text/plain": [
       "[60]"
      ]
     },
     "execution_count": 9,
     "metadata": {},
     "output_type": "execute_result"
    }
   ],
   "source": [
    "s_x = sp.solve(i_x, x)\n",
    "s_x"
   ]
  },
  {
   "cell_type": "code",
   "execution_count": 10,
   "id": "1b2f59ea-ef3e-40e1-9c0a-2539a64ebc13",
   "metadata": {},
   "outputs": [
    {
     "data": {
      "text/latex": [
       "$\\displaystyle y - 24$"
      ],
      "text/plain": [
       "y - 24"
      ]
     },
     "execution_count": 10,
     "metadata": {},
     "output_type": "execute_result"
    }
   ],
   "source": [
    "s_y = p.subs(x, s_x[0])\n",
    "s_y"
   ]
  },
  {
   "cell_type": "code",
   "execution_count": 11,
   "id": "5959779a-ad6e-40e1-b2ce-8efec8a0d3b6",
   "metadata": {},
   "outputs": [
    {
     "data": {
      "text/plain": [
       "[24]"
      ]
     },
     "execution_count": 11,
     "metadata": {},
     "output_type": "execute_result"
    }
   ],
   "source": [
    "s_yf = sp.solve(s_y, y)\n",
    "s_yf"
   ]
  },
  {
   "cell_type": "markdown",
   "id": "0991dc4b-931b-4ce5-ab47-df054b411e00",
   "metadata": {},
   "source": [
    "#### Resultados"
   ]
  },
  {
   "cell_type": "markdown",
   "id": "4eed83f2-e045-47c4-9364-a3eaacc68493",
   "metadata": {},
   "source": [
    "De lo anterior se puede concluir que: \n",
    "\n",
    "x = 60 estándar.\n",
    "\n",
    "y = 24 estudiantes.\n",
    "\n",
    "Por lo que había 60 estándar y 24 estudiantes"
   ]
  },
  {
   "cell_type": "markdown",
   "id": "923b41d3-7dc6-4a1c-8792-e8b48b29296d",
   "metadata": {},
   "source": [
    "### 1-b"
   ]
  },
  {
   "cell_type": "markdown",
   "id": "cb9897ae-f689-4575-82ad-d265f7243f77",
   "metadata": {},
   "source": [
    "El cine ofrece combos y opciones individuales. El combo 'amigos' tiene un costo de 156 MXN y consiste de 2 refrescos y unas palomitas. Existe también el combo 'nachos' que tiene un costo de 112 MXN y consiste de un refresco y una orden de nachos. Por separado el refresco tiene un costo de 60 MXN, las palomitas 58 MXN y los nachos 72 MXN. Se obtuvo un total de 6450 de ingresos en dulcería:\n",
    "\n",
    "- 38 combos vendidos\n",
    "- 70 refrescos vendidos\n",
    "- 33 órdenes de palomitas grandes vendidas\n",
    "- 16 órdenes de nachos vendidas\n",
    "\n",
    "¿Cuántas personas compraron palomitas sueltas?"
   ]
  },
  {
   "cell_type": "markdown",
   "id": "1874a24b-ca80-415d-8960-152f2dfa537f",
   "metadata": {},
   "source": [
    "### Datos dinero\n",
    "\n",
    "refresco -- r  -- 60 pesos\n",
    "\n",
    "palomitas -- p -- 58 pesos\n",
    "\n",
    "nachos -- n -- 72 pesos\n",
    "\n",
    "CA --- 2r + p = 156 pesos\n",
    "\n",
    "CN --- r + n = 112 pesos\n",
    "\n",
    "ingresos -- 6450\n",
    "\n",
    "### Datos cantidades\n",
    "\n",
    "CA + CN = 38\n",
    "\n",
    "refrescos = 700\n",
    "\n",
    "palomitas = 33\n",
    "\n",
    "nachos = 16\n"
   ]
  },
  {
   "cell_type": "code",
   "execution_count": 123,
   "id": "bc41bf74-c9a0-47db-9381-c39d2f675dd4",
   "metadata": {},
   "outputs": [],
   "source": [
    "import numpy as np\n",
    "import sympy as sp\n",
    "\n",
    "sp.var(\"CA\")\n",
    "sp.var(\"CN\")\n",
    "sp.var(\"r\")\n",
    "sp.var(\"p\")\n",
    "sp.var(\"n\")\n",
    "\n",
    "costo = 156*CA + 112*CN + 60*r + 58*p + 72*n - 6450\n",
    "\n",
    "combo = CA + CN - 38\n",
    "\n",
    "totpal = CA + p - 33\n",
    "\n",
    "totnac = CN + n - 16\n",
    "\n",
    "totref = 2*CA + CN + r - 70"
   ]
  },
  {
   "cell_type": "code",
   "execution_count": 193,
   "id": "6e85bf59-4d0b-4bc4-b81b-4ac4b0b1cfb7",
   "metadata": {},
   "outputs": [
    {
     "name": "stdout",
     "output_type": "stream",
     "text": [
      "16 - CN\n",
      "-2*CA - CN + 70\n"
     ]
    }
   ],
   "source": [
    "totnac2 = sp.solve(totnac, n)[0]\n",
    "totref2 = sp.solve(totref, r)[0]\n",
    "print(totnac2)\n",
    "print(totref2)"
   ]
  },
  {
   "cell_type": "code",
   "execution_count": 197,
   "id": "35ae1c8f-a1e0-4828-ab77-b067f569ec7a",
   "metadata": {},
   "outputs": [
    {
     "name": "stdout",
     "output_type": "stream",
     "text": [
      "CN =  38 - CA\n",
      "p =  33 - CA\n"
     ]
    }
   ],
   "source": [
    "combo_ca = sp.solve(combo, CN)[0]\n",
    "totpal_ca = sp.solve(totpal, p)[0]\n",
    "\n",
    "print(\"CN = \", combo_ca)\n",
    "print(\"p = \", totpal_ca)"
   ]
  },
  {
   "cell_type": "code",
   "execution_count": 199,
   "id": "54dc65cd-dc64-4d13-8d2c-1de1e2a18490",
   "metadata": {},
   "outputs": [
    {
     "data": {
      "text/latex": [
       "$\\displaystyle CA - 22$"
      ],
      "text/plain": [
       "CA - 22"
      ]
     },
     "execution_count": 199,
     "metadata": {},
     "output_type": "execute_result"
    }
   ],
   "source": [
    "totnac_ca = totnac2.subs(CN, combo_ca)\n",
    "totnac_ca"
   ]
  },
  {
   "cell_type": "code",
   "execution_count": 201,
   "id": "2f4c6a49-e4fc-4a1d-b1e4-217221668d2b",
   "metadata": {},
   "outputs": [
    {
     "data": {
      "text/latex": [
       "$\\displaystyle 32 - CA$"
      ],
      "text/plain": [
       "32 - CA"
      ]
     },
     "execution_count": 201,
     "metadata": {},
     "output_type": "execute_result"
    }
   ],
   "source": [
    "totref_ca = totref2.subs(CN, combo_ca)\n",
    "totref_ca"
   ]
  },
  {
   "cell_type": "code",
   "execution_count": 203,
   "id": "b1d9fc1b-4c41-4ccf-ad3e-77aea3aacdd0",
   "metadata": {},
   "outputs": [
    {
     "data": {
      "text/latex": [
       "$\\displaystyle 56 - 2 CA$"
      ],
      "text/plain": [
       "56 - 2*CA"
      ]
     },
     "execution_count": 203,
     "metadata": {},
     "output_type": "execute_result"
    }
   ],
   "source": [
    "costo1 = costo.subs(CN, combo_ca)\n",
    "costo2 = costo1.subs(p, totpal_ca)\n",
    "costo3 = costo2.subs(n, totnac_ca)\n",
    "costo4 = costo3.subs(r, totref_ca)\n",
    "costo4"
   ]
  },
  {
   "cell_type": "code",
   "execution_count": 209,
   "id": "c3ded6e0-b2c3-42dc-a923-2c2c59a6e142",
   "metadata": {
    "scrolled": true
   },
   "outputs": [
    {
     "data": {
      "text/latex": [
       "$\\displaystyle 28$"
      ],
      "text/plain": [
       "28"
      ]
     },
     "execution_count": 209,
     "metadata": {},
     "output_type": "execute_result"
    }
   ],
   "source": [
    "resCA = sp.solve(costo4, CA)[0]\n",
    "resCA"
   ]
  },
  {
   "cell_type": "code",
   "execution_count": 211,
   "id": "9ca38615-2b15-4986-9b24-87638ac2ea06",
   "metadata": {
    "scrolled": true
   },
   "outputs": [
    {
     "data": {
      "text/latex": [
       "$\\displaystyle p - 5$"
      ],
      "text/plain": [
       "p - 5"
      ]
     },
     "execution_count": 211,
     "metadata": {},
     "output_type": "execute_result"
    }
   ],
   "source": [
    "palomitas = totpal.subs(CA, resCA)\n",
    "palomitas"
   ]
  },
  {
   "cell_type": "code",
   "execution_count": 215,
   "id": "aeae9e1b-828e-4765-9adc-fc24c121d0d6",
   "metadata": {},
   "outputs": [
    {
     "data": {
      "text/latex": [
       "$\\displaystyle 5$"
      ],
      "text/plain": [
       "5"
      ]
     },
     "execution_count": 215,
     "metadata": {},
     "output_type": "execute_result"
    }
   ],
   "source": [
    "resf = sp.solve(palomitas, p)[0]\n",
    "resf"
   ]
  },
  {
   "cell_type": "markdown",
   "id": "5ad75354-de24-4a78-9924-a4c26fdf777b",
   "metadata": {},
   "source": [
    "#### Se vendieron 5 palomitas"
   ]
  },
  {
   "cell_type": "markdown",
   "id": "ab5836e7-1035-42cc-9c90-6f7178d2b733",
   "metadata": {},
   "source": [
    "## 2. Programación lineal"
   ]
  },
  {
   "cell_type": "markdown",
   "id": "86788769-18d8-49e5-9ec2-4ba4d8c0c1ce",
   "metadata": {},
   "source": [
    "Una empresa produce costales de 3 tipos de fertilizantes para diferentes aplicaciones utilizando cuantro componentes químicos: azufre, potasio, fósforo y nitrógeno. La información de cada tonelada de fertilizante es:\n"
   ]
  },
  {
   "cell_type": "markdown",
   "id": "2de8d90d-84ea-4537-887a-15127e2aaca7",
   "metadata": {},
   "source": [
    "<table>\n",
    "  <tr>\n",
    "      <th>Fertilizante</th>\n",
    "      <th>Fósforo</th>\n",
    "      <th>Azufre</th>\n",
    "      <th>Potasio</th>\n",
    "      <th>Nitrógeno</th>\n",
    "      <th>Precio de venta </th>\n",
    "  </tr>\n",
    "  <tr>\n",
    "      <td>A</td>\n",
    "      <td>3 kg</td>\n",
    "      <td>5 kg</td>\n",
    "      <td>4 kg</td>\n",
    "      <td>2 kg </td>\n",
    "      <td>\\$40000</td>\n",
    "  </tr>\n",
    "  <tr>\n",
    "      <td>B</td>\n",
    "      <td>4 kg</td>\n",
    "      <td>3 kg</td>\n",
    "      <td>2 kg</td>\n",
    "      <td>1 kg</td>\n",
    "      <td>\\$50000</td>\n",
    "  </tr>\n",
    "  <tr>\n",
    "      <td>C</td>\n",
    "      <td>5 kg</td>\n",
    "      <td>2 kg</td>\n",
    "      <td>3 kg</td>\n",
    "      <td>4 kg</td>\n",
    "      <td>\\$60000</td>\n",
    "  </tr>\n",
    "\n",
    "</table>"
   ]
  },
  {
   "cell_type": "markdown",
   "id": "c712fdf8-3adf-4294-aafc-50be5eb7743d",
   "metadata": {},
   "source": [
    "La máquina que se usa para mezclar el fertilizante C necesita mantenimiento y por lo tanto sólo puede mezclar 10 toneladas. Además, hay un pedido de 8 toneladas del fertilizante A."
   ]
  },
  {
   "cell_type": "markdown",
   "id": "3036f7ba-6c78-4184-88e6-a9beba0a4eba",
   "metadata": {},
   "source": [
    "Dado que en almacén se tienen 90 kg de fósforo, 120 kg de nitrógeno, 80 kg de azufre y 95 kg de potasio, ¿cuánto recomiendas que se mezcle de cada fertilizante? (Nota: No se permiten fracciones de toneladas)"
   ]
  },
  {
   "cell_type": "markdown",
   "id": "7b24bebc-1a49-4b0e-a39f-d1275280a012",
   "metadata": {},
   "source": [
    "### 1. Maximizar ganancia\n",
    "\n",
    "### 2. Definir Variables\n",
    "\n",
    "$ x_a - Fertilizante A $\n",
    "\n",
    "$ x_b - Fertilizante B $\n",
    "\n",
    "$ x_b - Fertilizante C $\n",
    "\n",
    "### 3. Función costo\n",
    "\n",
    "$ $ MAX f(x_a, x_b, x_c) = 40000x_a + 50000x_b + 60000x_c $ $\n",
    "\n",
    "### 4. Restricciones\n",
    "\n",
    "Fosforo $3A + 4B + 5C \\leq 90 $\n",
    "\n",
    "Azufre $5A + 3B + 2C \\leq 80 $\n",
    "\n",
    "Potasio $4A + 2B + 3C \\leq 95 $\n",
    "\n",
    "Nitrógeno $2A + 1B + 4C \\leq 120 $\n",
    "\n",
    "Mantenimiento $ C \\leq 10 $\n",
    "\n",
    "Pedido $ A \\geq 8  $\n"
   ]
  },
  {
   "cell_type": "code",
   "execution_count": 31,
   "id": "ef3f54f1-afaa-4c85-a0d5-2d3b31de4e76",
   "metadata": {},
   "outputs": [],
   "source": [
    "import numpy as np\n",
    "import scipy.optimize as opt"
   ]
  },
  {
   "cell_type": "code",
   "execution_count": 38,
   "id": "23897615-91a8-40e3-8d0f-425817b73dd6",
   "metadata": {},
   "outputs": [],
   "source": [
    "c = np.array ([-40000,\n",
    "               -50000,\n",
    "               -60000\n",
    "              ])\n",
    "\n",
    "aub = np.array ([\n",
    "    [  3,    4,    5],\n",
    "    [  5,    3,    2],\n",
    "    [  4,    2,    3],\n",
    "    [  2,    1,    4],\n",
    "    [  0,    0,    1],\n",
    "    [ -1,    0,    0]\n",
    "    ])\n",
    "\n",
    "bub = np.array ([\n",
    "    90,\n",
    "    80,\n",
    "    85,\n",
    "    120,\n",
    "    10,\n",
    "    -8\n",
    "    ])"
   ]
  },
  {
   "cell_type": "code",
   "execution_count": 40,
   "id": "4f0ce73a-ba09-4091-998d-3986610fe369",
   "metadata": {},
   "outputs": [],
   "source": [
    "sol = opt.linprog(c, aub, bub, integrality = 1)"
   ]
  },
  {
   "cell_type": "code",
   "execution_count": 42,
   "id": "7feea821-031b-4550-afb6-9676735443c9",
   "metadata": {},
   "outputs": [
    {
     "data": {
      "text/plain": [
       "        message: Optimization terminated successfully. (HiGHS Status 7: Optimal)\n",
       "        success: True\n",
       "         status: 0\n",
       "            fun: -1130000.0\n",
       "              x: [ 8.000e+00  9.000e+00  6.000e+00]\n",
       "            nit: -1\n",
       "          lower:  residual: [ 8.000e+00  9.000e+00  6.000e+00]\n",
       "                 marginals: [ 0.000e+00  0.000e+00  0.000e+00]\n",
       "          upper:  residual: [       inf        inf        inf]\n",
       "                 marginals: [ 0.000e+00  0.000e+00  0.000e+00]\n",
       "          eqlin:  residual: []\n",
       "                 marginals: []\n",
       "        ineqlin:  residual: [ 0.000e+00  1.000e+00  1.700e+01  7.100e+01\n",
       "                              4.000e+00  0.000e+00]\n",
       "                 marginals: [ 0.000e+00  0.000e+00  0.000e+00  0.000e+00\n",
       "                              0.000e+00  0.000e+00]\n",
       " mip_node_count: 1\n",
       " mip_dual_bound: -1130000.0\n",
       "        mip_gap: 0.0"
      ]
     },
     "execution_count": 42,
     "metadata": {},
     "output_type": "execute_result"
    }
   ],
   "source": [
    "sol"
   ]
  },
  {
   "cell_type": "markdown",
   "id": "37122386-1fe4-4c31-bd70-9da91932311c",
   "metadata": {},
   "source": [
    "¿Cuál es el ingreso total?"
   ]
  },
  {
   "cell_type": "code",
   "execution_count": 45,
   "id": "ceba489f-2bf7-4989-a51b-f57efae1b51b",
   "metadata": {},
   "outputs": [],
   "source": [
    "total = sol.fun"
   ]
  },
  {
   "cell_type": "code",
   "execution_count": 47,
   "id": "af18e068-430a-4d13-872f-6e6e68fdc4b7",
   "metadata": {},
   "outputs": [
    {
     "data": {
      "text/plain": [
       "1130000.0"
      ]
     },
     "execution_count": 47,
     "metadata": {},
     "output_type": "execute_result"
    }
   ],
   "source": [
    "total*-1"
   ]
  },
  {
   "cell_type": "markdown",
   "id": "5944d4b6-a651-47ec-91d8-f6e3666d62a3",
   "metadata": {},
   "source": [
    "¿Cuánto fósforo quedó en almacén?"
   ]
  },
  {
   "cell_type": "code",
   "execution_count": 50,
   "id": "a5297246-a6ab-4adb-88b7-5002723775be",
   "metadata": {},
   "outputs": [
    {
     "data": {
      "text/plain": [
       "90.0"
      ]
     },
     "execution_count": 50,
     "metadata": {},
     "output_type": "execute_result"
    }
   ],
   "source": [
    "fosF = (sol.x[0]*3) + (sol.x[1]*4) + (sol.x[2]*5)\n",
    "fosF"
   ]
  },
  {
   "cell_type": "markdown",
   "id": "6ea0580c-3e46-444f-b960-36f16884643b",
   "metadata": {},
   "source": [
    "Se usó un total de 90 ton de fósforo y habían 90 existentes"
   ]
  },
  {
   "cell_type": "code",
   "execution_count": 53,
   "id": "fc81e50f-0924-4684-9414-05f0a29e2379",
   "metadata": {},
   "outputs": [
    {
     "data": {
      "text/plain": [
       "0"
      ]
     },
     "execution_count": 53,
     "metadata": {},
     "output_type": "execute_result"
    }
   ],
   "source": [
    "90-90\n"
   ]
  },
  {
   "cell_type": "markdown",
   "id": "5837735d-4552-4fd3-919c-8c2250de718e",
   "metadata": {},
   "source": [
    "## 3. Regresión lineal"
   ]
  },
  {
   "cell_type": "markdown",
   "id": "4a308da2-7cba-4f2b-85f9-9b3655206ff2",
   "metadata": {},
   "source": [
    "Se quiere predecir la resistencia a la compresión de concreto en función de las proporciones de los componentes en la mezcla (cemento, arena, agua, agregado). La constructora que está realizando el análisis tiene datos históricos donde se registraron cantidades de materia y la resistencia medida:"
   ]
  },
  {
   "cell_type": "code",
   "execution_count": 57,
   "id": "7fd530bd-4cc0-4594-9fa4-e48a8d9eda0b",
   "metadata": {},
   "outputs": [
    {
     "data": {
      "text/html": [
       "<div>\n",
       "<style scoped>\n",
       "    .dataframe tbody tr th:only-of-type {\n",
       "        vertical-align: middle;\n",
       "    }\n",
       "\n",
       "    .dataframe tbody tr th {\n",
       "        vertical-align: top;\n",
       "    }\n",
       "\n",
       "    .dataframe thead th {\n",
       "        text-align: right;\n",
       "    }\n",
       "</style>\n",
       "<table border=\"1\" class=\"dataframe\">\n",
       "  <thead>\n",
       "    <tr style=\"text-align: right;\">\n",
       "      <th></th>\n",
       "      <th>Cemento (kg)</th>\n",
       "      <th>Arena (kg)</th>\n",
       "      <th>Agua (kg)</th>\n",
       "      <th>Agregado (kg)</th>\n",
       "      <th>Resistencia a la compresión (MPa)</th>\n",
       "    </tr>\n",
       "  </thead>\n",
       "  <tbody>\n",
       "    <tr>\n",
       "      <th>0</th>\n",
       "      <td>350</td>\n",
       "      <td>600</td>\n",
       "      <td>180</td>\n",
       "      <td>1000</td>\n",
       "      <td>35</td>\n",
       "    </tr>\n",
       "    <tr>\n",
       "      <th>1</th>\n",
       "      <td>400</td>\n",
       "      <td>550</td>\n",
       "      <td>160</td>\n",
       "      <td>1100</td>\n",
       "      <td>42</td>\n",
       "    </tr>\n",
       "    <tr>\n",
       "      <th>2</th>\n",
       "      <td>300</td>\n",
       "      <td>700</td>\n",
       "      <td>200</td>\n",
       "      <td>950</td>\n",
       "      <td>30</td>\n",
       "    </tr>\n",
       "    <tr>\n",
       "      <th>3</th>\n",
       "      <td>450</td>\n",
       "      <td>500</td>\n",
       "      <td>170</td>\n",
       "      <td>1200</td>\n",
       "      <td>50</td>\n",
       "    </tr>\n",
       "    <tr>\n",
       "      <th>4</th>\n",
       "      <td>380</td>\n",
       "      <td>580</td>\n",
       "      <td>175</td>\n",
       "      <td>1050</td>\n",
       "      <td>38</td>\n",
       "    </tr>\n",
       "    <tr>\n",
       "      <th>5</th>\n",
       "      <td>410</td>\n",
       "      <td>540</td>\n",
       "      <td>165</td>\n",
       "      <td>1150</td>\n",
       "      <td>44</td>\n",
       "    </tr>\n",
       "    <tr>\n",
       "      <th>6</th>\n",
       "      <td>320</td>\n",
       "      <td>650</td>\n",
       "      <td>185</td>\n",
       "      <td>980</td>\n",
       "      <td>32</td>\n",
       "    </tr>\n",
       "    <tr>\n",
       "      <th>7</th>\n",
       "      <td>370</td>\n",
       "      <td>590</td>\n",
       "      <td>172</td>\n",
       "      <td>1020</td>\n",
       "      <td>36</td>\n",
       "    </tr>\n",
       "    <tr>\n",
       "      <th>8</th>\n",
       "      <td>390</td>\n",
       "      <td>570</td>\n",
       "      <td>170</td>\n",
       "      <td>1080</td>\n",
       "      <td>40</td>\n",
       "    </tr>\n",
       "    <tr>\n",
       "      <th>9</th>\n",
       "      <td>360</td>\n",
       "      <td>610</td>\n",
       "      <td>190</td>\n",
       "      <td>970</td>\n",
       "      <td>34</td>\n",
       "    </tr>\n",
       "    <tr>\n",
       "      <th>10</th>\n",
       "      <td>340</td>\n",
       "      <td>630</td>\n",
       "      <td>182</td>\n",
       "      <td>990</td>\n",
       "      <td>33</td>\n",
       "    </tr>\n",
       "    <tr>\n",
       "      <th>11</th>\n",
       "      <td>430</td>\n",
       "      <td>520</td>\n",
       "      <td>165</td>\n",
       "      <td>1120</td>\n",
       "      <td>48</td>\n",
       "    </tr>\n",
       "    <tr>\n",
       "      <th>12</th>\n",
       "      <td>315</td>\n",
       "      <td>660</td>\n",
       "      <td>195</td>\n",
       "      <td>950</td>\n",
       "      <td>31</td>\n",
       "    </tr>\n",
       "    <tr>\n",
       "      <th>13</th>\n",
       "      <td>405</td>\n",
       "      <td>545</td>\n",
       "      <td>175</td>\n",
       "      <td>1060</td>\n",
       "      <td>43</td>\n",
       "    </tr>\n",
       "    <tr>\n",
       "      <th>14</th>\n",
       "      <td>425</td>\n",
       "      <td>530</td>\n",
       "      <td>168</td>\n",
       "      <td>1140</td>\n",
       "      <td>47</td>\n",
       "    </tr>\n",
       "    <tr>\n",
       "      <th>15</th>\n",
       "      <td>345</td>\n",
       "      <td>620</td>\n",
       "      <td>180</td>\n",
       "      <td>990</td>\n",
       "      <td>37</td>\n",
       "    </tr>\n",
       "    <tr>\n",
       "      <th>16</th>\n",
       "      <td>395</td>\n",
       "      <td>560</td>\n",
       "      <td>175</td>\n",
       "      <td>1040</td>\n",
       "      <td>41</td>\n",
       "    </tr>\n",
       "    <tr>\n",
       "      <th>17</th>\n",
       "      <td>355</td>\n",
       "      <td>605</td>\n",
       "      <td>185</td>\n",
       "      <td>1010</td>\n",
       "      <td>35</td>\n",
       "    </tr>\n",
       "    <tr>\n",
       "      <th>18</th>\n",
       "      <td>440</td>\n",
       "      <td>515</td>\n",
       "      <td>162</td>\n",
       "      <td>1160</td>\n",
       "      <td>49</td>\n",
       "    </tr>\n",
       "    <tr>\n",
       "      <th>19</th>\n",
       "      <td>310</td>\n",
       "      <td>670</td>\n",
       "      <td>198</td>\n",
       "      <td>940</td>\n",
       "      <td>29</td>\n",
       "    </tr>\n",
       "    <tr>\n",
       "      <th>20</th>\n",
       "      <td>385</td>\n",
       "      <td>575</td>\n",
       "      <td>178</td>\n",
       "      <td>1070</td>\n",
       "      <td>39</td>\n",
       "    </tr>\n",
       "    <tr>\n",
       "      <th>21</th>\n",
       "      <td>370</td>\n",
       "      <td>590</td>\n",
       "      <td>172</td>\n",
       "      <td>1030</td>\n",
       "      <td>36</td>\n",
       "    </tr>\n",
       "    <tr>\n",
       "      <th>22</th>\n",
       "      <td>425</td>\n",
       "      <td>535</td>\n",
       "      <td>170</td>\n",
       "      <td>1110</td>\n",
       "      <td>45</td>\n",
       "    </tr>\n",
       "    <tr>\n",
       "      <th>23</th>\n",
       "      <td>335</td>\n",
       "      <td>625</td>\n",
       "      <td>180</td>\n",
       "      <td>1025</td>\n",
       "      <td>33</td>\n",
       "    </tr>\n",
       "  </tbody>\n",
       "</table>\n",
       "</div>"
      ],
      "text/plain": [
       "    Cemento (kg)  Arena (kg)  Agua (kg)  Agregado (kg)  \\\n",
       "0            350         600        180           1000   \n",
       "1            400         550        160           1100   \n",
       "2            300         700        200            950   \n",
       "3            450         500        170           1200   \n",
       "4            380         580        175           1050   \n",
       "5            410         540        165           1150   \n",
       "6            320         650        185            980   \n",
       "7            370         590        172           1020   \n",
       "8            390         570        170           1080   \n",
       "9            360         610        190            970   \n",
       "10           340         630        182            990   \n",
       "11           430         520        165           1120   \n",
       "12           315         660        195            950   \n",
       "13           405         545        175           1060   \n",
       "14           425         530        168           1140   \n",
       "15           345         620        180            990   \n",
       "16           395         560        175           1040   \n",
       "17           355         605        185           1010   \n",
       "18           440         515        162           1160   \n",
       "19           310         670        198            940   \n",
       "20           385         575        178           1070   \n",
       "21           370         590        172           1030   \n",
       "22           425         535        170           1110   \n",
       "23           335         625        180           1025   \n",
       "\n",
       "    Resistencia a la compresión (MPa)  \n",
       "0                                  35  \n",
       "1                                  42  \n",
       "2                                  30  \n",
       "3                                  50  \n",
       "4                                  38  \n",
       "5                                  44  \n",
       "6                                  32  \n",
       "7                                  36  \n",
       "8                                  40  \n",
       "9                                  34  \n",
       "10                                 33  \n",
       "11                                 48  \n",
       "12                                 31  \n",
       "13                                 43  \n",
       "14                                 47  \n",
       "15                                 37  \n",
       "16                                 41  \n",
       "17                                 35  \n",
       "18                                 49  \n",
       "19                                 29  \n",
       "20                                 39  \n",
       "21                                 36  \n",
       "22                                 45  \n",
       "23                                 33  "
      ]
     },
     "execution_count": 57,
     "metadata": {},
     "output_type": "execute_result"
    }
   ],
   "source": [
    "import pandas as pd\n",
    "data = {\n",
    "    'Cemento (kg)': [350, 400, 300, 450, 380, 410, 320, 370, 390, 360, \n",
    "                     340, 430, 315, 405, 425, 345, 395, 355, 440, 310, \n",
    "                     385, 370, 425, 335],\n",
    "    'Arena (kg)': [600, 550, 700, 500, 580, 540, 650, 590, 570, 610, \n",
    "                   630, 520, 660, 545, 530, 620, 560, 605, 515, 670, \n",
    "                   575, 590, 535, 625],\n",
    "    'Agua (kg)': [180, 160, 200, 170, 175, 165, 185, 172, 170, 190, \n",
    "                  182, 165, 195, 175, 168, 180, 175, 185, 162, 198, \n",
    "                  178, 172, 170, 180],\n",
    "    'Agregado (kg)': [1000, 1100, 950, 1200, 1050, 1150, 980, 1020, 1080, 970, \n",
    "                      990, 1120, 950, 1060, 1140, 990, 1040, 1010, 1160, 940, \n",
    "                      1070, 1030, 1110, 1025],\n",
    "    'Resistencia a la compresión (MPa)': [35, 42, 30, 50, 38, 44, 32, 36, 40, 34, \n",
    "                                          33, 48, 31, 43, 47, 37, 41, 35, 49, 29, \n",
    "                                          39, 36, 45, 33]\n",
    "}\n",
    "data = pd.DataFrame(data)\n",
    "data"
   ]
  },
  {
   "cell_type": "markdown",
   "id": "f1cc1217-2c41-4082-961b-8369dd6f628a",
   "metadata": {},
   "source": [
    "Ajusta un modelo utilizando mínimos cuadrados para encontrar una función que pueda predecir la resistencia del concreto."
   ]
  },
  {
   "cell_type": "code",
   "execution_count": 60,
   "id": "ad291701-9ab6-494e-ab9f-0bbd017ced75",
   "metadata": {},
   "outputs": [],
   "source": [
    "import numpy as np\n",
    "import matplotlib.pyplot as plt\n",
    "import scipy.optimize as opt"
   ]
  },
  {
   "cell_type": "code",
   "execution_count": 61,
   "id": "dc43a29f-8c10-4daf-bf78-772807c42946",
   "metadata": {},
   "outputs": [],
   "source": [
    "y = data[\"Resistencia a la compresión (MPa)\"]\n",
    "x1 = data[\"Cemento (kg)\"]\n",
    "x2 = data[\"Arena (kg)\"]\n",
    "x3 = data[\"Agua (kg)\"]\n",
    "x4 = data[\"Agregado (kg)\"]\n",
    "\n",
    "n = len(y)\n",
    "ones = np.ones([n, 1])\n",
    "xo1 = np.reshape(x1, [n, 1])\n",
    "xo2 = np.reshape(x2, [n, 1])\n",
    "xo3 = np.reshape(x3, [n, 1])\n",
    "xo4 = np.reshape(x4, [n, 1])\n",
    "X = np.hstack((ones, xo1, xo2, xo3, xo4))\n",
    "y_vec = np.reshape(y,[n, 1])"
   ]
  },
  {
   "cell_type": "code",
   "execution_count": 62,
   "id": "e0d9fb4e-2d6b-4477-933d-105ec1f43edd",
   "metadata": {
    "scrolled": true
   },
   "outputs": [
    {
     "data": {
      "text/plain": [
       "(array([[1.000e+00, 3.500e+02, 6.000e+02, 1.800e+02, 1.000e+03],\n",
       "        [1.000e+00, 4.000e+02, 5.500e+02, 1.600e+02, 1.100e+03],\n",
       "        [1.000e+00, 3.000e+02, 7.000e+02, 2.000e+02, 9.500e+02],\n",
       "        [1.000e+00, 4.500e+02, 5.000e+02, 1.700e+02, 1.200e+03],\n",
       "        [1.000e+00, 3.800e+02, 5.800e+02, 1.750e+02, 1.050e+03],\n",
       "        [1.000e+00, 4.100e+02, 5.400e+02, 1.650e+02, 1.150e+03],\n",
       "        [1.000e+00, 3.200e+02, 6.500e+02, 1.850e+02, 9.800e+02],\n",
       "        [1.000e+00, 3.700e+02, 5.900e+02, 1.720e+02, 1.020e+03],\n",
       "        [1.000e+00, 3.900e+02, 5.700e+02, 1.700e+02, 1.080e+03],\n",
       "        [1.000e+00, 3.600e+02, 6.100e+02, 1.900e+02, 9.700e+02],\n",
       "        [1.000e+00, 3.400e+02, 6.300e+02, 1.820e+02, 9.900e+02],\n",
       "        [1.000e+00, 4.300e+02, 5.200e+02, 1.650e+02, 1.120e+03],\n",
       "        [1.000e+00, 3.150e+02, 6.600e+02, 1.950e+02, 9.500e+02],\n",
       "        [1.000e+00, 4.050e+02, 5.450e+02, 1.750e+02, 1.060e+03],\n",
       "        [1.000e+00, 4.250e+02, 5.300e+02, 1.680e+02, 1.140e+03],\n",
       "        [1.000e+00, 3.450e+02, 6.200e+02, 1.800e+02, 9.900e+02],\n",
       "        [1.000e+00, 3.950e+02, 5.600e+02, 1.750e+02, 1.040e+03],\n",
       "        [1.000e+00, 3.550e+02, 6.050e+02, 1.850e+02, 1.010e+03],\n",
       "        [1.000e+00, 4.400e+02, 5.150e+02, 1.620e+02, 1.160e+03],\n",
       "        [1.000e+00, 3.100e+02, 6.700e+02, 1.980e+02, 9.400e+02],\n",
       "        [1.000e+00, 3.850e+02, 5.750e+02, 1.780e+02, 1.070e+03],\n",
       "        [1.000e+00, 3.700e+02, 5.900e+02, 1.720e+02, 1.030e+03],\n",
       "        [1.000e+00, 4.250e+02, 5.350e+02, 1.700e+02, 1.110e+03],\n",
       "        [1.000e+00, 3.350e+02, 6.250e+02, 1.800e+02, 1.025e+03]]),\n",
       " array([[35],\n",
       "        [42],\n",
       "        [30],\n",
       "        [50],\n",
       "        [38],\n",
       "        [44],\n",
       "        [32],\n",
       "        [36],\n",
       "        [40],\n",
       "        [34],\n",
       "        [33],\n",
       "        [48],\n",
       "        [31],\n",
       "        [43],\n",
       "        [47],\n",
       "        [37],\n",
       "        [41],\n",
       "        [35],\n",
       "        [49],\n",
       "        [29],\n",
       "        [39],\n",
       "        [36],\n",
       "        [45],\n",
       "        [33]], dtype=int64))"
      ]
     },
     "execution_count": 62,
     "metadata": {},
     "output_type": "execute_result"
    }
   ],
   "source": [
    "X, y_vec"
   ]
  },
  {
   "cell_type": "code",
   "execution_count": 63,
   "id": "5f71b4b0-241d-45f0-a189-2a2294e32cde",
   "metadata": {},
   "outputs": [
    {
     "data": {
      "text/plain": [
       "  message: Optimization terminated successfully.\n",
       "  success: True\n",
       "   status: 0\n",
       "      fun: 29.8498916805912\n",
       "        x: [-5.576e+01  1.374e-01  2.436e-02  1.949e-02  2.397e-02]\n",
       "      nit: 12\n",
       "      jac: [ 0.000e+00  4.768e-07  2.384e-07  0.000e+00  2.384e-07]\n",
       " hess_inv: [[ 4.516e+02 -5.329e-01 ...  1.504e-01 -3.510e-03]\n",
       "            [-5.329e-01  8.619e-04 ... -4.440e-04 -9.387e-05]\n",
       "            ...\n",
       "            [ 1.504e-01 -4.440e-04 ...  1.187e-03  8.075e-05]\n",
       "            [-3.510e-03 -9.387e-05 ...  8.075e-05  4.317e-05]]\n",
       "     nfev: 156\n",
       "     njev: 26"
      ]
     },
     "execution_count": 63,
     "metadata": {},
     "output_type": "execute_result"
    }
   ],
   "source": [
    "n, p = X.shape\n",
    "beta = np.random.rand(p)\n",
    "\n",
    "def fn(beta, X, y):\n",
    "    beta = np.reshape(beta, [p, 1])\n",
    "    y_pred = X@beta\n",
    "    error = y_pred-y\n",
    "    rss = error.T@error\n",
    "    return rss\n",
    "\n",
    "rss = opt.minimize(fn, beta, args=(X, y_vec))\n",
    "rss"
   ]
  },
  {
   "cell_type": "markdown",
   "id": "1415a350-3a0f-4697-b1d3-130b7e5950e8",
   "metadata": {},
   "source": [
    "¿Qué efecto tiene cada factor en la resistencia de la mezcla?"
   ]
  },
  {
   "cell_type": "markdown",
   "id": "6222684a-77cc-4c6b-b296-d46195c4eb43",
   "metadata": {},
   "source": [
    "Los distintos factores afectan demasiado en la resistencia de la mezcla, ya que cada componente son las variables independientes y la Y que sería la resistencia es la variable dependiente.\n",
    "\n",
    "La cantidad de agua, cemento, agregados afectan al resultado final."
   ]
  },
  {
   "cell_type": "markdown",
   "id": "89a911f1-641a-45c4-b4b8-b2f86ce5b5e6",
   "metadata": {},
   "source": [
    "¿Cuál será la resistencia si mezclo 390 kg de cemento, 570 kg de arena, 170 kg de agua y 1080 kg de agregado?"
   ]
  },
  {
   "cell_type": "code",
   "execution_count": 71,
   "id": "3e57568b-fc14-4798-a2cd-7c8d64e9b0da",
   "metadata": {},
   "outputs": [
    {
     "data": {
      "text/plain": [
       "40.90572546084262"
      ]
     },
     "execution_count": 71,
     "metadata": {},
     "output_type": "execute_result"
    }
   ],
   "source": [
    "Resistencia = rss.x[0] + (rss.x[1]*390) + (rss.x[2]*570) + (rss.x[3]*170) + (rss.x[4]*1080) \n",
    "Resistencia"
   ]
  },
  {
   "cell_type": "markdown",
   "id": "077149c9-ed47-438a-bf64-f715a817727d",
   "metadata": {},
   "source": [
    "## 4. Regresión logística"
   ]
  },
  {
   "cell_type": "markdown",
   "id": "0e9a4289-4c6e-4851-a1f4-3cc8cc3ab833",
   "metadata": {},
   "source": [
    "Un equipo de ingenieros quiere saber si una muestra de concreto hidráulico fallará o no bajo determinadas condiciones, basándose en experiencias pasadas.\n",
    "\n",
    "<table>\r\n",
    "  <thead>\r\n",
    "    <tr>\r\n",
    "      <th>Resistencia a la compresión (MPa)</th>\r\n",
    "      <th>Edad del concreto (días)</th>\r\n",
    "      <th>Relación agua-cemento</th>\r\n",
    "      <th>Falla (Sí/No)</th>\r\n",
    "    </tr>\r\n",
    "  </thead>\r\n",
    "  <tbody>\r\n",
    "    <tr>\r\n",
    "      <td>25</td>\r\n",
    "      <td>28</td>\r\n",
    "      <td>0.45</td>\r\n",
    "      <td>Sí</td>\r\n",
    "    </tr>\r\n",
    "    <tr>\r\n",
    "      <td>40</td>\r\n",
    "      <td>56</td>\r\n",
    "      <td>0.35</td>\r\n",
    "      <td>No</td>\r\n",
    "    </tr>\r\n",
    "    <tr>\r\n",
    "      <td>30</td>\r\n",
    "      <td>28</td>\r\n",
    "      <td>0.50</td>\r\n",
    "      <td>Sí</td>\r\n",
    "    </tr>\r\n",
    "    <tr>\r\n",
    "      <td>50</td>\r\n",
    "      <td>90</td>\r\n",
    "      <td>0.30</td>\r\n",
    "      <td>No</td>\r\n",
    "    </tr>\r\n",
    "    <tr>\r\n",
    "      <td>35</td>\r\n",
    "      <td>28</td>\r\n",
    "      <td>0.40</td>\r\n",
    "      <td>Sí</td>\r\n",
    "    </tr>\r\n",
    "    <tr>\r\n",
    "      <td>55</td>\r\n",
    "      <td>120</td>\r\n",
    "      <td>0.32</td>\r\n",
    "      <td>No</td>\r\n",
    "    </tr>\r\n",
    "    <tr>\r\n",
    "      <td>45</td>\r\n",
    "      <td>60</td>\r\n",
    "      <td>0.36</td>\r\n",
    "      <td>No</td>\r\n",
    "    </tr>\r\n",
    "    <tr>\r\n",
    "      <td>20</td>\r\n",
    "      <td>7</td>\r\n",
    "      <td>0.55</td>\r\n",
    "      <td>Sí</td>\r\n",
    "    </tr>\r\n",
    "  </tbody>\r\n",
    "</table>\n"
   ]
  },
  {
   "cell_type": "markdown",
   "id": "5911243f-05cf-4009-896d-1ff1354fc1bf",
   "metadata": {},
   "source": [
    "1. ¿Qué factor afecta más? (Utiliza un vector de ceros como tu beta inicial)"
   ]
  },
  {
   "cell_type": "code",
   "execution_count": 76,
   "id": "fdbfa562-bad0-4897-b432-b51e954d2350",
   "metadata": {},
   "outputs": [],
   "source": [
    "Res = [25, 40, 30, 50, 35, 55, 45, 20]\n",
    "Edad = [28, 56, 28, 90, 28, 120, 60, 7]\n",
    "Rel  = [.45, .35, .5, .3, .4, .32, .36, .55]\n",
    "Falla = [1, 0, 1, 0, 1, 0, 0, 1]"
   ]
  },
  {
   "cell_type": "code",
   "execution_count": 78,
   "id": "49eba297-c977-4ee2-97e3-e609328653cb",
   "metadata": {},
   "outputs": [
    {
     "data": {
      "text/plain": [
       "array([[  1.  ,  25.  ,  28.  ,   0.45],\n",
       "       [  1.  ,  40.  ,  56.  ,   0.35],\n",
       "       [  1.  ,  30.  ,  28.  ,   0.5 ],\n",
       "       [  1.  ,  50.  ,  90.  ,   0.3 ],\n",
       "       [  1.  ,  35.  ,  28.  ,   0.4 ],\n",
       "       [  1.  ,  55.  , 120.  ,   0.32],\n",
       "       [  1.  ,  45.  ,  60.  ,   0.36],\n",
       "       [  1.  ,  20.  ,   7.  ,   0.55]])"
      ]
     },
     "execution_count": 78,
     "metadata": {},
     "output_type": "execute_result"
    }
   ],
   "source": [
    "n = len(Falla)\n",
    "ones = np.ones([n, 1])\n",
    "ResR = np.reshape(Res, [n, 1])\n",
    "EdadR = np.reshape(Edad, [n, 1])\n",
    "RelR = np.reshape(Rel, [n, 1])\n",
    "X = np.hstack([ones, ResR, EdadR, RelR])\n",
    "X"
   ]
  },
  {
   "cell_type": "code",
   "execution_count": 94,
   "id": "7bd205e7-f03e-459b-8919-7502eff09628",
   "metadata": {},
   "outputs": [
    {
     "data": {
      "text/plain": [
       "array([[1],\n",
       "       [0],\n",
       "       [1],\n",
       "       [0],\n",
       "       [1],\n",
       "       [0],\n",
       "       [0],\n",
       "       [1]])"
      ]
     },
     "execution_count": 94,
     "metadata": {},
     "output_type": "execute_result"
    }
   ],
   "source": [
    "y_vec = np.reshape(Falla, (n, 1))\n",
    "y_vec"
   ]
  },
  {
   "cell_type": "code",
   "execution_count": 177,
   "id": "57d7b17c-b581-4492-9725-5ac4f71e0609",
   "metadata": {},
   "outputs": [
    {
     "data": {
      "text/plain": [
       "  message: Optimization terminated successfully.\n",
       "  success: True\n",
       "   status: 0\n",
       "      fun: 3.694208075913603e-07\n",
       "        x: [ 2.007e+01  2.134e+00 -2.272e+00  1.284e+01]\n",
       "      nit: 26\n",
       "      jac: [ 2.235e-08  4.508e-06  6.996e-06 -1.490e-08]\n",
       " hess_inv: [[ 1.637e+06  1.576e+05 -1.723e+05  1.047e+06]\n",
       "            [ 1.576e+05  1.517e+04 -1.659e+04  1.008e+05]\n",
       "            [-1.723e+05 -1.659e+04  1.814e+04 -1.102e+05]\n",
       "            [ 1.047e+06  1.008e+05 -1.102e+05  6.694e+05]]\n",
       "     nfev: 150\n",
       "     njev: 30"
      ]
     },
     "execution_count": 177,
     "metadata": {},
     "output_type": "execute_result"
    }
   ],
   "source": [
    "def prediccion(beta, X):\n",
    "    return 1/(1+np.exp(-X@beta))\n",
    "\n",
    "def J(beta, X, y):\n",
    "    eps = 1e-10\n",
    "    n, p = X.shape\n",
    "    beta = np.reshape(beta, [p , 1])\n",
    "    y_pred = prediccion(beta, X)\n",
    "    e = y*np.log(y_pred + eps) + (1-y) * np.log(1 - y_pred + eps)\n",
    "    return-np.sum(e)\n",
    "\n",
    "beta = [0, 0, 0, 0]\n",
    "rrs = opt.minimize(J, beta, args=(X, y_vec))\n",
    "rrs"
   ]
  },
  {
   "cell_type": "markdown",
   "id": "507337c2-1ef4-4abf-99d4-319dadfaf2d3",
   "metadata": {},
   "source": [
    "2. Calcula la probabilidad de falla para una muestra con las siguientes características:\n",
    "- Resistencia a la compresión: 38 MPa\n",
    "- Edad del concreto: 30 días\n",
    "- Relación agua-cemento: 0.40"
   ]
  },
  {
   "cell_type": "code",
   "execution_count": 180,
   "id": "e4b6b71a-0e68-40d6-ba60-6c91407ebbbe",
   "metadata": {},
   "outputs": [
    {
     "data": {
      "text/plain": [
       "38.13082265129149"
      ]
     },
     "execution_count": 180,
     "metadata": {},
     "output_type": "execute_result"
    }
   ],
   "source": [
    "info = (rrs.x[0] + rrs.x[1]*38 + rrs.x[2]*30 + rrs.x[3]*.4)\n",
    "info"
   ]
  },
  {
   "cell_type": "code",
   "execution_count": 182,
   "id": "f1b5c4da-35ca-49b4-98f8-f58201d4cfb7",
   "metadata": {},
   "outputs": [
    {
     "data": {
      "text/plain": [
       "1.0"
      ]
     },
     "execution_count": 182,
     "metadata": {},
     "output_type": "execute_result"
    }
   ],
   "source": [
    "res = 1/(1+np.exp(-info))\n",
    "res"
   ]
  },
  {
   "cell_type": "markdown",
   "id": "c2c9d6ee-36f7-48f4-b445-754823e08da4",
   "metadata": {},
   "source": [
    "#### 1 = Fallará"
   ]
  }
 ],
 "metadata": {
  "kernelspec": {
   "display_name": "Python 3 (ipykernel)",
   "language": "python",
   "name": "python3"
  },
  "language_info": {
   "codemirror_mode": {
    "name": "ipython",
    "version": 3
   },
   "file_extension": ".py",
   "mimetype": "text/x-python",
   "name": "python",
   "nbconvert_exporter": "python",
   "pygments_lexer": "ipython3",
   "version": "3.12.4"
  }
 },
 "nbformat": 4,
 "nbformat_minor": 5
}
