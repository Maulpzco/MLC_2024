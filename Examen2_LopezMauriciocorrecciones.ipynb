{
 "cells": [
  {
   "cell_type": "markdown",
   "id": "8bc2f283",
   "metadata": {
    "colab_type": "text",
    "id": "GJV4HZf_7eDM"
   },
   "source": [
    "# Examen Módulo 2 Mauricio López\n",
    "\n",
    "**Mantenga la calma y lea cuidadosamente las siguientes indicaciones antes de comenzar el examen:**\n",
    "- Para resolver el examen edite este mismo archivo y renómbrelo de la siguiente manera: *Examen2_ApellidoNombre*, donde *ApellidoNombre* corresponde a su apellido paterno con la inicial en mayúscula, seguido de su primer nombre con la inicial en mayúscula **sin acentos**. Por ejemplo, en mi caso el nombre del archivo sería *Examen2_MoralesGabriel*.\n",
    "- Resuelva los puntos en el espacio provisto. Si requiere agregar más celdas para código o escritura, hágalo (`Esc`+`B`) o (`Esc`+`A`).\n",
    "- Recuerde que también se está evaluando su capacidad de interpretar los resultados. Escriba sus interpretaciones/conclusiones en celdas utilizando *Markdown*.\n",
    "- El formato de presentación de todo el examen en general debe ser adecuado. Use tamaños de letra, colores, etiquetas, etcétera.\n",
    "- No se resuelven dudas de ningún tipo por los profesores de la asignatura. Por favor absténgase de preguntar."
   ]
  },
  {
   "cell_type": "markdown",
   "id": "30ec3475",
   "metadata": {},
   "source": [
    "# ANTES DE EMPEZAR"
   ]
  },
  {
   "cell_type": "markdown",
   "id": "c2e65c9c",
   "metadata": {},
   "source": [
    "Escribe tu número de expediente como semilla"
   ]
  },
  {
   "cell_type": "code",
   "execution_count": 1,
   "id": "dddea116-4472-430d-9605-1e24891a29e0",
   "metadata": {},
   "outputs": [
    {
     "name": "stdout",
     "output_type": "stream",
     "text": [
      "Integración Monte Carlo tipo 1 - Problema  2\n",
      "Integración Monte Carlo tipo 2 - Problema  1\n"
     ]
    }
   ],
   "source": [
    "import numpy as np\n",
    "np.random.seed(759715)\n",
    "print(\"Integración Monte Carlo tipo 1 - Problema \", np.random.choice([1, 2]))\n",
    "print(\"Integración Monte Carlo tipo 2 - Problema \", np.random.choice([1, 2]))"
   ]
  },
  {
   "cell_type": "markdown",
   "id": "1d86d5b8-9344-4241-9744-da3bae25c4db",
   "metadata": {},
   "source": [
    "---\n",
    "### Caminata aleatoria"
   ]
  },
  {
   "cell_type": "markdown",
   "id": "5449e0ce-0f65-4722-8e02-663390ac3489",
   "metadata": {},
   "source": [
    "Una persona entra a un casino con 20 pesos.\n",
    "\n",
    "Su apuesta inicial es de 10 pesos, y tiene la idea de modificar su apuesta de la siguiente manera:\n",
    "- Si gana, disminuye su apuesta en 2 pesos\n",
    "- Si pierde, aumenta su apuesta en 2 pesos\n",
    "\n",
    "Este jugador apostará hasta que haya ganado lo suficiente para que su apuesta se vuelva 0 o cuando quede en bancarrota.\n",
    "\n",
    "1. ¿Cuál es el capital esperado?\n",
    "2. En promedio, ¿cuánto apostará en el tercer juego?\n",
    "3. ¿Cuál es la probabilidad de que quede en bancarrota?\n",
    "4. ¿Cuál es la probabilidad de que \"gane\"? (Que su apuesta se vuelva cero)"
   ]
  },
  {
   "cell_type": "code",
   "execution_count": 1,
   "id": "73ec31ea-462a-4782-9cd2-d33bd25dcf1b",
   "metadata": {},
   "outputs": [],
   "source": [
    "import numpy as np\n",
    "n = 10\n",
    "\n",
    "def apostar(n):\n",
    "    capinicial = 20\n",
    "    bet = 10\n",
    "    res = []\n",
    "\n",
    "    for i in range (n):\n",
    "        bank = capinicial\n",
    "        newbet = bet\n",
    "        rondas = []\n",
    "\n",
    "        while bank > 0 and bet > 0:\n",
    "            res = np.random.randint(0, 2, n)\n",
    "            \n",
    "     \n",
    "        \n",
    " \n",
    "        \n"
   ]
  },
  {
   "cell_type": "markdown",
   "id": "97a6a36f-7368-4ec3-97ce-69276f726606",
   "metadata": {},
   "source": [
    "---\n",
    "### Simulación Monte Carlo\n",
    "\n",
    "Jugadores A y B están jugando a tirar una moneda sesgada (60\\% de probabilidad de caer en águila) por turnos. El jugador A empieza el juego y luego va el jugador B. Se lanza la moneda por turnos hasta que alguien tira águila y gana. ¿Cuál es la probabilidad de que el jugador A gane?"
   ]
  },
  {
   "cell_type": "code",
   "execution_count": 161,
   "id": "81fde7a5-6d3c-4115-bc7c-9bb989e0d0d7",
   "metadata": {},
   "outputs": [],
   "source": [
    "n = 1000000\n",
    "A = 0\n",
    "B = 0\n",
    "#aguila = 1\n",
    "#sello = 0\n",
    "\n",
    "for i in range(n):\n",
    "    gana = np.random.choice([0, 1], p=[0.4, 0.6])\n",
    "    if gana == 1:\n",
    "        A += 1\n",
    "    else:\n",
    "        B += 1\n",
    "\n"
   ]
  },
  {
   "cell_type": "code",
   "execution_count": 162,
   "id": "72b1a1c4-a87d-4ad1-968f-0bde06e4d278",
   "metadata": {},
   "outputs": [
    {
     "data": {
      "text/plain": [
       "0.600229"
      ]
     },
     "execution_count": 162,
     "metadata": {},
     "output_type": "execute_result"
    }
   ],
   "source": [
    "A / n"
   ]
  },
  {
   "cell_type": "markdown",
   "id": "d06eddf0-b483-43a6-b356-559fe9486197",
   "metadata": {},
   "source": [
    "---\n",
    "### Integración Monte Carlo tipo 1 - Problema 1\n",
    "$$ f_1(x) = 5\\frac{\\sin{x}}{x} $$\n",
    "$$ f_2(x) = \\frac{1}{8} $$"
   ]
  },
  {
   "cell_type": "markdown",
   "id": "9c3b8c39-83a7-493f-a79b-0b18e80c5590",
   "metadata": {},
   "source": [
    "Dadas $f_1$ y $f_2$, ¿cuál es el área que hay entre las dos curvas en un intervalo de $[0.1, 7]$? (Aproxima los cruces)"
   ]
  },
  {
   "cell_type": "code",
   "execution_count": 121,
   "id": "31310462-d5a7-43c0-a555-210d95f23ad4",
   "metadata": {},
   "outputs": [],
   "source": [
    "def f1(x):\n",
    "    return (5 * (np.sin(x) / x ))"
   ]
  },
  {
   "cell_type": "code",
   "execution_count": 123,
   "id": "e603cfc8-c5ba-4dd5-bd2a-ab5c5e2dac0a",
   "metadata": {},
   "outputs": [],
   "source": [
    "def f2(x):\n",
    "    return (1/8)"
   ]
  },
  {
   "cell_type": "markdown",
   "id": "6460e1e7-9566-4d9f-b969-e1a6aa2e2bc2",
   "metadata": {},
   "source": [
    "## Sección 1"
   ]
  },
  {
   "cell_type": "code",
   "execution_count": 127,
   "id": "9b764187-10fa-4a47-b85a-86365fb731a0",
   "metadata": {},
   "outputs": [
    {
     "data": {
      "text/plain": [
       "9.253798820436733"
      ]
     },
     "execution_count": 127,
     "metadata": {},
     "output_type": "execute_result"
    }
   ],
   "source": [
    "#funcion 1\n",
    "\n",
    "def montecarlo1(fn, a, b, n):\n",
    "    u = np.random.uniform(a, b, n)\n",
    "    return (b-a)/float(n)*np.sum(f1(u))\n",
    "\n",
    "A = 0\n",
    "B = 3.1\n",
    "n = 100000\n",
    "\n",
    "Area1 = montecarlo1(f1(x), A, B, n)\n",
    "Area1"
   ]
  },
  {
   "cell_type": "code",
   "execution_count": 129,
   "id": "ec402c3f-c148-43b7-91cb-1f4c0992eeb1",
   "metadata": {},
   "outputs": [
    {
     "data": {
      "text/plain": [
       "3.875e-06"
      ]
     },
     "execution_count": 129,
     "metadata": {},
     "output_type": "execute_result"
    }
   ],
   "source": [
    "def montecarlo1(fn, a, b, n):\n",
    "    u = np.random.uniform(a, b, n)\n",
    "    return (b-a)/float(n)*np.sum(f2(u))\n",
    "\n",
    "A = 0\n",
    "B = 3.1\n",
    "n = 100000\n",
    "\n",
    "Area2 = montecarlo1(f2(x), A, B, n)\n",
    "Area2"
   ]
  },
  {
   "cell_type": "code",
   "execution_count": 131,
   "id": "a31030de-18a8-4c68-b869-33a7e755da85",
   "metadata": {},
   "outputs": [
    {
     "data": {
      "text/plain": [
       "9.253794945436733"
      ]
     },
     "execution_count": 131,
     "metadata": {},
     "output_type": "execute_result"
    }
   ],
   "source": [
    "Seccion1 = Area1 - Area2\n",
    "Seccion1"
   ]
  },
  {
   "cell_type": "markdown",
   "id": "ff9a40fe-cb7f-47c4-8aac-0a6e271b4094",
   "metadata": {},
   "source": [
    "## Seccion2"
   ]
  },
  {
   "cell_type": "code",
   "execution_count": 135,
   "id": "14553376-331b-4b59-929d-49db1e328279",
   "metadata": {},
   "outputs": [
    {
     "data": {
      "text/plain": [
       "-2.169604897910175"
      ]
     },
     "execution_count": 135,
     "metadata": {},
     "output_type": "execute_result"
    }
   ],
   "source": [
    "#funcion 1\n",
    "\n",
    "def montecarlo1(fn, a, b, n):\n",
    "    u = np.random.uniform(a, b, n)\n",
    "    return (b-a)/float(n)*np.sum(f1(u))\n",
    "\n",
    "A = 3.1\n",
    "B = 6.4\n",
    "n = 100000\n",
    "\n",
    "Area1 = montecarlo1(f1(x), A, B, n)\n",
    "Area1"
   ]
  },
  {
   "cell_type": "code",
   "execution_count": 137,
   "id": "232614a7-1ab2-4bbe-935b-3e66da52ca12",
   "metadata": {},
   "outputs": [
    {
     "data": {
      "text/plain": [
       "4.125e-06"
      ]
     },
     "execution_count": 137,
     "metadata": {},
     "output_type": "execute_result"
    }
   ],
   "source": [
    "def montecarlo1(fn, a, b, n):\n",
    "    u = np.random.uniform(a, b, n)\n",
    "    return (b-a)/float(n)*np.sum(f2(u))\n",
    "\n",
    "A = 3.1\n",
    "B = 6.4\n",
    "n = 100000\n",
    "\n",
    "Area2 = montecarlo1(f2(x), A, B, n)\n",
    "Area2"
   ]
  },
  {
   "cell_type": "code",
   "execution_count": 139,
   "id": "78de0ed0-4d68-4416-8c5f-6c294d480725",
   "metadata": {},
   "outputs": [
    {
     "data": {
      "text/plain": [
       "2.169609022910175"
      ]
     },
     "execution_count": 139,
     "metadata": {},
     "output_type": "execute_result"
    }
   ],
   "source": [
    "Seccion2 = Area2 - Area1\n",
    "Seccion2"
   ]
  },
  {
   "cell_type": "markdown",
   "id": "15940fbb-81db-4b3c-8fe8-1fa9e92568c2",
   "metadata": {},
   "source": [
    "## Seccion 3"
   ]
  },
  {
   "cell_type": "code",
   "execution_count": 142,
   "id": "569cf271-731c-48ad-ab33-690c663e1abf",
   "metadata": {},
   "outputs": [
    {
     "data": {
      "text/plain": [
       "0.17686830959288022"
      ]
     },
     "execution_count": 142,
     "metadata": {},
     "output_type": "execute_result"
    }
   ],
   "source": [
    "#funcion 1\n",
    "\n",
    "def montecarlo1(fn, a, b, n):\n",
    "    u = np.random.uniform(a, b, n)\n",
    "    return (b-a)/float(n)*np.sum(f1(u))\n",
    "\n",
    "A = 6.4\n",
    "B = 7\n",
    "n = 100000\n",
    "\n",
    "Area1 = montecarlo1(f1(x), A, B, n)\n",
    "Area1"
   ]
  },
  {
   "cell_type": "code",
   "execution_count": 144,
   "id": "bbf0693e-726b-4098-91fc-2d54da67bffa",
   "metadata": {},
   "outputs": [
    {
     "data": {
      "text/plain": [
       "7.499999999999996e-07"
      ]
     },
     "execution_count": 144,
     "metadata": {},
     "output_type": "execute_result"
    }
   ],
   "source": [
    "def montecarlo1(fn, a, b, n):\n",
    "    u = np.random.uniform(a, b, n)\n",
    "    return (b-a)/float(n)*np.sum(f2(u))\n",
    "\n",
    "A = 6.4\n",
    "B = 7\n",
    "n = 100000\n",
    "\n",
    "Area2 = montecarlo1(f2(x), A, B, n)\n",
    "Area2"
   ]
  },
  {
   "cell_type": "code",
   "execution_count": 148,
   "id": "76050963-074a-43f6-a368-4d7a197be55e",
   "metadata": {},
   "outputs": [
    {
     "data": {
      "text/plain": [
       "0.17686755959288022"
      ]
     },
     "execution_count": 148,
     "metadata": {},
     "output_type": "execute_result"
    }
   ],
   "source": [
    "Seccion3 = Area1 - Area2\n",
    "Seccion3"
   ]
  },
  {
   "cell_type": "markdown",
   "id": "d37435e0-7e17-4974-81ff-0976438c47c0",
   "metadata": {},
   "source": [
    "#### El área total es"
   ]
  },
  {
   "cell_type": "code",
   "execution_count": 153,
   "id": "ee1cbb55-40b0-4510-a0b3-1edfce6ad5d5",
   "metadata": {},
   "outputs": [
    {
     "data": {
      "text/plain": [
       "11.600271527939787"
      ]
     },
     "execution_count": 153,
     "metadata": {},
     "output_type": "execute_result"
    }
   ],
   "source": [
    "Atot = Seccion1 + Seccion2 + Seccion3\n",
    "Atot"
   ]
  },
  {
   "cell_type": "markdown",
   "id": "b2df3899-2f8f-4cdf-9b53-3809bb77e6f9",
   "metadata": {},
   "source": [
    "### Integración Monte Carlo tipo 1 - Problema 2\n",
    "$$ f_1(x) = \\sin{(x)} e^{-x} $$\n",
    "$$ f_2(x) = \\frac{x}{10} $$"
   ]
  },
  {
   "cell_type": "markdown",
   "id": "647393fd-cb7f-4cd3-bf8a-c41d2afc6005",
   "metadata": {},
   "source": [
    "Dadas $f_1$ y $f_2$, ¿cuál es el área que hay entre las dos curvas en un intervalo de $[0, 4]$? (Aproxima los cruces)"
   ]
  },
  {
   "cell_type": "code",
   "execution_count": 86,
   "id": "4577cc34-64e1-48b6-bf65-95537ae370b0",
   "metadata": {},
   "outputs": [],
   "source": [
    "def f1(x):\n",
    "    return np.sin(x)*np.exp(-x)"
   ]
  },
  {
   "cell_type": "code",
   "execution_count": 88,
   "id": "781956bf-67c8-4afb-b284-e145233463f3",
   "metadata": {},
   "outputs": [],
   "source": [
    "def f2(x):\n",
    "    return x/10"
   ]
  },
  {
   "cell_type": "markdown",
   "id": "ed91ef18-1345-4120-a81c-acd04822497a",
   "metadata": {},
   "source": [
    "## Sección 1"
   ]
  },
  {
   "cell_type": "code",
   "execution_count": 97,
   "id": "f0c91fa1-7016-4ef8-a01d-b5ba5325d96d",
   "metadata": {},
   "outputs": [
    {
     "data": {
      "text/plain": [
       "0.4298527093732038"
      ]
     },
     "execution_count": 97,
     "metadata": {},
     "output_type": "execute_result"
    }
   ],
   "source": [
    "#funcion 1\n",
    "\n",
    "def montecarlo1(fn, a, b, n):\n",
    "    u = np.random.uniform(a, b, n)\n",
    "    return (b-a)/float(n)*np.sum(f1(u))\n",
    "\n",
    "A = 0\n",
    "B = 1.75\n",
    "n = 100000\n",
    "\n",
    "Area1 = montecarlo1(f1(x), A, B, n)\n",
    "Area1"
   ]
  },
  {
   "cell_type": "code",
   "execution_count": 99,
   "id": "ade96a5d-c05c-4d7d-a673-df96fb887830",
   "metadata": {},
   "outputs": [
    {
     "data": {
      "text/plain": [
       "0.1535833516403195"
      ]
     },
     "execution_count": 99,
     "metadata": {},
     "output_type": "execute_result"
    }
   ],
   "source": [
    "def montecarlo1(fn, a, b, n):\n",
    "    u = np.random.uniform(a, b, n)\n",
    "    return (b-a)/float(n)*np.sum(f2(u))\n",
    "\n",
    "A = 0\n",
    "B = 1.75\n",
    "n = 100000\n",
    "\n",
    "Area2 = montecarlo1(f2(x), A, B, n)\n",
    "Area2"
   ]
  },
  {
   "cell_type": "code",
   "execution_count": 103,
   "id": "79f20978-ce73-4418-a792-235675c34d22",
   "metadata": {},
   "outputs": [
    {
     "data": {
      "text/plain": [
       "0.2762693577328843"
      ]
     },
     "execution_count": 103,
     "metadata": {},
     "output_type": "execute_result"
    }
   ],
   "source": [
    "Seccion1 = Area1 - Area2\n",
    "Seccion1"
   ]
  },
  {
   "cell_type": "markdown",
   "id": "674a3d07-0eef-4cda-a4e4-615de6b4a03e",
   "metadata": {},
   "source": [
    "## Seccion2"
   ]
  },
  {
   "cell_type": "code",
   "execution_count": 106,
   "id": "fb2f3cec-55ef-47f2-8e26-ced7837d134d",
   "metadata": {},
   "outputs": [
    {
     "data": {
      "text/plain": [
       "0.08329872168786054"
      ]
     },
     "execution_count": 106,
     "metadata": {},
     "output_type": "execute_result"
    }
   ],
   "source": [
    "#funcion 1\n",
    "\n",
    "def montecarlo1(fn, a, b, n):\n",
    "    u = np.random.uniform(a, b, n)\n",
    "    return (b-a)/float(n)*np.sum(f1(u))\n",
    "\n",
    "A = 1.75\n",
    "B = 4\n",
    "n = 100000\n",
    "\n",
    "Area1 = montecarlo1(f1(x), A, B, n)\n",
    "Area1"
   ]
  },
  {
   "cell_type": "code",
   "execution_count": 108,
   "id": "c3460d15-32e4-49b2-97d8-adf7519acec1",
   "metadata": {},
   "outputs": [
    {
     "data": {
      "text/plain": [
       "0.647571011460003"
      ]
     },
     "execution_count": 108,
     "metadata": {},
     "output_type": "execute_result"
    }
   ],
   "source": [
    "def montecarlo1(fn, a, b, n):\n",
    "    u = np.random.uniform(a, b, n)\n",
    "    return (b-a)/float(n)*np.sum(f2(u))\n",
    "\n",
    "A = 1.75\n",
    "B = 4\n",
    "n = 100000\n",
    "\n",
    "Area2 = montecarlo1(f2(x), A, B, n)\n",
    "Area2"
   ]
  },
  {
   "cell_type": "code",
   "execution_count": 112,
   "id": "79dea816-bb75-4edd-9a4b-360b8f714766",
   "metadata": {},
   "outputs": [
    {
     "data": {
      "text/plain": [
       "0.5642722897721424"
      ]
     },
     "execution_count": 112,
     "metadata": {},
     "output_type": "execute_result"
    }
   ],
   "source": [
    "Seccion2 = Area2 - Area1\n",
    "Seccion2"
   ]
  },
  {
   "cell_type": "markdown",
   "id": "23da93fc-d37b-44b1-9131-024367bb3d34",
   "metadata": {},
   "source": [
    "#### El área total es"
   ]
  },
  {
   "cell_type": "code",
   "execution_count": 117,
   "id": "07016f81-a24e-4943-a37a-3c8088525a44",
   "metadata": {},
   "outputs": [
    {
     "data": {
      "text/plain": [
       "0.8405416475050267"
      ]
     },
     "execution_count": 117,
     "metadata": {},
     "output_type": "execute_result"
    }
   ],
   "source": [
    "Atot = Seccion1 + Seccion2\n",
    "Atot"
   ]
  },
  {
   "cell_type": "markdown",
   "id": "4d371037-d49d-47f6-97e7-07e683a00976",
   "metadata": {},
   "source": [
    "---\n",
    "### Integración Monte Carlo tipo 2 - Problema 1"
   ]
  },
  {
   "cell_type": "markdown",
   "id": "90efeabd-ef4a-4ccb-bf58-6bbb40892c4e",
   "metadata": {},
   "source": [
    "Se tienen las siguientes desigualdades:"
   ]
  },
  {
   "cell_type": "markdown",
   "id": "d65ac302-8958-48d1-b689-3d8155e4f82a",
   "metadata": {},
   "source": [
    "1.\n",
    "$$ ((\\frac{x}{4})^2 + (\\frac{y-1}{2.5})^2 < 1)\\ \\& \\ ((x+1.5)^2 + (y-1)^2 > 0.2) \\ \\& \\ ((x-1.5)^2 + (y-1)^2 > 0.2) $$\n"
   ]
  },
  {
   "cell_type": "markdown",
   "id": "497f8431-709f-4341-95e7-8fc80ef09a4b",
   "metadata": {},
   "source": [
    "2. $$ (x+3)^2 + (y-4)^2 < 2 $$\n"
   ]
  },
  {
   "cell_type": "markdown",
   "id": "6d8d6211-03a7-4e3a-b8c1-ece030a5b375",
   "metadata": {},
   "source": [
    "3. $$ (x-3)^2 + (y-4)^2 < 2 $$"
   ]
  },
  {
   "cell_type": "markdown",
   "id": "eb3b916a-ab74-49a2-9bcf-9e3df2029b73",
   "metadata": {},
   "source": [
    "4. $$ x^2 + (\\frac{y+5}{2})^2 < 8 $$"
   ]
  },
  {
   "cell_type": "markdown",
   "id": "0cf6abfa-b213-48b5-a99a-c31780360643",
   "metadata": {},
   "source": [
    "1. Crea una función de Python para cada desigualdad."
   ]
  },
  {
   "cell_type": "code",
   "execution_count": 32,
   "id": "67e50d2c-5f01-467d-bf4e-b9a2c66b2e62",
   "metadata": {},
   "outputs": [],
   "source": [
    "def region1(x, y):\n",
    "    return (   (((x/4)**2)  +   (((y-1)/(2.5))**2))  <  1  ) & (  (((x+1.5)**2)  +  ((y-1)**2))  >  .2)  &    (   (((x-1.5)**2) + ((y-1)**2)) > .2)"
   ]
  },
  {
   "cell_type": "code",
   "execution_count": 33,
   "id": "6a580538-2cea-4629-828e-fb4392a909a0",
   "metadata": {},
   "outputs": [],
   "source": [
    "def region2(x, y):\n",
    "    return (((x+3)**2) + ((y-4)**2)) < 2"
   ]
  },
  {
   "cell_type": "code",
   "execution_count": 34,
   "id": "eb548bf3-aab0-4701-93dd-5cab38f999bd",
   "metadata": {},
   "outputs": [],
   "source": [
    "def region3(x, y):\n",
    "    return (((x-3)**2) + ((y-4)**2)) < 2"
   ]
  },
  {
   "cell_type": "code",
   "execution_count": 35,
   "id": "bfcd1864-9175-436b-808f-598e3edb5f31",
   "metadata": {},
   "outputs": [],
   "source": [
    "def region4(x, y):\n",
    "    return ((x**2) + (((y+5)/2)**2)) < 8"
   ]
  },
  {
   "cell_type": "markdown",
   "id": "97a48f69-11e0-4057-bab4-11931913a3be",
   "metadata": {},
   "source": [
    "2. Crea una función que agrupe estas desigualdades (utiliza el operador `|` para unir las desigualdades)"
   ]
  },
  {
   "cell_type": "code",
   "execution_count": 36,
   "id": "efbcc005-c828-475d-8295-9ca03ae601f5",
   "metadata": {},
   "outputs": [],
   "source": [
    "def regionfinal(x, y):\n",
    "    return region1(x, y) | region2(x, y) | region3(x, y) | region4(x, y)"
   ]
  },
  {
   "cell_type": "code",
   "execution_count": 48,
   "id": "26554642-6f36-4435-be5b-d4e38cfb1002",
   "metadata": {},
   "outputs": [
    {
     "data": {
      "text/plain": [
       "<matplotlib.collections.PathCollection at 0xb375118>"
      ]
     },
     "execution_count": 48,
     "metadata": {},
     "output_type": "execute_result"
    },
    {
     "data": {
      "image/png": "[encoded data removed]",
      "text/plain": [
       "<Figure size 640x480 with 1 Axes>"
      ]
     },
     "metadata": {},
     "output_type": "display_data"
    }
   ],
   "source": [
    "import numpy as np\n",
    "import matplotlib.pyplot as plt\n",
    "n = 10000\n",
    "ax = -5\n",
    "bx = 5\n",
    "ay = -11\n",
    "by = 6\n",
    "x = np.random.uniform(ax, bx, n)\n",
    "y = np.random.uniform(ay, by, n)\n",
    "\n",
    "plt.figure()\n",
    "plt.scatter(x, y, c=regionfinal(x,y))"
   ]
  },
  {
   "cell_type": "markdown",
   "id": "b57a12c0-30c4-4110-a4a3-232319008ba6",
   "metadata": {},
   "source": [
    "3. Encuentra los límites de integración"
   ]
  },
  {
   "cell_type": "markdown",
   "id": "d7384d74-ed81-4581-af39-59d9c5a0eebc",
   "metadata": {},
   "source": [
    "#### Los límites son:"
   ]
  },
  {
   "cell_type": "markdown",
   "id": "007caa91-6093-4355-8aaf-9958172132e2",
   "metadata": {},
   "source": [
    "En x = [-5, 5]\n",
    "\n",
    "En y = [-11, 6]"
   ]
  },
  {
   "cell_type": "markdown",
   "id": "d9e844a1-4034-416d-8a48-5c315794eece",
   "metadata": {},
   "source": [
    "4. Aproxima el área de la región descrita por la agrupación de las desigualdades con 1 millón de puntos."
   ]
  },
  {
   "cell_type": "code",
   "execution_count": 56,
   "id": "aa2c0dd0-456f-4f32-9bf8-a14fe89a632c",
   "metadata": {},
   "outputs": [],
   "source": [
    "def montecarlo2(fn, ax, bx, ay, by, n):\n",
    "    x = np.random.uniform(ax, bx, n)\n",
    "    y = np.random.uniform(ay, by, n)\n",
    "    AR = (bx - ax) * (by - ay)\n",
    "    return np.mean(regionfinal(x, y))*AR"
   ]
  },
  {
   "cell_type": "code",
   "execution_count": 57,
   "id": "96c4702a-1b7c-4126-981a-41b74bd8f5c3",
   "metadata": {},
   "outputs": [
    {
     "data": {
      "text/plain": [
       "86.32090000000001"
      ]
     },
     "execution_count": 57,
     "metadata": {},
     "output_type": "execute_result"
    }
   ],
   "source": [
    "n = 1000000\n",
    "AD = montecarlo2(regionfinal(x, y), ax, bx, ay, by, n)\n",
    "AD"
   ]
  },
  {
   "cell_type": "markdown",
   "id": "b5ab2a69-229d-49e9-aa9e-becdaf592830",
   "metadata": {},
   "source": [
    "#### El área de la región descrita es de 86.32090000000001"
   ]
  },
  {
   "cell_type": "markdown",
   "id": "4285c504-8eec-46a3-a73b-37a9ce9fd2b5",
   "metadata": {},
   "source": [
    "5. ¿Cuál es el error relativo?"
   ]
  },
  {
   "cell_type": "code",
   "execution_count": 58,
   "id": "3a4bbd6d-b3d5-432d-b345-828121d98dd6",
   "metadata": {},
   "outputs": [
    {
     "data": {
      "text/plain": [
       "-3.0067494795979783"
      ]
     },
     "execution_count": 58,
     "metadata": {},
     "output_type": "execute_result"
    }
   ],
   "source": [
    "AR = (bx - ax) * (by - ay)\n",
    "Crel = np.sqrt(  (1-AD/AR)  /  (AD / AR)  )\n",
    "\n",
    "Erel = np.log10(Crel) - np.log10(n)/2\n",
    "Erel"
   ]
  },
  {
   "cell_type": "markdown",
   "id": "eb1d3ac1-9d2a-4d91-a853-26ddf25de83e",
   "metadata": {},
   "source": [
    "#### El error relativo es de -3.0067494795979783"
   ]
  },
  {
   "cell_type": "markdown",
   "id": "450b21f4-e7f7-450c-befb-a6d7343f1cfd",
   "metadata": {},
   "source": [
    "### Integración Monte Carlo tipo 2 - Problema 2"
   ]
  },
  {
   "cell_type": "markdown",
   "id": "f9d945d8-e2af-4336-9d5b-08bfb79b2665",
   "metadata": {},
   "source": [
    "Se quiere calcular el volumen de una alberca donde su superficie está dada por la siguiente desigualdad:\n",
    "$$ (x^2 + (\\frac{y}{2})^2 \\leq 1)\\ | \\ ((x-1)^2 + (y+2)^2 \\leq 2) $$"
   ]
  },
  {
   "cell_type": "markdown",
   "id": "cd5a1386-ea72-4e68-9ceb-b64b86516c4c",
   "metadata": {},
   "source": [
    "1. Define una función en Python para la desigualdad y utilízala para encontrar límites de integración adecuados para esta superficie."
   ]
  },
  {
   "cell_type": "code",
   "execution_count": 8,
   "id": "010d6c11-70cf-41f3-bf19-aed12b9d9946",
   "metadata": {},
   "outputs": [],
   "source": [
    "def region1(x, y):\n",
    "    return (x**2 + (y/2)**2 <= 1)"
   ]
  },
  {
   "cell_type": "code",
   "execution_count": 10,
   "id": "c8b80b7c-4701-4800-92bd-502763a61bfa",
   "metadata": {},
   "outputs": [],
   "source": [
    "def region2(x, y):\n",
    "    return ((x-1)**2+(y+2)**2 <= 1)"
   ]
  },
  {
   "cell_type": "code",
   "execution_count": 12,
   "id": "e3e4fd51-bb2e-4fc0-be38-7a0ff5f49f54",
   "metadata": {},
   "outputs": [],
   "source": [
    "def regionfinal(x, y):\n",
    "    return region1(x, y) | region2(x, y) "
   ]
  },
  {
   "cell_type": "code",
   "execution_count": 22,
   "id": "7e908fb2-f551-49e8-b0ce-6c3de27b23c2",
   "metadata": {},
   "outputs": [
    {
     "data": {
      "text/plain": [
       "<matplotlib.collections.PathCollection at 0x2022ea93350>"
      ]
     },
     "execution_count": 22,
     "metadata": {},
     "output_type": "execute_result"
    },
    {
     "data": {
      "image/png": "[encoded data removed]",
      "text/plain": [
       "<Figure size 640x480 with 1 Axes>"
      ]
     },
     "metadata": {},
     "output_type": "display_data"
    }
   ],
   "source": [
    "import numpy as np\n",
    "import matplotlib.pyplot as plt\n",
    "n = 10000\n",
    "ax = -2\n",
    "bx = 2.5\n",
    "ay = -3.5\n",
    "by = 3\n",
    "x = np.random.uniform(ax, bx, n)\n",
    "y = np.random.uniform(ay, by, n)\n",
    "\n",
    "plt.figure()\n",
    "plt.scatter(x, y, c=regionfinal(x,y))"
   ]
  },
  {
   "cell_type": "markdown",
   "id": "18a9d985-2cfd-4698-99ed-4109292e35f0",
   "metadata": {},
   "source": [
    "La profundidad de la alberca debe ser de $1.35$ metros. En otras palabras\n",
    "\n",
    "$$ (z \\leq 0)\\ \\& \\ (z \\geq -1.35)$$\n",
    "\n",
    "2. Define una función para esta desigualdad de profundidad."
   ]
  },
  {
   "cell_type": "code",
   "execution_count": 41,
   "id": "0c1187ad-c570-4c30-817f-0fb4be8676bd",
   "metadata": {},
   "outputs": [],
   "source": [
    "def region3(z):\n",
    "    return (z <= 0)"
   ]
  },
  {
   "cell_type": "code",
   "execution_count": 43,
   "id": "42af00e4-0f7d-486e-b4f1-0391beb9b4db",
   "metadata": {},
   "outputs": [],
   "source": [
    "def region4(z):\n",
    "    return (z >= -1.35)"
   ]
  },
  {
   "cell_type": "markdown",
   "id": "055a1b61-e64a-41e6-97f7-0f5ff23374db",
   "metadata": {},
   "source": [
    "3. Define una función que agrupe estas desigualdades (utiliza el operador `&` para unir las desigualdades)"
   ]
  },
  {
   "cell_type": "code",
   "execution_count": 46,
   "id": "6814eebe-9788-462c-b063-7187329d1ba4",
   "metadata": {},
   "outputs": [],
   "source": [
    "def fnprofundidad(z):\n",
    "    return region3(z) & region4(z)"
   ]
  },
  {
   "cell_type": "markdown",
   "id": "cb00bd98-64a5-43db-9345-cb48c43e3d6d",
   "metadata": {},
   "source": [
    "4. Aproxima el volumen."
   ]
  },
  {
   "cell_type": "code",
   "execution_count": 49,
   "id": "6b4c1e3a-ce6a-4cb6-b481-2ec1a4d9a93b",
   "metadata": {},
   "outputs": [],
   "source": [
    "def regionresult(x, y, z):\n",
    "    return regionfinal(x, y) & fnprofundidad(z)"
   ]
  },
  {
   "cell_type": "code",
   "execution_count": 61,
   "id": "a9142853-2ec9-49ce-9997-246669f22832",
   "metadata": {},
   "outputs": [],
   "source": [
    "def montecarlo2(fn, ax, bx, ay, by, az, bz, n):\n",
    "    x = np.random.uniform(ax, bx, n)\n",
    "    y = np.random.uniform(ay, by, n)\n",
    "    z = np.random.uniform(az, bz, n)\n",
    "    VR = (bx - ax) * (by - ay) * (bz - az)\n",
    "    return np.mean(regionresult(x, y, z))*VR"
   ]
  },
  {
   "cell_type": "code",
   "execution_count": 79,
   "id": "2aa849aa-41f9-4d08-9afe-82812933dff3",
   "metadata": {},
   "outputs": [
    {
     "data": {
      "text/plain": [
       "<matplotlib.collections.PathCollection at 0x2022fa39ee0>"
      ]
     },
     "execution_count": 79,
     "metadata": {},
     "output_type": "execute_result"
    },
    {
     "data": {
      "image/png": "[encoded data removed]",
      "text/plain": [
       "<Figure size 640x480 with 1 Axes>"
      ]
     },
     "metadata": {},
     "output_type": "display_data"
    }
   ],
   "source": [
    "import numpy as np\n",
    "import matplotlib.pyplot as plt\n",
    "n = 10000\n",
    "ax = -1.5\n",
    "bx = 2.5\n",
    "ay = -3.5\n",
    "by = 2.5\n",
    "az = -1.35\n",
    "bz = 0\n",
    "x = np.random.uniform(ax, bx, n)\n",
    "y = np.random.uniform(ay, by, n)\n",
    "z = np.random.uniform(az, bz, n)\n",
    "plt.figure()\n",
    "plt.scatter(x, y, c=regionresult(x, y, z))"
   ]
  },
  {
   "cell_type": "code",
   "execution_count": 81,
   "id": "6880815d-36a3-4ca3-a97e-bdd11577dda6",
   "metadata": {},
   "outputs": [
    {
     "data": {
      "text/plain": [
       "12.193448400000001"
      ]
     },
     "execution_count": 81,
     "metadata": {},
     "output_type": "execute_result"
    }
   ],
   "source": [
    "n = 1000000\n",
    "VD = montecarlo2(regionresult(x, y, z), ax, bx, ay, by, az, bz, n)\n",
    "VD"
   ]
  }
 ],
 "metadata": {
  "kernelspec": {
   "display_name": "Python 3 (ipykernel)",
   "language": "python",
   "name": "python3"
  },
  "language_info": {
   "codemirror_mode": {
    "name": "ipython",
    "version": 3
   },
   "file_extension": ".py",
   "mimetype": "text/x-python",
   "name": "python",
   "nbconvert_exporter": "python",
   "pygments_lexer": "ipython3",
   "version": "3.12.4"
  }
 },
 "nbformat": 4,
 "nbformat_minor": 5
}
