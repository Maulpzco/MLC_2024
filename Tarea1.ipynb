{
  "metadata": {
    "kernelspec": {
      "name": "python",
      "display_name": "Python (Pyodide)",
      "language": "python"
    },
    "language_info": {
      "codemirror_mode": {
        "name": "python",
        "version": 3
      },
      "file_extension": ".py",
      "mimetype": "text/x-python",
      "name": "python",
      "nbconvert_exporter": "python",
      "pygments_lexer": "ipython3",
      "version": "3.8"
    }
  },
  "nbformat_minor": 4,
  "nbformat": 4,
  "cells": [
    {
      "cell_type": "markdown",
      "source": "# {Ingeniería Civil}",
      "metadata": {}
    },
    {
      "cell_type": "markdown",
      "source": "## ¿Qué es?",
      "metadata": {}
    },
    {
      "cell_type": "markdown",
      "source": "Es una **ingeniería** que como principales conocimientos usa el cálculo, física, estática, hidráulica, mecánica, entre otras. \\\nEngloba a la **construcción**, con un gran campo en la actualidad ya que está presente en nuestro día a día, ya sea en casas, edificios, carreteras, puentes, etc.",
      "metadata": {}
    },
    {
      "cell_type": "markdown",
      "source": "## Aplicaciones",
      "metadata": {}
    },
    {
      "cell_type": "markdown",
      "source": "AL tener una gran cantidad de campo, cuenta con las siguientes aplicaciones:\n\n- *Casa habitación*\n\n- *Edificaciones*\n\n- *Urbanización*\n\n- *Vías terrestres*\n\n- *Administración de obra*\n\n",
      "metadata": {}
    },
    {
      "cell_type": "markdown",
      "source": "## Dentro de cada aplicación, existen temas muy importantes que deben ser tomados en cuenta.",
      "metadata": {}
    },
    {
      "cell_type": "code",
      "source": "",
      "metadata": {
        "trusted": true
      },
      "outputs": [],
      "execution_count": null
    }
  ]
}