{
 "cells": [
  {
   "cell_type": "markdown",
   "id": "818b3425-7c42-4c6e-91fb-1de431913a2d",
   "metadata": {},
   "source": [
    "# Actividad de clase\n",
    "## Mauricio López Coronado\n",
    "## 15 de agosto 2023"
   ]
  },
  {
   "cell_type": "code",
   "execution_count": 20,
   "id": "13898b55-3399-406e-9a23-905c1b2d0551",
   "metadata": {},
   "outputs": [
    {
     "name": "stdout",
     "output_type": "stream",
     "text": [
      "5\n",
      "20\n",
      "60\n",
      "120\n"
     ]
    }
   ],
   "source": [
    "#factorial\n",
    "#variable\n",
    "a = 5\n",
    "\n",
    "#contador\n",
    "i = 1\n",
    "\n",
    "#ciclo\n",
    "while a > 1:\n",
    "    i *= a\n",
    "    a-= 1\n",
    "    print(i)"
   ]
  },
  {
   "cell_type": "markdown",
   "id": "0ae0e3b2-2845-4597-800b-ad373bfa2ed4",
   "metadata": {},
   "source": [
    "![](ejercicio1.jpeg)"
   ]
  },
  {
   "cell_type": "code",
   "execution_count": 47,
   "id": "bfd7284c-671c-4fc6-a9b2-23a275d4efe5",
   "metadata": {},
   "outputs": [
    {
     "name": "stdout",
     "output_type": "stream",
     "text": [
      "Es primo\n"
     ]
    }
   ],
   "source": [
    "#Numeros primos\n",
    "#variable\n",
    "a = 13\n",
    "\n",
    "#ciclo\n",
    "if a <= 2:\n",
    "    print(\"No es primo\")\n",
    "    \n",
    "else:\n",
    "    primo = True\n",
    "    for i in range (2, a):\n",
    "        if a % i == 0:\n",
    "            print(\"No es primo\")\n",
    "            primo = False\n",
    "            break\n",
    "            \n",
    "    if primo:\n",
    "        print(\"Es primo\")"
   ]
  },
  {
   "cell_type": "markdown",
   "id": "aca3c534-bd23-4799-950c-7381e5d93207",
   "metadata": {},
   "source": [
    "![](ejercicioprimo.jpeg)"
   ]
  }
 ],
 "metadata": {
  "kernelspec": {
   "display_name": "Python 3 (ipykernel)",
   "language": "python",
   "name": "python3"
  },
  "language_info": {
   "codemirror_mode": {
    "name": "ipython",
    "version": 3
   },
   "file_extension": ".py",
   "mimetype": "text/x-python",
   "name": "python",
   "nbconvert_exporter": "python",
   "pygments_lexer": "ipython3",
   "version": "3.12.4"
  }
 },
 "nbformat": 4,
 "nbformat_minor": 5
}
