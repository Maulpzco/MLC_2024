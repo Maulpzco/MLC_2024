{
 "cells": [
  {
   "cell_type": "markdown",
   "id": "43a0e854-9823-4d3f-a1fb-1089bb25be43",
   "metadata": {},
   "source": [
    "# Tarea 3"
   ]
  },
  {
   "cell_type": "markdown",
   "id": "3b7d80fc-333f-4609-b8e6-995e884daf9b",
   "metadata": {},
   "source": [
    "## Mauricio López"
   ]
  },
  {
   "cell_type": "markdown",
   "id": "b077c96b-30f4-4957-b7e5-786fb2948d9c",
   "metadata": {},
   "source": [
    "### 1-. El perímetro de un triángulo isósceles es de 20 cm. Imagina que este triángulo rota centrado en su eje de simetría para formar la ilusión de un cono.\n",
    "### ¿Cuánto deben medir sus lados para que el volumen generado por la rotación sea el mayor posible?"
   ]
  },
  {
   "cell_type": "code",
   "execution_count": 100,
   "id": "8e95b134-7c32-4547-bded-6ab665237ccf",
   "metadata": {},
   "outputs": [
    {
     "name": "stdout",
     "output_type": "stream",
     "text": [
      "El valor de la x= 10 el valor de b= 0 valor de h= -10\n"
     ]
    }
   ],
   "source": [
    "#perimetro L + L + L --- isóceles --- 2x + b -20 = 0\n",
    "#para saber x (hipotenusa) --- x^2 = (r^2 + h^2)\n",
    "#volumen ((π)(r^2)(h))/3\n",
    "#radio = b/2 = r\n",
    "#sust volumen = ((π)(b/2^2)(h))/3\n",
    "import sympy as sp\n",
    "import numpy as np\n",
    "sp.var(\"x\")\n",
    "sp.var(\"b\")\n",
    "sp.var(\"h\")\n",
    "\n",
    "#definir ecuaciones\n",
    "eq1 = 2*x + b - 20\n",
    "eq2 = x**2 + (b/2)**2 - h**2\n",
    "#resolver ecuaciones respecto b y h\n",
    "sol = sp.solve([eq1, eq2], (b, h))\n",
    "#sustituir el valor de la h y b en la ec volumen\n",
    "vol = ((sp.pi) * ((sol[0][0]/2)**2) * (sol[0][1]))/3\n",
    "#deriva ec de volumen respecto a x\n",
    "d1 = sp.diff(vol, x)\n",
    "#resuelve la derivada respecto x \n",
    "xmax = sp.solve(d1, x)[0]\n",
    "bmax = sol[0][0].subs(x, xmax)\n",
    "hmax = sol[0][1].subs(x, xmax)\n",
    "\n",
    "print(\"El valor de la x=\", xmax, \"el valor de b=\", bmax, \"valor de h=\", hmax)\n"
   ]
  },
  {
   "cell_type": "markdown",
   "id": "85f3c548-eb98-4b7c-ae1e-7c1640389b6a",
   "metadata": {},
   "source": [
    "### 2.- Disponemos de una barra de aluminio de 6 metros para construir una portería de fútbol en un parque. Es una portería simple que tendrá sólo dos postes y el travesaño:\n",
    "### Si queremos que el área de la portería sea máxima, ¿cuánto deben medir los postes y el travesaño?"
   ]
  },
  {
   "cell_type": "code",
   "execution_count": 176,
   "id": "13e3a8d4-9ff6-45fd-8b5e-2360d854f4eb",
   "metadata": {},
   "outputs": [
    {
     "name": "stdout",
     "output_type": "stream",
     "text": [
      "El valor del poste= [] el valor del travesaño= 0\n"
     ]
    }
   ],
   "source": [
    "#perimetro L + L + L --- rectangulo --- 2p + t -6 = 0\n",
    "#area b*h ---- h * t\n",
    "\n",
    "\n",
    "import sympy as sp\n",
    "import numpy as np\n",
    "sp.var(\"p\")\n",
    "sp.var(\"t\")\n",
    "sp.var(\"x\")\n",
    "\n",
    "#definir ecuaciones\n",
    "eq1 = 2*p + t - 6\n",
    "eq2 = p * t\n",
    "\n",
    "sol = sp.solve(eq2, t)[0]   # t = p\n",
    "\n",
    "sust = sol.subs(t, eq1) #sustituye t, en eq 1\n",
    "\n",
    "derivada = sp.diff(sust, p) #deriva la sustitucion respecto a p\n",
    "\n",
    "pmax = sp.solve(derivada, p)\n",
    "\n",
    "tmax= sust.subs(p, eq1)\n",
    "\n",
    "\n",
    "print(\"El valor del poste=\", pmax, \"el valor del travesaño=\", tmax)"
   ]
  },
  {
   "cell_type": "markdown",
   "id": "8c04eee2-2890-402c-95b8-f2c0da72ba2a",
   "metadata": {},
   "source": [
    "### 3.- Una viga de madera tiene una sección transversal rectangular de altura h y ancho w. La resistencia S de la viga es proporcional al ancho y al cuadrado de su altura S=kwh^2 donde la k es la constante de proporcionalidad.\n",
    "### Cuales son las dimensiones de la viga más fuerte que puede cortarse a partir de un leño redondo de 24 pulgadas de diámetro."
   ]
  },
  {
   "cell_type": "code",
   "execution_count": 172,
   "id": "d2c4a49a-e440-4d8a-bb2b-7d295066ea9d",
   "metadata": {},
   "outputs": [
    {
     "name": "stdout",
     "output_type": "stream",
     "text": [
      "El valor de h= 0 el valor de w= 0\n"
     ]
    }
   ],
   "source": [
    "#ec circulo w^2 + h^2 = r^2 --- (w/2)^2 + (h/2)^2 = (24/2)^2\n",
    "# w^2/4 +h^2/2 = 144 ---- w^2 + h^2 = 576\n",
    "#resistencia s = wh^2\n",
    "\n",
    "import sympy as sp\n",
    "import numpy as np\n",
    "sp.var(\"w\")\n",
    "sp.var(\"h\")\n",
    "sp.var(\"s\")\n",
    "\n",
    "#definir ecuaciones\n",
    "eq1 = w**2 + h**2 - 576\n",
    "eq2 = w * h**2\n",
    "\n",
    "soleq1 = sp.solve(eq1, w)[0]   \n",
    "\n",
    "soleq2 = eq2.subs(w, soleq1) \n",
    "\n",
    "derivada = sp.diff(soleq2, h) \n",
    "\n",
    "hmax = sp.solve(derivada, h)[0]\n",
    "\n",
    "wmax= sust.subs(eq1, hmax)\n",
    "\n",
    "\n",
    "print(\"El valor de h=\", hmax, \"el valor de w=\", wmax)"
   ]
  },
  {
   "cell_type": "markdown",
   "id": "d0fa43ce-46c0-46ed-bbc0-840e208f3ae2",
   "metadata": {},
   "source": [
    "### 4.- Una fuente luminosa se localiza al centro de una mesa circular de 4 pies de diámetro. Encontrar altura h de la fuente luminosa de modo que la iluminación I en el perímetro de la mesa sea máxima si I=(sinα)/s^2 donde s es la altura oblicua, α el angulo.\n"
   ]
  },
  {
   "cell_type": "code",
   "execution_count": 178,
   "id": "bcac7f95-0077-4241-a9b8-699736ccd413",
   "metadata": {
    "scrolled": true
   },
   "outputs": [
    {
     "name": "stdout",
     "output_type": "stream",
     "text": [
      "El valor de h=\n"
     ]
    }
   ],
   "source": [
    "#s = (r^2 + h^2)^1/2\n",
    "# senα = co / hip --- senα --- h/s\n",
    "# I=(sinα)/s^2\n",
    "# r = 2\n",
    "import sympy as sp\n",
    "import numpy as np\n",
    "sp.var(\"r\")\n",
    "sp.var(\"h\")\n",
    "sp.var(\"s\")\n",
    "\n",
    "#definir ecuaciones\n",
    "s = (2**2 + h**2)**1/2\n",
    "sinα = h/s\n",
    "i = sinα/s**2\n",
    "sinα = h/s\n",
    "  \n",
    "sol = i.subs(sinα, sinα) \n",
    "\n",
    "sol2 = sol.subs(s, s)\n",
    "\n",
    "derivada = sp.diff(sol2, h) \n",
    "\n",
    "hmax = sp.solve(derivada, h)[1]\n",
    "\n",
    "\n",
    "\n",
    "\n",
    "print(\"El valor de h=\")"
   ]
  },
  {
   "cell_type": "code",
   "execution_count": 180,
   "id": "404f5a09-d61a-4491-8243-f3a88009dceb",
   "metadata": {},
   "outputs": [
    {
     "data": {
      "text/latex": [
       "$\\displaystyle \\frac{2 \\sqrt{5}}{5}$"
      ],
      "text/plain": [
       "2*sqrt(5)/5"
      ]
     },
     "execution_count": 180,
     "metadata": {},
     "output_type": "execute_result"
    }
   ],
   "source": [
    "hmax"
   ]
  },
  {
   "cell_type": "markdown",
   "id": "8b3166eb-15f7-4ea6-9c07-ce5b55450185",
   "metadata": {},
   "source": [
    "### 5.- Se diseña un componente para deslizar un bloque con peso de w=10N, Se opone  movimiento una fuerza de fricción proporcional a su peso aparente (sea k=0.1 la constante de proporcionalidad) determinar la fuerza f mínima necesari para deslizar el bloque y encontrar el valor de θ\r\n",
    ".\n"
   ]
  },
  {
   "cell_type": "code",
   "execution_count": 187,
   "id": "617ced3a-5569-4934-acdf-75123539d8a9",
   "metadata": {},
   "outputs": [
    {
     "ename": "TypeError",
     "evalue": "loop of ufunc does not support argument 0 of type Symbol which has no callable sin method",
     "output_type": "error",
     "traceback": [
      "\u001b[1;31m---------------------------------------------------------------------------\u001b[0m",
      "\u001b[1;31mAttributeError\u001b[0m                            Traceback (most recent call last)",
      "\u001b[1;31mAttributeError\u001b[0m: 'Symbol' object has no attribute 'sin'",
      "\nThe above exception was the direct cause of the following exception:\n",
      "\u001b[1;31mTypeError\u001b[0m                                 Traceback (most recent call last)",
      "Cell \u001b[1;32mIn[187], line 13\u001b[0m\n\u001b[0;32m      9\u001b[0m sp\u001b[38;5;241m.\u001b[39mvar(\u001b[38;5;124m\"\u001b[39m\u001b[38;5;124mf\u001b[39m\u001b[38;5;124m\"\u001b[39m)\n\u001b[0;32m     10\u001b[0m sp\u001b[38;5;241m.\u001b[39mvar(\u001b[38;5;124m\"\u001b[39m\u001b[38;5;124mz\u001b[39m\u001b[38;5;124m\"\u001b[39m)\n\u001b[1;32m---> 13\u001b[0m eq1 \u001b[38;5;241m=\u001b[39m w \u001b[38;5;241m-\u001b[39mf \u001b[38;5;241m*\u001b[39m np\u001b[38;5;241m.\u001b[39msin(z)\n\u001b[0;32m     14\u001b[0m eq2 \u001b[38;5;241m=\u001b[39m \u001b[38;5;241m.1\u001b[39m\u001b[38;5;241m*\u001b[39mN\n\u001b[0;32m     16\u001b[0m sol \u001b[38;5;241m=\u001b[39m eq2\u001b[38;5;241m.\u001b[39msubs(N, eq1) \n",
      "\u001b[1;31mTypeError\u001b[0m: loop of ufunc does not support argument 0 of type Symbol which has no callable sin method"
     ]
    }
   ],
   "source": [
    "#N = w - f sin θ\n",
    "#fcosθ  = k*N # para que se deslice\n",
    "\n",
    "\n",
    "import sympy as sp\n",
    "import numpy as np\n",
    "sp.var(\"N\")\n",
    "sp.var(\"w\")\n",
    "sp.var(\"f\")\n",
    "sp.var(\"z\")\n",
    "\n",
    "\n",
    "eq1 = w -f * np.sin(z)\n",
    "eq2 = .1*N\n",
    "\n",
    "sol = eq2.subs(N, eq1) \n",
    "sol"
   ]
  },
  {
   "cell_type": "code",
   "execution_count": null,
   "id": "4bf63845-1507-4ab7-8bc7-7555a9141ec8",
   "metadata": {},
   "outputs": [],
   "source": []
  },
  {
   "cell_type": "code",
   "execution_count": null,
   "id": "8b004a0c-6094-4ac5-8398-eaf79562c304",
   "metadata": {},
   "outputs": [],
   "source": []
  }
 ],
 "metadata": {
  "kernelspec": {
   "display_name": "Python 3 (ipykernel)",
   "language": "python",
   "name": "python3"
  },
  "language_info": {
   "codemirror_mode": {
    "name": "ipython",
    "version": 3
   },
   "file_extension": ".py",
   "mimetype": "text/x-python",
   "name": "python",
   "nbconvert_exporter": "python",
   "pygments_lexer": "ipython3",
   "version": "3.12.4"
  }
 },
 "nbformat": 4,
 "nbformat_minor": 5
}
