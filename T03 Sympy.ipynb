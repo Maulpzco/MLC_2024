{
 "cells": [
  {
   "cell_type": "markdown",
   "id": "43a0e854-9823-4d3f-a1fb-1089bb25be43",
   "metadata": {},
   "source": [
    "# Tarea 3"
   ]
  },
  {
   "cell_type": "markdown",
   "id": "3b7d80fc-333f-4609-b8e6-995e884daf9b",
   "metadata": {},
   "source": [
    "## Mauricio López"
   ]
  },
  {
   "cell_type": "markdown",
   "id": "b077c96b-30f4-4957-b7e5-786fb2948d9c",
   "metadata": {},
   "source": [
    "### 1-. El perímetro de un triángulo isósceles es de 20 cm. Imagina que este triángulo rota centrado en su eje de simetría para formar la ilusión de un cono.\n",
    "### ¿Cuánto deben medir sus lados para que el volumen generado por la rotación sea el mayor posible?"
   ]
  },
  {
   "cell_type": "code",
   "execution_count": 3,
   "id": "8e95b134-7c32-4547-bded-6ab665237ccf",
   "metadata": {},
   "outputs": [
    {
     "name": "stdout",
     "output_type": "stream",
     "text": [
      "El valor de la x= 6 el valor de b= 8 valor de h= -2*sqrt(5)\n"
     ]
    }
   ],
   "source": [
    "#perimetro L + L + L --- isóceles --- 2x + b -20 = 0\n",
    "#para saber x (hipotenusa) --- x^2 = (r^2 + h^2)\n",
    "#volumen ((π)(r^2)(h))/3\n",
    "#radio = b/2 = r\n",
    "#sust volumen = ((π)(b/2^2)(h))/3\n",
    "import sympy as sp\n",
    "import numpy as np\n",
    "sp.var(\"x\")#  lados\n",
    "sp.var(\"b\")\n",
    "sp.var(\"h\")\n",
    "\n",
    "#definir ecuaciones\n",
    "eq1 = 2*x + b - 20\n",
    "eq2 = - x**2 + (b/2)**2 + h**2\n",
    "#resolver ecuaciones respecto b y h\n",
    "sol = sp.solve([eq1, eq2], (b, h))\n",
    "#sustituir el valor de la h y b en la ec volumen\n",
    "vol = ((sp.pi) * ((sol[0][0]/2)**2) * (sol[0][1]))/3\n",
    "#deriva ec de volumen respecto a x\n",
    "d1 = sp.diff(vol, x)\n",
    "#resuelve la derivada respecto x \n",
    "xmax = sp.solve(d1, x)[0]\n",
    "bmax = sol[0][0].subs(x, xmax)\n",
    "hmax = sol[0][1].subs(x, xmax)\n",
    "\n",
    "print(\"El valor de la x=\", xmax, \"el valor de b=\", bmax, \"valor de h=\", hmax)\n"
   ]
  },
  {
   "cell_type": "markdown",
   "id": "85f3c548-eb98-4b7c-ae1e-7c1640389b6a",
   "metadata": {},
   "source": [
    "### 2.- Disponemos de una barra de aluminio de 6 metros para construir una portería de fútbol en un parque. Es una portería simple que tendrá sólo dos postes y el travesaño:\n",
    "### Si queremos que el área de la portería sea máxima, ¿cuánto deben medir los postes y el travesaño?"
   ]
  },
  {
   "cell_type": "code",
   "execution_count": 5,
   "id": "13e3a8d4-9ff6-45fd-8b5e-2360d854f4eb",
   "metadata": {},
   "outputs": [
    {
     "data": {
      "text/latex": [
       "$\\displaystyle p \\left(6 - 2 p\\right)$"
      ],
      "text/plain": [
       "p*(6 - 2*p)"
      ]
     },
     "execution_count": 5,
     "metadata": {},
     "output_type": "execute_result"
    }
   ],
   "source": [
    "#perimetro L + L + L --- rectangulo --- 2p + t -6 = 0\n",
    "#area b*h ---- h * t\n",
    "\n",
    "\n",
    "import sympy as sp\n",
    "import numpy as np\n",
    "sp.var(\"p\")\n",
    "sp.var(\"t\")\n",
    "sp.var(\"x\")\n",
    "\n",
    "#definir ecuaciones\n",
    "eq1 = 2*p + t - 6\n",
    "eq2 = p * t # ésta es la que quiero optimizar\n",
    "\n",
    "t_p = sp.solve(eq1, t)[0]\n",
    "\n",
    "sust = eq2.subs(t, t_p) #sustituye t, en eq 1\n",
    "\n",
    "sust"
   ]
  },
  {
   "cell_type": "code",
   "execution_count": 11,
   "id": "4950584d-22f9-42df-b0ee-5d51b5cbda2c",
   "metadata": {},
   "outputs": [
    {
     "name": "stdout",
     "output_type": "stream",
     "text": [
      "El valor del poste= 3/2 el valor del travesaño= 3\n"
     ]
    }
   ],
   "source": [
    "derivada = sp.diff(sust, p) #deriva la sustitucion respecto a p\n",
    "\n",
    "pmax = sp.solve(derivada, p)[0]\n",
    "\n",
    "tmax= t_p.subs(p, pmax)\n",
    "\n",
    "\n",
    "print(\"El valor del poste=\", pmax, \"el valor del travesaño=\", tmax)"
   ]
  },
  {
   "cell_type": "markdown",
   "id": "8c04eee2-2890-402c-95b8-f2c0da72ba2a",
   "metadata": {},
   "source": [
    "### 3.- Una viga de madera tiene una sección transversal rectangular de altura h y ancho w. La resistencia S de la viga es proporcional al ancho y al cuadrado de su altura S=kwh^2 donde la k es la constante de proporcionalidad.\n",
    "### Cuales son las dimensiones de la viga más fuerte que puede cortarse a partir de un leño redondo de 24 pulgadas de diámetro."
   ]
  },
  {
   "cell_type": "code",
   "execution_count": 35,
   "id": "d2c4a49a-e440-4d8a-bb2b-7d295066ea9d",
   "metadata": {},
   "outputs": [
    {
     "data": {
      "text/latex": [
       "$\\displaystyle - h^{2} \\sqrt{576 - h^{2}}$"
      ],
      "text/plain": [
       "-h**2*sqrt(576 - h**2)"
      ]
     },
     "execution_count": 35,
     "metadata": {},
     "output_type": "execute_result"
    }
   ],
   "source": [
    "#ec circulo w^2 + h^2 = r^2 --- (w/2)^2 + (h/2)^2 = (24/2)^2\n",
    "# w^2/4 +h^2/2 = 144 ---- w^2 + h^2 = 576\n",
    "#resistencia s = wh^2\n",
    "\n",
    "import sympy as sp\n",
    "import numpy as np\n",
    "sp.var(\"w\")\n",
    "sp.var(\"h\")\n",
    "sp.var(\"s\")\n",
    "\n",
    "#definir ecuaciones\n",
    "eq1 = w**2 + h**2 - 576\n",
    "eq2 = w * h**2 #esta la quiero optimizar\n",
    "\n",
    "soleq1 = sp.solve(eq1, w)[0] \n",
    "\n",
    "soleq2 = eq2.subs(w, soleq1) \n",
    "\n",
    "soleq2"
   ]
  },
  {
   "cell_type": "code",
   "execution_count": 39,
   "id": "2452a194-19cb-4550-8860-f62dcb1ea1a1",
   "metadata": {},
   "outputs": [
    {
     "name": "stdout",
     "output_type": "stream",
     "text": [
      "El valor de h= -8*sqrt(6) el valor de w= -8*sqrt(3)\n"
     ]
    }
   ],
   "source": [
    "derivada = sp.diff(soleq2, h) #deriva respecto h\n",
    "\n",
    "hmax = sp.solve(derivada, h)[1]\n",
    "\n",
    "wmax= soleq1.subs(h, hmax)\n",
    "\n",
    "\n",
    "print(\"El valor de h=\", hmax, \"el valor de w=\", wmax)"
   ]
  },
  {
   "cell_type": "code",
   "execution_count": null,
   "id": "4bf63845-1507-4ab7-8bc7-7555a9141ec8",
   "metadata": {},
   "outputs": [],
   "source": []
  },
  {
   "cell_type": "markdown",
   "id": "d0fa43ce-46c0-46ed-bbc0-840e208f3ae2",
   "metadata": {},
   "source": [
    "### 4.- Una fuente luminosa se localiza al centro de una mesa circular de 4 pies de diámetro. Encontrar altura h de la fuente luminosa de modo que la iluminación I en el perímetro de la mesa sea máxima si I=(sinα)/s^2 donde s es la altura oblicua, α el angulo.\n"
   ]
  },
  {
   "cell_type": "code",
   "execution_count": 13,
   "id": "bcac7f95-0077-4241-a9b8-699736ccd413",
   "metadata": {
    "scrolled": true
   },
   "outputs": [
    {
     "name": "stdout",
     "output_type": "stream",
     "text": [
      "El valor de h=\n"
     ]
    }
   ],
   "source": [
    "#s = (r^2 + h^2)^1/2\n",
    "# senα = co / hip --- senα --- h/s\n",
    "# I=(sinα)/s^2\n",
    "# r = 2\n",
    "import sympy as sp\n",
    "import numpy as np\n",
    "sp.var(\"r\")\n",
    "sp.var(\"h\")\n",
    "sp.var(\"s\")\n",
    "\n",
    "#definir ecuaciones\n",
    "s = (2**2 + h**2)**1/2\n",
    "sinα = h/s\n",
    "i = sinα/s**2\n",
    "sinα = h/s\n",
    "  \n",
    "sol = i.subs(sinα, sinα) \n",
    "\n",
    "sol2 = sol.subs(s, s)\n",
    "\n",
    "derivada = sp.diff(sol2, h) \n",
    "\n",
    "hmax = sp.solve(derivada, h)[1]\n",
    "\n",
    "\n",
    "\n",
    "\n",
    "print(\"El valor de h=\")"
   ]
  },
  {
   "cell_type": "code",
   "execution_count": 180,
   "id": "404f5a09-d61a-4491-8243-f3a88009dceb",
   "metadata": {},
   "outputs": [
    {
     "data": {
      "text/latex": [
       "$\\displaystyle \\frac{2 \\sqrt{5}}{5}$"
      ],
      "text/plain": [
       "2*sqrt(5)/5"
      ]
     },
     "execution_count": 180,
     "metadata": {},
     "output_type": "execute_result"
    }
   ],
   "source": [
    "hmax"
   ]
  }
 ],
 "metadata": {
  "kernelspec": {
   "display_name": "Python 3 (ipykernel)",
   "language": "python",
   "name": "python3"
  },
  "language_info": {
   "codemirror_mode": {
    "name": "ipython",
    "version": 3
   },
   "file_extension": ".py",
   "mimetype": "text/x-python",
   "name": "python",
   "nbconvert_exporter": "python",
   "pygments_lexer": "ipython3",
   "version": "3.12.4"
  }
 },
 "nbformat": 4,
 "nbformat_minor": 5
}
