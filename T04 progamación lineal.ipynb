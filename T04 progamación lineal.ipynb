{
 "cells": [
  {
   "cell_type": "markdown",
   "id": "8a5f2b41-20c4-454f-aa73-2b5ba37c549b",
   "metadata": {},
   "source": [
    "# T04 - programación lineal"
   ]
  },
  {
   "cell_type": "markdown",
   "id": "859e4644-fb9f-404b-8f78-dcc66ba4c166",
   "metadata": {},
   "source": [
    "## Mauricio López Coronado"
   ]
  },
  {
   "cell_type": "markdown",
   "id": "038e9aac-d7e8-473b-8849-e0a926f160fe",
   "metadata": {},
   "source": [
    "## Ejercicio 1\n",
    "\n",
    "Mónica hace aretes y cadenitas de joyería. Es tan buena, que todo lo que hace lo vende.\n",
    "\n",
    "Le toma 30 minutos hacer un par de aretes y una hora hacer una cadenita, y como Mónica también es estudihambre, solo dispone de 10 horas a la semana para hacer las joyas. Por otra parte, el material que compra solo le alcanza para hacer 15 unidades (el par de aretes cuenta como unidad) de joyas por semana.\n",
    "\n",
    "La utilidad que le deja la venta de las joyas es $\\$15$ en cada par de aretes y $\\$20$ en cada cadenita.\n",
    "\n",
    "¿Cuántos pares de aretes y cuántas cadenitas debería hacer Mónica para maximizar su utilidad?\n",
    "\n",
    "Formular el problema en la forma explicada y obtener la solución gráfica (puede ser a mano)."
   ]
  },
  {
   "cell_type": "markdown",
   "id": "31b9f6ea-ac32-4b77-a5ec-d3fbeecca629",
   "metadata": {},
   "source": [
    "#### 1.- Identificar criterio de otimización:\n",
    "Maximizar ganancia\n",
    "#### 2.- Variables de control\n",
    "Aretes --- $ x_A$\n",
    "Cadena --- $ x_C$\n",
    "### 3.- Función de costo\n",
    "$ f(x_A, x_C) = 15x_A + 20x_C $\n",
    "\n",
    "### 4.- Información adicional\n",
    "Dispone 10 hrs a la semana\n",
    "\n",
    "Material para 15 piezas"
   ]
  },
  {
   "cell_type": "markdown",
   "id": "333dca2f-ba58-4d72-a849-456af69bdf3b",
   "metadata": {},
   "source": [
    "$$\\max_{x_A, x_C}  15x_A +  20x_Ca $$\n",
    "$$ s.t. $$\n",
    "\n",
    "$$ .5x_A +  x_Ca \\leq 10$$\n",
    "$$ x_A +  x_Ca \\leq 15$$"
   ]
  },
  {
   "cell_type": "code",
   "execution_count": 112,
   "id": "6cbe594c-a6cb-4809-9e2c-2c13e6ee39e8",
   "metadata": {},
   "outputs": [],
   "source": [
    "import numpy as np\n",
    "\n",
    "c = np.array ([\n",
    "    15,\n",
    "    20\n",
    "    ])\n",
    "\n",
    "aub = np.array ([\n",
    "    [.5, 1],\n",
    "    [1, 1]\n",
    "    \n",
    "])       \n",
    "\n",
    "bub = np.array ([\n",
    "    10,\n",
    "    15\n",
    "])"
   ]
  },
  {
   "cell_type": "code",
   "execution_count": 114,
   "id": "feff9cf2-c0a7-4d24-b7f5-c3222483011d",
   "metadata": {},
   "outputs": [
    {
     "data": {
      "text/plain": [
       "       message: Optimization terminated successfully. (HiGHS Status 7: Optimal)\n",
       "       success: True\n",
       "        status: 0\n",
       "           fun: 0.0\n",
       "             x: [ 0.000e+00  0.000e+00]\n",
       "           nit: 0\n",
       "         lower:  residual: [ 0.000e+00  0.000e+00]\n",
       "                marginals: [ 1.500e+01  2.000e+01]\n",
       "         upper:  residual: [       inf        inf]\n",
       "                marginals: [ 0.000e+00  0.000e+00]\n",
       "         eqlin:  residual: []\n",
       "                marginals: []\n",
       "       ineqlin:  residual: [ 1.000e+01  1.500e+01]\n",
       "                marginals: [-0.000e+00 -0.000e+00]"
      ]
     },
     "execution_count": 114,
     "metadata": {},
     "output_type": "execute_result"
    }
   ],
   "source": [
    "import scipy.optimize as opt\n",
    "opt.linprog(c, aub, bub)"
   ]
  },
  {
   "cell_type": "markdown",
   "id": "8a4c2b2e-aa95-4ff6-b21b-d208f36c543d",
   "metadata": {},
   "source": [
    "## Ejercicio 2\n"
   ]
  },
  {
   "cell_type": "markdown",
   "id": "2a75471a-b671-4133-bf61-672d742b65d6",
   "metadata": {},
   "source": [
    "Una  fábrica  de  carrocerías  de  automóviles  y camiones  tiene  dos naves. \n",
    "\n",
    "+ En  la nave A,  para  hacer  la  carrocería  de  un  camión,  se  invierten  siete  días-operario,  para  fabricar  la  de  un  coche  se  precisan dos días-operario.\n",
    "\n",
    "+ En la nave B se invierten tres días operario tanto en carrocerías de camión como de coche. \n",
    "\n",
    "Por limitaciones de mano de obra y maquinaria, la nave A dispone de $300$ días operario, y la nave B de $270$ días-operario.\n",
    "\n",
    "Si los beneficios que se obtienen por cada camión son de $600$ u.m y por  cada  automóvil  $200$ u.m,  ¿cuántas  unidades  de  cada  uno  se deben  producir  para maximizar las  ganancias? "
   ]
  },
  {
   "cell_type": "markdown",
   "id": "a279e574-9d95-4998-982b-1c56b48fa06e",
   "metadata": {},
   "source": [
    "#### 1.- Identificar criterio de otimización:\n",
    "Maximizar ganancia\n",
    "#### 2.- Variables de control\n",
    "Auto --- $ x_A$\n",
    "Camión --- $ x_C$\n",
    "### 3.- Función de costo\n",
    "$ f(x_A, x_C) = 200x_A + 600x_C $\n",
    "\n",
    "### 4.- Información adicional\n",
    "Nave A \n",
    "\n",
    "Para camión 7 días, Para auto 2 días, 300 dias totales\n",
    "\n",
    "Nave B\n",
    "Para camión y auto 3 días, 270 días totales\n",
    "\n"
   ]
  },
  {
   "cell_type": "markdown",
   "id": "f974bc1f-c3a0-4756-93ae-d10240099d60",
   "metadata": {},
   "source": [
    "$$\\max_{x_A, x_C}  200x_A +  600x_C $$\n",
    "$$ s.t. $$\n",
    "\n",
    "$$ 2x_A +  7x_Ca \\leq 300$$\n",
    "$$ 3x_A +  3x_Ca \\leq 270$$"
   ]
  },
  {
   "cell_type": "code",
   "execution_count": 123,
   "id": "99320ad5-426d-48fe-a632-0c61d3adbe75",
   "metadata": {},
   "outputs": [],
   "source": [
    "import numpy as np\n",
    "\n",
    "c = np.array ([\n",
    "    200,\n",
    "    600\n",
    "    ])\n",
    "\n",
    "aub = np.array ([\n",
    "    [2, 7],\n",
    "    [3, 3]\n",
    "    \n",
    "])       \n",
    "\n",
    "bub = np.array ([\n",
    "    300,\n",
    "    270\n",
    "])"
   ]
  },
  {
   "cell_type": "code",
   "execution_count": 125,
   "id": "f8ef1f91-6707-41b7-8b40-648f5f27b5b7",
   "metadata": {},
   "outputs": [
    {
     "data": {
      "text/plain": [
       "       message: Optimization terminated successfully. (HiGHS Status 7: Optimal)\n",
       "       success: True\n",
       "        status: 0\n",
       "           fun: 0.0\n",
       "             x: [ 0.000e+00  0.000e+00]\n",
       "           nit: 0\n",
       "         lower:  residual: [ 0.000e+00  0.000e+00]\n",
       "                marginals: [ 2.000e+02  6.000e+02]\n",
       "         upper:  residual: [       inf        inf]\n",
       "                marginals: [ 0.000e+00  0.000e+00]\n",
       "         eqlin:  residual: []\n",
       "                marginals: []\n",
       "       ineqlin:  residual: [ 3.000e+02  2.700e+02]\n",
       "                marginals: [-0.000e+00 -0.000e+00]"
      ]
     },
     "execution_count": 125,
     "metadata": {},
     "output_type": "execute_result"
    }
   ],
   "source": [
    "import scipy.optimize as opt\n",
    "opt.linprog(c, aub, bub)"
   ]
  },
  {
   "cell_type": "markdown",
   "id": "d529f0b2-f761-4bac-ae78-effb2232d1d1",
   "metadata": {},
   "source": [
    "## Ejercicio 3\n"
   ]
  },
  {
   "cell_type": "markdown",
   "id": "caf49ffd-ba5c-461e-85fb-c2b9f092667f",
   "metadata": {},
   "source": [
    "Se quiere producir comida para gatos de la manera más barata, no obstante se debe también asegurar que se cumplan los datos requeridos de analisis nutricional. Por lo que se quiere variar la cantidad de cada ingrediente para cumplir con los estandares nutricionales. Los requisitos que se tienen es que en 100 gramos, se deben tener por lo menos 9 gramos de proteína y 7 gramos de grasa. Así mismo, no se debe tener más de 2.5 gramos de fibra y 0.5 gramos de sal.\n",
    "\n",
    "Ingrediente Proteína Grasa Fibra Sal Pollo 10.0% 08.0% 00.1% 00.2% Carne 20.0% 10.0% 00.5% 00.5% Cordero 15.0% 11.0% 00.5% 00.7% Arroz 00.0% 01.0% 10.0% 00.2% Trigo 04.0% 01.0% 15.0% 00.8% Gel 00.0% 00.0% 00.0% 00.0%\r\n",
    "\r\n",
    "Los costos de cada producto son:\r\n",
    "\r\n",
    "Ingrediente Costo por gramo Pollo 0.012 Carne 0.009 Cordero 0.010 Arroz 0.003 Trigo 0.005 Gel 0.002\r\n",
    "\r\n",
    "Lo que se busca optimizar en este caso es la cantidad de productos que se debe utilizar en la comida de gato, minimizando el costo total."
   ]
  },
  {
   "cell_type": "markdown",
   "id": "583adb50-ac69-4df1-8dfa-b77b66e28230",
   "metadata": {},
   "source": [
    "#### 1.- Identificar criterio de otimización:\n",
    "Minimizar el costo total de la comida de gato\n",
    "#### 2.- Variables de control\n",
    "Pollo --- $ x_P$\n",
    "\n",
    "Carne --- $ x_ca$  \n",
    "\n",
    "Coordero --- $ x_co $\n",
    "\n",
    "Arroz --- $ x_A $ \n",
    "\n",
    "Trigo --- $ x_T $ \n",
    "\n",
    "Gel --- $ x_G $ \n",
    "\n",
    "### 3.- Función de costo\n",
    "$ f(x_P, x_G, x_F, x_S) = .012 x_P + .009 x_Ca + .010 x_Co + .003 x_A + .005 x_T + .002 x_G$\n",
    "\n",
    "### 4.- Información adicional\n",
    "##### Pollo contiene: \n",
    "\n",
    "10% proteina\n",
    "\n",
    "8% grasa\n",
    "\n",
    ".1% fibra\n",
    "\n",
    ".2% sal\n",
    "\n",
    "##### Carne contiene:  \n",
    "\n",
    "20% proteina\n",
    "\n",
    "10% grasa\n",
    "\n",
    ".5% fibra\n",
    "\n",
    ".5% sal\n",
    "\n",
    "##### Cordero:\n",
    "\n",
    "15% proteina\n",
    "\n",
    "11% grasa\n",
    "\n",
    ".5% fibra\n",
    "\n",
    ".7% sal\n",
    "\n",
    "##### Cordero:\n",
    "\n",
    "15% proteina\n",
    "\n",
    "11% grasa\n",
    "\n",
    ".5% fibra\n",
    "\n",
    ".7% sal\n",
    "\n",
    "##### Arroz:\n",
    "\n",
    "0% proteina\n",
    "\n",
    "1% grasa\n",
    "\n",
    "10% fibra\n",
    "\n",
    ".2% sal\n",
    "\n",
    "##### Trigo:\n",
    "\n",
    "4% proteina\n",
    "\n",
    "1% grasa\n",
    "\n",
    "15% fibra\n",
    "\n",
    ".8% sal\n",
    "\n",
    "##### Gel:\n",
    "\n",
    "0% proteina\n",
    "\n",
    "0% grasa\n",
    "\n",
    "0% fibra\n",
    "\n",
    "0% sal"
   ]
  },
  {
   "cell_type": "markdown",
   "id": "bcc554bb-1379-4e95-a367-99f182eae23c",
   "metadata": {},
   "source": [
    "#### Producto final debe contener:\n",
    "\n",
    "Máximo 100 gramos de producto total\n",
    "\n",
    "Al menos 9 g de proteína\n",
    "\n",
    "Al menos 7 g de grasa\n",
    "\n",
    "Máximo 2.5 g de fibra\n",
    "\n",
    "Máximo .5 g de sal\n",
    "\n",
    "$$\\min_{x_p, x_ca, x_co, x_a, x_t, x_g}  .012 x_P + .009 x_Ca + .010 x_Co + .003 x_A + .005 x_T + .002 x_G $$\n",
    "\n",
    "$$\\text {s.t.} $$\n",
    "\n",
    "$$ .1 x_P + .2 x_Ca + .15 x_Co + .0 x_A + .04 x_T + .0 x_G \\geq 9$$\n",
    "$$ .08 x_P + .1 x_Ca + .11 x_Co + .01 x_A + .01 x_T + .0 x_G \\geq 7$$\n",
    "$$ .01 x_P + .05 x_Ca + .05 x_Co + .1 x_A + .15 x_T + .0 x_G \\leq 2.5$$\n",
    "$$ .02 x_P + .05 x_Ca + .07 x_Co + .02 x_A + .08 x_T + .0 x_G \\leq .5$$\n",
    "$$  x_P + x_Ca + x_Co + x_A + x_T + x_G = 100 $$\n",
    "$$  x_P +  x_Ca + x_Co + x_A +  x_T + x_G \\geq 0$$"
   ]
  },
  {
   "cell_type": "code",
   "execution_count": 62,
   "id": "bc365a77-1130-49d6-9a14-3a32508cab35",
   "metadata": {},
   "outputs": [],
   "source": [
    "import numpy as np\n",
    "\n",
    "c = np.array ([\n",
    "    .012,\n",
    "    .009,\n",
    "    .010,\n",
    "    .003,\n",
    "    .005,\n",
    "    .002\n",
    "    ])\n",
    "\n",
    "aub = np.array ([\n",
    "    [-.10, -.20, -.15, 0, -.04, 0 ],\n",
    "    [-.08, -.1, -.11, -.01, -.01, 0 ],\n",
    "    [.01, .05, .05, .1, .15, 0 ],\n",
    "    [.02, .05, .07, .02, .08, 0],\n",
    "    [1, 1, 1, 1, 1, 1],\n",
    "    [-1, -1, -1, -1, -1, -1],\n",
    "])       \n",
    "\n",
    "bub = np.array ([\n",
    "    -9,\n",
    "    -7,\n",
    "    2.5,\n",
    "    .5,\n",
    "    100,\n",
    "    0\n",
    "])\n"
   ]
  },
  {
   "cell_type": "code",
   "execution_count": 64,
   "id": "c4e1074a-408a-4d4b-aba8-01491a847819",
   "metadata": {},
   "outputs": [
    {
     "data": {
      "text/plain": [
       "       message: The problem is infeasible. (HiGHS Status 8: model_status is Infeasible; primal_status is At lower/fixed bound)\n",
       "       success: False\n",
       "        status: 2\n",
       "           fun: None\n",
       "             x: None\n",
       "           nit: 0\n",
       "         lower:  residual: None\n",
       "                marginals: None\n",
       "         upper:  residual: None\n",
       "                marginals: None\n",
       "         eqlin:  residual: None\n",
       "                marginals: None\n",
       "       ineqlin:  residual: None\n",
       "                marginals: None"
      ]
     },
     "execution_count": 64,
     "metadata": {},
     "output_type": "execute_result"
    }
   ],
   "source": [
    "import scipy.optimize as opt\n",
    "opt.linprog(c, aub, bub)"
   ]
  },
  {
   "cell_type": "markdown",
   "id": "f18c22bf-712d-4e9e-884e-129977a8ba10",
   "metadata": {},
   "source": [
    "## Ejercicio 4\n",
    "\n",
    "La Comisión Federal de Electricidad (CFE) dispone de cuatro plantas de generación para satisfacer la demanda diaria eléctrica en cuatro ciudades, Guadalajara, León y Morelia. Las plantas 1, 2 y 3 pueden satisfacer 75, 50 y 60 millones de kW al día respectivamente. Las necesidades de las ciudades de Guadalajara, León y Morelia son de 60, 45 y 60 millones de Kw al día respectivamente.\n",
    "\n",
    "Los costos asociados al envío de suministro energético por cada millón de kW entre cada planta y cada ciudad son los registrados en la siguiente tabla."
   ]
  },
  {
   "cell_type": "markdown",
   "id": "b25c5966-ebd9-4dda-9cfb-6c43f33b08ca",
   "metadata": {},
   "source": [
    "#### 1.- Identificar criterio de otimización:\n",
    "Minimizar el costo de suministro eléctrico\n",
    "#### 2.- Variables de control\n",
    "P1 Guadalajara --- $ x_G1$\n",
    "\n",
    "P1 Leon --- $ x_L1$  \n",
    "\n",
    "P1 Morelia --- $ x_M1$\n",
    "\n",
    "P2 Guadalajara --- $ x_G2$\n",
    "\n",
    "P2 Leon --- $ x_L2$  \n",
    "\n",
    "P2 Morelia --- $ x_M2$\n",
    "\n",
    "P3 Guadalajara --- $ x_G3$\n",
    "\n",
    "P3 Leon --- $ x_L3$  \n",
    "\n",
    "P3 Morelia --- $ x_M3$\n",
    "\n",
    "### 3.- Función de costo\n",
    "$ f(x_G1, x_L1, x_M1, x_G2, x_L2, x_M2, x_G3, x_L3, x_M3,) = 5x_G1 + 2x_L1 + 7x_M1 + 3x_G2 + 4x_L2 + 5x_M2 + 5x_G3 + 2x_L3 + 3x_M3 $\n",
    "\n",
    "### 4.- Información adicional\n",
    "\n",
    "##### Capacidad de las plantas:\n",
    "\n",
    "Planta 1 máximo 75 millones de kW\n",
    "\n",
    "Planta 2 máximo 50 millones de kW\n",
    "\n",
    "Planta 3 máximo 60 millones de kW\n",
    "\n",
    "##### Demanda de las ciudades\n",
    "\n",
    "Guadalajara minimo 60 millones de kW\n",
    "\n",
    "León minimo 45 millones de kW\n",
    "\n",
    "Morelia 3 minimo 60 millones de kW\n"
   ]
  },
  {
   "cell_type": "markdown",
   "id": "315b162c-8c13-4a2d-baa8-aa29a8332be6",
   "metadata": {},
   "source": [
    "#### Como final debe contener:\n",
    "\n",
    "$$\\min_{x_G1, x_L1, x_M1, x_G2, x_L2, x_M2, x_G3, x_L3, x_M3,}  5x_G1 + 2x_L1 + 7x_M1 + 3x_G2 + 4x_L2 + 5x_M2 + 5x_G3 + 2x_L3 + 3x_M3 $$\n",
    "\n",
    "$$\\text {s.t.} $$\n",
    "\n",
    "$$ x_G1 + x_G2 + x_G3  \\leq 75$$\n",
    "$$ x_L1 + x_L2 + x_L3  \\leq 50$$\n",
    "$$ x_L1 + x_L2 + x_L3 \\leq 60$$\n",
    "\n",
    "$$ x_G1 + x_G2 + x_G3  \\geq 60$$\n",
    "$$ x_L1 + x_L2 + x_L3  \\geq 45$$\n",
    "$$ x_L1 + x_L2 + x_L3 \\geq 60$$\n"
   ]
  },
  {
   "cell_type": "code",
   "execution_count": 23,
   "id": "de2cbfe3-9eb9-467b-97be-01813ea9b3a0",
   "metadata": {},
   "outputs": [],
   "source": [
    "import numpy as np\n",
    "\n",
    "c = np.array ([\n",
    "    5,\n",
    "    2,\n",
    "    7,\n",
    "    3,\n",
    "    4,\n",
    "    5,\n",
    "    5,\n",
    "    2,\n",
    "    3])\n",
    "\n",
    "aub = np.array ([\n",
    "    [1, 1, 1, 0, 0, 0, 0, 0, 0 ],\n",
    "    [0, 0, 0, 1, 1, 1, 0, 0, 0 ],\n",
    "    [0, 0, 0, 0, 0, 0, 1, 1, 1 ],\n",
    "    [-1, 0, 0, -1, 0, 0, -1, 0, 0 ],\n",
    "    [0, -1, 0, 0, -1, 0, 0, -1, 0 ],\n",
    "    [0, 0, -1, 0, 0, -1, 0, 0, -1 ],\n",
    "])       \n",
    "\n",
    "bub = np.array ([\n",
    "    75,\n",
    "    50,\n",
    "    60,\n",
    "    -60,\n",
    "    -45, \n",
    "    -60\n",
    "])\n",
    "\n"
   ]
  },
  {
   "cell_type": "code",
   "execution_count": 25,
   "id": "0c3180f5-f5bb-4420-856d-a026ade06875",
   "metadata": {},
   "outputs": [
    {
     "data": {
      "text/plain": [
       "        message: Optimization terminated successfully. (HiGHS Status 7: Optimal)\n",
       "        success: True\n",
       "         status: 0\n",
       "            fun: 470.0\n",
       "              x: [ 1.000e+01  4.500e+01  0.000e+00  5.000e+01  0.000e+00\n",
       "                   0.000e+00  0.000e+00  0.000e+00  6.000e+01]\n",
       "            nit: 4\n",
       "          lower:  residual: [ 1.000e+01  4.500e+01  0.000e+00  5.000e+01\n",
       "                              0.000e+00  0.000e+00  0.000e+00  0.000e+00\n",
       "                              6.000e+01]\n",
       "                 marginals: [ 0.000e+00  0.000e+00  4.000e+00  0.000e+00\n",
       "                              4.000e+00  4.000e+00  0.000e+00  0.000e+00\n",
       "                              0.000e+00]\n",
       "          upper:  residual: [       inf        inf        inf        inf\n",
       "                                    inf        inf        inf        inf\n",
       "                                    inf]\n",
       "                 marginals: [ 0.000e+00  0.000e+00  0.000e+00  0.000e+00\n",
       "                              0.000e+00  0.000e+00  0.000e+00  0.000e+00\n",
       "                              0.000e+00]\n",
       "          eqlin:  residual: []\n",
       "                 marginals: []\n",
       "        ineqlin:  residual: [ 2.000e+01  0.000e+00  0.000e+00  0.000e+00\n",
       "                              0.000e+00  0.000e+00]\n",
       "                 marginals: [-0.000e+00 -2.000e+00 -0.000e+00 -5.000e+00\n",
       "                             -2.000e+00 -3.000e+00]\n",
       " mip_node_count: 0\n",
       " mip_dual_bound: 0.0\n",
       "        mip_gap: 0.0"
      ]
     },
     "execution_count": 25,
     "metadata": {},
     "output_type": "execute_result"
    }
   ],
   "source": [
    "import scipy.optimize as opt\n",
    "opt.linprog(c, aub, bub)"
   ]
  },
  {
   "cell_type": "markdown",
   "id": "698e6f1d-7e56-46bd-9dfd-5c2d6ab448a3",
   "metadata": {},
   "source": [
    "## Ejercicio 5\n",
    "\n",
    "Una carpintería local fabrica sillas, mesas, libreros y bases de cama. Hay dos empleados en esta carpintería: un empleado experimentado y un aprendiz. El aprendiz tarda aproximadamente 50% más tiempo que el carpintero experimentado en construir cualquier cosa, además de que tiene un desperdicio de alrededor de 20% de material. Los materiales y tiempos necesarios para construir algo se desglozan en la siguiente tabla:"
   ]
  },
  {
   "cell_type": "markdown",
   "id": "3c14c9e4-8805-48f7-a652-95c8220db841",
   "metadata": {},
   "source": [
    "Las mesas se venden en 9000, las sillas en 3000, los libreros en 10000, y las bases de cama en 9000. Suponiendo una jornada de 40 horas a la semana y que tienen 100 unidades de madera, ¿qué les conviene construir durante una semana para maximizar su ganancia?\n",
    "\n",
    "¿Cuántas horas trabaja cada quién?\n",
    "\n",
    "¿Cuánto material se usa?\n",
    "\n",
    "¿Cuál se el ingreso total si se vende todo lo fabricado?"
   ]
  },
  {
   "cell_type": "markdown",
   "id": "7cd57df5-a3dc-4972-9839-18ee911226dc",
   "metadata": {},
   "source": [
    "![](tabla1.png)"
   ]
  },
  {
   "cell_type": "markdown",
   "id": "e8540854-b812-476f-b527-5e995469aa71",
   "metadata": {},
   "source": [
    "#### 1.- Identificar criterio de otimización:\n",
    "maximizar ganancia\n",
    "#### 2.- Variables de control\n",
    "Mesa Experimentado  --- $ x_{ME}$\n",
    "\n",
    "Silla Experimentado --- $ x_{SE}$  \n",
    "\n",
    "Librero Experimentado --- $ x_{LE}$\n",
    "\n",
    "Bases de cama Experimentado --- $ x_{BE}$\n",
    "\n",
    "Mesa Aprendiz --- $ x_{MA}$\n",
    "\n",
    "Silla Aprendiz --- $ x_{SA}$  \n",
    "\n",
    "Librero Aprendiz--- $ x_{LA}$\n",
    "\n",
    "Bases de cama Aprendiz --- $ x_{BA}$\n",
    "\n",
    "### 3.- Función de costo\n",
    "\n",
    "$ f(x_{ME}, x_{SE}, x_{LE}, x_{BE}, x_{MA}, x_{SA}, x_{LA}, x_{BA}) = 9000 x_{ME} + 3000 x_{SE} + 10000 x_{LE} + 9000 {x_BE} + 9000x_{MA} + 3000x_{SA} + 10000x_{LA} + 9000x_{BA} $\n",
    "\n",
    "### 4.- Información adicional\n",
    "\n",
    "##### Uso de materiales\n",
    "\n",
    "Mesas Exp ---- 6\n",
    "\n",
    "Silla Exp ---- 2\n",
    "\n",
    "Librero Exp ---- 5 \n",
    "\n",
    "Bases Exp ---- 5\n",
    "\n",
    "Mesas Ap ---- 7.2\n",
    "\n",
    "Silla Ap ---- 2.4\n",
    "\n",
    "Librero Ap ---- 6\n",
    "\n",
    "Bases Ap ---- 6\n",
    "\n",
    "hay 100 materiales\n",
    "\n",
    "##### Tiempo\n",
    "\n",
    "Mesas Exp ---- 3\n",
    "\n",
    "Silla Exp ---- 1\n",
    "\n",
    "Librero Exp ---- 4 \n",
    "\n",
    "Bases Exp ---- 3\n",
    "\n",
    "Mesas Ap ---- 4.5\n",
    "\n",
    "Silla Ap ---- 1.5\n",
    "\n",
    "Librero Ap ---- 6\n",
    "\n",
    "Bases Ap ---- 4.5\n",
    "\n",
    "40 horas a la semana"
   ]
  },
  {
   "cell_type": "markdown",
   "id": "89b85d64-1fb8-4285-81e5-c80c5aaeb448",
   "metadata": {},
   "source": [
    "#### Como final debe contener:\n",
    "\n",
    "$$\\min_{x_{ME}, x_{SE}, x_{LE}, x_{BE}, x_{MA}, x_{SA}, x_{LA}, x_{BA}}  9000 x_{ME} + 3000 x_{SE} + 10000 x_{LE} + 9000 x_{BE} + 9000 x_{MA} + 3000x_{SA} + 10000x_{LA} + 9000x_{BA} $$\n",
    "\n",
    "$$\\text {s.t.} $$\n",
    "#### Material\n",
    "$$ 6 x_{ME} + 2 x_{SE} + 5 x_{LE} + 5 x_{BE} \\leq 100 $$\n",
    "$$ 7.2 x_{MA} + 2.4{SA} + 6 x_{LA} + 6 x_{BA} \\leq 100 $$\n",
    "#### Tiempo\n",
    "$$ 3 x_{ME} + 1 x_{SE} + 4 x_{LE} + 3 x_{BE} \\leq 40 $$\n",
    "$$ 4.5 x_{MA} + 1.5 x_{SA} + 6 x_{LA} + 4.5 x_{BA} \\leq 40 $$\n",
    "#### Costo\n",
    "$$ x_{ME} + x_{SE} + x_{LE} + x_{BE} = 100 $$\n",
    "$$ x_{MA} + x_{SA} + x_{LA} + x_{BA} = 100 $$\n",
    "\n",
    "#### No negatividad\n",
    "$$ x_{ME} + x_{SE} + x_{LE} + x_{BE} \\geq 100 $$\n",
    "$$ x_{MA} + x_{SA} + x_{LA} + x_{BA} \\geq 100 $$\n",
    "\n"
   ]
  },
  {
   "cell_type": "code",
   "execution_count": 75,
   "id": "9d776b6a-6750-410f-9fc0-2ec918a0964a",
   "metadata": {},
   "outputs": [],
   "source": [
    "import numpy as np\n",
    "\n",
    "c = np.array ([\n",
    "    9000,\n",
    "    3000,\n",
    "    10000,\n",
    "    9000,\n",
    "    9000,\n",
    "    3000,\n",
    "    10000,\n",
    "    9000\n",
    "    ])\n",
    "\n",
    "aub = np.array ([\n",
    "    [6, 2, 5, 5, 7.2, 2.4, 6, 6 ],\n",
    "    [3, 1, 4, 3, 4.5, 1.5, 6, 4.5 ],\n",
    "    [1, 1, 1, 1, 1, 1, 1, 1],\n",
    "    [-1, -1, -1, -1, -1, -1, -1, -1],\n",
    "])       \n",
    "\n",
    "bub = np.array ([\n",
    "    100,\n",
    "    40,\n",
    "    100,\n",
    "    0\n",
    "        ])\n",
    "\n"
   ]
  },
  {
   "cell_type": "code",
   "execution_count": 77,
   "id": "9534973e-41ec-4713-9903-a29eda969a56",
   "metadata": {},
   "outputs": [
    {
     "data": {
      "text/plain": [
       "       message: Optimization terminated successfully. (HiGHS Status 7: Optimal)\n",
       "       success: True\n",
       "        status: 0\n",
       "           fun: 0.0\n",
       "             x: [ 0.000e+00  0.000e+00  0.000e+00  0.000e+00  0.000e+00\n",
       "                  0.000e+00  0.000e+00  0.000e+00]\n",
       "           nit: 0\n",
       "         lower:  residual: [ 0.000e+00  0.000e+00  0.000e+00  0.000e+00\n",
       "                             0.000e+00  0.000e+00  0.000e+00  0.000e+00]\n",
       "                marginals: [ 9.000e+03  3.000e+03  1.000e+04  9.000e+03\n",
       "                             9.000e+03  3.000e+03  1.000e+04  9.000e+03]\n",
       "         upper:  residual: [       inf        inf        inf        inf\n",
       "                                   inf        inf        inf        inf]\n",
       "                marginals: [ 0.000e+00  0.000e+00  0.000e+00  0.000e+00\n",
       "                             0.000e+00  0.000e+00  0.000e+00  0.000e+00]\n",
       "         eqlin:  residual: []\n",
       "                marginals: []\n",
       "       ineqlin:  residual: [ 1.000e+02  4.000e+01  1.000e+02  0.000e+00]\n",
       "                marginals: [-0.000e+00 -0.000e+00 -0.000e+00 -0.000e+00]"
      ]
     },
     "execution_count": 77,
     "metadata": {},
     "output_type": "execute_result"
    }
   ],
   "source": [
    "import scipy.optimize as opt\n",
    "opt.linprog(c, aub, bub)"
   ]
  },
  {
   "cell_type": "markdown",
   "id": "37161747-6970-420f-bae4-5b50ddaf8add",
   "metadata": {},
   "source": [
    "La carpintería recibió una orden por 3 combos de mesa + 6 sillas.\n",
    "\n",
    "¿Se puede cumplir la orden?\n",
    "\n",
    "Si sí, ¿qué es lo que tienen que fabricar en el resto del tiempo y con el resto del material para maximizar su ganancia?\n",
    "\n",
    "¿Cuántas horas trabaja cada quién?\n",
    "\n",
    "¿Cuánto material se usa?\n",
    "\n",
    "¿Cuál es el nuevo ingreso total?"
   ]
  },
  {
   "cell_type": "markdown",
   "id": "4c636b77-61ae-4097-a0a0-d47d1dea7013",
   "metadata": {},
   "source": []
  }
 ],
 "metadata": {
  "kernelspec": {
   "display_name": "Python 3 (ipykernel)",
   "language": "python",
   "name": "python3"
  },
  "language_info": {
   "codemirror_mode": {
    "name": "ipython",
    "version": 3
   },
   "file_extension": ".py",
   "mimetype": "text/x-python",
   "name": "python",
   "nbconvert_exporter": "python",
   "pygments_lexer": "ipython3",
   "version": "3.12.4"
  }
 },
 "nbformat": 4,
 "nbformat_minor": 5
}
