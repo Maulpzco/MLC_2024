{
 "cells": [
  {
   "cell_type": "markdown",
   "id": "24756521-e0f3-4140-9b88-cd4e73957f12",
   "metadata": {},
   "source": [
    "# Actividad 4 - 29/08/2024"
   ]
  },
  {
   "cell_type": "markdown",
   "id": "03f7fb44-8c56-49c4-9436-1f74149a0e1e",
   "metadata": {},
   "source": [
    "## Mauricio López Coronado"
   ]
  },
  {
   "cell_type": "markdown",
   "id": "484958f2-fd18-483f-b6cb-698972845925",
   "metadata": {},
   "source": [
    "### 1. Utiliza sympy y encuentra los valores de las incógnitas que hagan que los siguientes sistemas de ecuaciones sean verdaderos:"
   ]
  },
  {
   "cell_type": "markdown",
   "id": "d9656c2f-87e5-45f8-8f6c-beb5b1f2335e",
   "metadata": {},
   "source": [
    "$$ x + y = 10 $$\n",
    "$$ x - y = 2 $$\n"
   ]
  },
  {
   "cell_type": "code",
   "execution_count": 82,
   "id": "c4209810-22b1-45cb-bea3-b7df108ddb9e",
   "metadata": {
    "scrolled": true
   },
   "outputs": [
    {
     "data": {
      "text/latex": [
       "$\\displaystyle 6$"
      ],
      "text/plain": [
       "6"
      ]
     },
     "execution_count": 82,
     "metadata": {},
     "output_type": "execute_result"
    }
   ],
   "source": [
    "import sympy as sp\n",
    "sp.var(\"x\")\n",
    "sp.var(\"y\")\n",
    "eq1 = x + y - 10\n",
    "eq2 = x - y - 2\n",
    "\n",
    "xeq1 = sp.solve(eq1, x)[0]\n",
    "\n",
    "yeq2 = eq2.subs(x, xeq1)\n",
    "\n",
    "ysol = sp.solve(yeq2, y)[0]\n",
    "\n",
    "xsol = xeq1.subs(y, ysol)\n",
    "\n",
    "xsol \n"
   ]
  },
  {
   "cell_type": "code",
   "execution_count": 74,
   "id": "a29c3470-96f1-49ce-a2a9-9c518a7de1ef",
   "metadata": {},
   "outputs": [
    {
     "data": {
      "text/latex": [
       "$\\displaystyle 4$"
      ],
      "text/plain": [
       "4"
      ]
     },
     "execution_count": 74,
     "metadata": {},
     "output_type": "execute_result"
    }
   ],
   "source": [
    "ysol"
   ]
  },
  {
   "cell_type": "markdown",
   "id": "0b4401c0-c5e0-44ce-a2f1-62c1f6f5b879",
   "metadata": {},
   "source": [
    "$$ \\frac{3x-2y}{3} + 4y = \\frac{13}{3} $$\n",
    "$$ \\frac{2(-2y+x)}{3} -  \\frac{3x}{-2} = -\\frac{13}{6} $$"
   ]
  },
  {
   "cell_type": "code",
   "execution_count": 68,
   "id": "2959b584-3cb3-459d-b8fb-5e268fd4a140",
   "metadata": {
    "scrolled": true
   },
   "outputs": [
    {
     "data": {
      "text/latex": [
       "$\\displaystyle -0.168831168831169$"
      ],
      "text/plain": [
       "-0.168831168831169"
      ]
     },
     "execution_count": 68,
     "metadata": {},
     "output_type": "execute_result"
    }
   ],
   "source": [
    "import sympy as sp\n",
    "sp.var(\"x\")\n",
    "sp.var(\"y\")\n",
    "eq1 = ((3*x-2*y)/(3)) + 4*y - (13/3)\n",
    "eq2 = ((2*(-2*y + x))/(3)) - ((3*x)/(-2)) + (13/6)\n",
    "\n",
    "xeq1 = sp.solve(eq1, x)[0]\n",
    "\n",
    "yeq2 = eq2.subs(x, xeq1)\n",
    "\n",
    "ysol = sp.solve(yeq2, y)[0]\n",
    "\n",
    "xsol = xeq1.subs(y, ysol)\n",
    "\n",
    "xsol"
   ]
  },
  {
   "cell_type": "code",
   "execution_count": 70,
   "id": "7f66f109-8121-4a05-8451-9a3cef0c6e0b",
   "metadata": {},
   "outputs": [
    {
     "data": {
      "text/latex": [
       "$\\displaystyle 1.35064935064935$"
      ],
      "text/plain": [
       "1.35064935064935"
      ]
     },
     "execution_count": 70,
     "metadata": {},
     "output_type": "execute_result"
    }
   ],
   "source": [
    "ysol"
   ]
  },
  {
   "cell_type": "markdown",
   "id": "a74751be-0cad-43bd-af86-198c5af3083a",
   "metadata": {},
   "source": [
    "$$ x^2 - 2y = 16 $$\n",
    "$$ x - y = 3 $$"
   ]
  },
  {
   "cell_type": "code",
   "execution_count": 118,
   "id": "f2278ccf-dee9-45ff-8e5f-8dcb73973108",
   "metadata": {},
   "outputs": [
    {
     "data": {
      "text/plain": [
       "[-sqrt(2*y + 16), sqrt(2*y + 16)]"
      ]
     },
     "execution_count": 118,
     "metadata": {},
     "output_type": "execute_result"
    }
   ],
   "source": [
    "import sympy as sp\n",
    "sp.var(\"x\")\n",
    "sp.var(\"y\")\n",
    "eq1 = x**2 - 2*y - 16\n",
    "eq2 = x - y - 3\n",
    "\n",
    "xeq1 = sp.solve(eq1, x)\n",
    "xeq1"
   ]
  },
  {
   "cell_type": "code",
   "execution_count": 120,
   "id": "b7ab12de-750b-43f1-9255-8239609dfdbc",
   "metadata": {},
   "outputs": [
    {
     "data": {
      "text/latex": [
       "$\\displaystyle - \\sqrt{12 - 2 \\sqrt{11}}$"
      ],
      "text/plain": [
       "-sqrt(12 - 2*sqrt(11))"
      ]
     },
     "execution_count": 120,
     "metadata": {},
     "output_type": "execute_result"
    }
   ],
   "source": [
    "yeq2 = eq2.subs(x, xeq1[0])\n",
    "\n",
    "ysol = sp.solve(yeq2, y)[0]\n",
    "\n",
    "x1sol = xeq1[0].subs(y, ysol)\n",
    "\n",
    "x1sol"
   ]
  },
  {
   "cell_type": "code",
   "execution_count": 122,
   "id": "15f05e0a-9079-40a4-8019-87bf014c8568",
   "metadata": {},
   "outputs": [
    {
     "data": {
      "text/latex": [
       "$\\displaystyle - \\sqrt{11} - 2$"
      ],
      "text/plain": [
       "-sqrt(11) - 2"
      ]
     },
     "execution_count": 122,
     "metadata": {},
     "output_type": "execute_result"
    }
   ],
   "source": [
    "ysol"
   ]
  },
  {
   "cell_type": "code",
   "execution_count": 128,
   "id": "cb6d921e-6e2d-4e37-ab67-22719bdcd583",
   "metadata": {
    "scrolled": true
   },
   "outputs": [
    {
     "data": {
      "text/latex": [
       "$\\displaystyle \\sqrt{2 \\sqrt{11} + 12}$"
      ],
      "text/plain": [
       "sqrt(2*sqrt(11) + 12)"
      ]
     },
     "execution_count": 128,
     "metadata": {},
     "output_type": "execute_result"
    }
   ],
   "source": [
    "yeq2 = eq2.subs(x, xeq1[1])\n",
    "\n",
    "ysol = sp.solve(yeq2, y)[0]\n",
    "\n",
    "xsol2 = xeq1[1].subs(y, ysol)\n",
    "\n",
    "xsol2"
   ]
  },
  {
   "cell_type": "code",
   "execution_count": 130,
   "id": "88950a79-dd20-4fde-80a2-b616a5662841",
   "metadata": {},
   "outputs": [
    {
     "data": {
      "text/latex": [
       "$\\displaystyle -2 + \\sqrt{11}$"
      ],
      "text/plain": [
       "-2 + sqrt(11)"
      ]
     },
     "execution_count": 130,
     "metadata": {},
     "output_type": "execute_result"
    }
   ],
   "source": [
    "ysol"
   ]
  },
  {
   "cell_type": "markdown",
   "id": "b511b098-1bed-4ece-9d6d-c3e19fd82df4",
   "metadata": {},
   "source": [
    "$$ x + y - z = 10 $$\n",
    "$$ x - y = 2 $$\n",
    "$$ y + z = -2 $$"
   ]
  },
  {
   "cell_type": "code",
   "execution_count": 142,
   "id": "6aa63665-488c-4deb-82d7-ccdf2f941a25",
   "metadata": {
    "scrolled": true
   },
   "outputs": [
    {
     "data": {
      "text/latex": [
       "$\\displaystyle - y - 2$"
      ],
      "text/plain": [
       "-y - 2"
      ]
     },
     "execution_count": 142,
     "metadata": {},
     "output_type": "execute_result"
    }
   ],
   "source": [
    "import sympy as sp\n",
    "sp.var(\"x\")\n",
    "sp.var(\"y\")\n",
    "sp.var(\"z\")\n",
    "eq1 = x + y - z - 10\n",
    "eq2 = x - y - 2\n",
    "eq3 = y + z + 2\n",
    "\n",
    "eq3z = sp.solve(eq3, z)[0]\n",
    "eq3z\n"
   ]
  },
  {
   "cell_type": "code",
   "execution_count": 146,
   "id": "cc7df78b-d8d5-4e85-995f-ea827697cb54",
   "metadata": {},
   "outputs": [
    {
     "data": {
      "text/latex": [
       "$\\displaystyle - 2 y - 4$"
      ],
      "text/plain": [
       "-2*y - 4"
      ]
     },
     "execution_count": 146,
     "metadata": {},
     "output_type": "execute_result"
    }
   ],
   "source": [
    "eq2x = eq2.subs(x, eq3z)\n",
    "eq2x"
   ]
  },
  {
   "cell_type": "code",
   "execution_count": 168,
   "id": "fc47383f-aed3-4856-b560-52e874967a43",
   "metadata": {},
   "outputs": [
    {
     "data": {
      "text/latex": [
       "$\\displaystyle -12$"
      ],
      "text/plain": [
       "-12"
      ]
     },
     "execution_count": 168,
     "metadata": {},
     "output_type": "execute_result"
    }
   ],
   "source": [
    "eqfy = eq1.subs(z, eq3z).subs(x, eq2x)\n",
    "eqfy"
   ]
  },
  {
   "cell_type": "code",
   "execution_count": null,
   "id": "79601978-a5f5-4d00-ae6b-81479c6ce422",
   "metadata": {},
   "outputs": [],
   "source": [
    "-2y - 4 + y + y + 2 - 10"
   ]
  },
  {
   "cell_type": "markdown",
   "id": "20fdc5f0-07dd-46ef-b12e-059be761d66b",
   "metadata": {},
   "source": [
    "### Encuentra los puntos críticos usando cálculo diferencial, decide si son máximos o mínimos usando el criterio de la segunda derivada, y grafica para decidir se son óptimos locales o globales:"
   ]
  },
  {
   "cell_type": "markdown",
   "id": "51eea3cb-9bce-434a-b8a9-cf10aa2bc652",
   "metadata": {},
   "source": [
    "$$ f(x) = 1235 + 113x - 6x^2 $$"
   ]
  },
  {
   "cell_type": "code",
   "execution_count": 172,
   "id": "27e983c5-1e4c-4db1-9c6c-1a341c64e2e8",
   "metadata": {},
   "outputs": [
    {
     "name": "stdout",
     "output_type": "stream",
     "text": [
      "El punto crítico está en:113/12\n"
     ]
    },
    {
     "data": {
      "text/plain": [
       "[<matplotlib.lines.Line2D at 0x18591c59af0>]"
      ]
     },
     "execution_count": 172,
     "metadata": {},
     "output_type": "execute_result"
    },
    {
     "data": {
      "image/png": "[encoded data removed]",
      "text/plain": [
       "<Figure size 600x300 with 1 Axes>"
      ]
     },
     "metadata": {},
     "output_type": "display_data"
    }
   ],
   "source": [
    "import sympy as sp\n",
    "import numpy as np\n",
    "import matplotlib.pyplot as plt\n",
    "sp.var(\"x\")\n",
    "\n",
    "def f(x): \n",
    "    return 1235 + 113*x - 6*x**2\n",
    "\n",
    "df1 = sp.diff(f(x), x)\n",
    "\n",
    "pc = sp.solve(df1, x)\n",
    "\n",
    "x = np.linspace(-1, 5, 1000)\n",
    "print(\"El punto crítico está en:\" + str(pc[0]))\n",
    "plt.figure(figsize=(6, 3))\n",
    "plt.plot(x, f(x))\n",
    "plt.grid()\n",
    "plt.plot(2, f(2), \"*r\", ms=20)"
   ]
  },
  {
   "cell_type": "markdown",
   "id": "67a97747-9445-4815-afca-c0d5317221b0",
   "metadata": {},
   "source": [
    "$$ -3 + x + \\frac{π}{x}, ----  para -- x > 0 $$"
   ]
  },
  {
   "cell_type": "code",
   "execution_count": 185,
   "id": "db3aafeb-07fd-43cb-a31c-792bb83c5314",
   "metadata": {},
   "outputs": [
    {
     "name": "stdout",
     "output_type": "stream",
     "text": [
      "El punto crítico está en:-1.77245385090552\n"
     ]
    },
    {
     "data": {
      "text/plain": [
       "[<matplotlib.lines.Line2D at 0x18591d86cf0>]"
      ]
     },
     "execution_count": 185,
     "metadata": {},
     "output_type": "execute_result"
    },
    {
     "data": {
      "image/png": "[encoded data removed]",
      "text/plain": [
       "<Figure size 600x300 with 1 Axes>"
      ]
     },
     "metadata": {},
     "output_type": "display_data"
    }
   ],
   "source": [
    "import sympy as sp\n",
    "import numpy as np\n",
    "import matplotlib.pyplot as plt\n",
    "sp.var(\"x\")\n",
    "\n",
    "def f(x): \n",
    "    return -3 + x + (np.pi/x)\n",
    "\n",
    "df1 = sp.diff(f(x), x)\n",
    "\n",
    "pc = sp.solve(df1, x)\n",
    "\n",
    "x = np.linspace(1, 5, 1000)\n",
    "print(\"El punto crítico está en:\" + str(pc[0]))\n",
    "plt.figure(figsize=(6, 3))\n",
    "plt.plot(x, f(x))\n",
    "plt.grid()\n",
    "plt.plot(2, f(2), \"*r\", ms=20)"
   ]
  },
  {
   "cell_type": "markdown",
   "id": "26383faf-84f8-4590-8884-824e4c4ccb62",
   "metadata": {},
   "source": [
    "$$ 2 - 3x + \\sqrt{8-2*x^2} -- para -2 ≤ x ≤ 2 $$"
   ]
  },
  {
   "cell_type": "code",
   "execution_count": 191,
   "id": "09f7082e-4d1e-4730-a543-33e4f936b962",
   "metadata": {},
   "outputs": [
    {
     "name": "stdout",
     "output_type": "stream",
     "text": [
      "El punto crítico está en:-1.80906806746658\n"
     ]
    },
    {
     "data": {
      "text/plain": [
       "[<matplotlib.lines.Line2D at 0x18591ed4a10>]"
      ]
     },
     "execution_count": 191,
     "metadata": {},
     "output_type": "execute_result"
    },
    {
     "data": {
      "image/png": "[encoded data removed]",
      "text/plain": [
       "<Figure size 600x300 with 1 Axes>"
      ]
     },
     "metadata": {},
     "output_type": "display_data"
    }
   ],
   "source": [
    "import sympy as sp\n",
    "import numpy as np\n",
    "import matplotlib.pyplot as plt\n",
    "sp.var(\"x\")\n",
    "\n",
    "def f(x): \n",
    "    return 2 - 3*x + (8-2*(x**2))**(1/2)\n",
    "\n",
    "df1 = sp.diff(f(x), x)\n",
    "\n",
    "pc = sp.solve(df1, x)\n",
    "\n",
    "x = np.linspace(-2, 2, 1000)\n",
    "print(\"El punto crítico está en:\" + str(pc[0]))\n",
    "plt.figure(figsize=(6, 3))\n",
    "plt.plot(x, f(x))\n",
    "plt.grid()\n",
    "plt.plot(2, f(2), \"*r\", ms=20)"
   ]
  },
  {
   "cell_type": "markdown",
   "id": "afffa001-d07f-4115-89b3-d24f35541d90",
   "metadata": {},
   "source": [
    "$$ \\frac{1}{4}x^4 + \\frac{1}{3}x^3 - x^2 en -3, 1.7 $$"
   ]
  },
  {
   "cell_type": "code",
   "execution_count": 198,
   "id": "1e745976-b59b-4dae-adf5-7760d10a11b4",
   "metadata": {},
   "outputs": [
    {
     "name": "stdout",
     "output_type": "stream",
     "text": [
      "El punto crítico está en:-2.00000000000000\n"
     ]
    },
    {
     "data": {
      "text/plain": [
       "[<matplotlib.lines.Line2D at 0x18591f5c5c0>]"
      ]
     },
     "execution_count": 198,
     "metadata": {},
     "output_type": "execute_result"
    },
    {
     "data": {
      "image/png": "[encoded data removed]",
      "text/plain": [
       "<Figure size 600x300 with 1 Axes>"
      ]
     },
     "metadata": {},
     "output_type": "display_data"
    }
   ],
   "source": [
    "import sympy as sp\n",
    "import numpy as np\n",
    "import matplotlib.pyplot as plt\n",
    "sp.var(\"x\")\n",
    "\n",
    "def f(x): \n",
    "    return (1/4)*(x**4) + (1/3)*(x**3) - x**2\n",
    "\n",
    "df1 = sp.diff(f(x), x)\n",
    "\n",
    "pc = sp.solve(df1, x)\n",
    "\n",
    "x = np.linspace(-3, 1.7, 1000)\n",
    "print(\"El punto crítico está en:\" + str(pc[0]))\n",
    "plt.figure(figsize=(6, 3))\n",
    "plt.plot(x, f(x))\n",
    "plt.grid()\n",
    "plt.plot(2, f(2), \"*r\", ms=20)"
   ]
  },
  {
   "cell_type": "code",
   "execution_count": null,
   "id": "da7125fa-f2d7-4f74-8e16-6ecff2f55a4d",
   "metadata": {},
   "outputs": [],
   "source": []
  }
 ],
 "metadata": {
  "kernelspec": {
   "display_name": "Python 3 (ipykernel)",
   "language": "python",
   "name": "python3"
  },
  "language_info": {
   "codemirror_mode": {
    "name": "ipython",
    "version": 3
   },
   "file_extension": ".py",
   "mimetype": "text/x-python",
   "name": "python",
   "nbconvert_exporter": "python",
   "pygments_lexer": "ipython3",
   "version": "3.12.4"
  }
 },
 "nbformat": 4,
 "nbformat_minor": 5
}
