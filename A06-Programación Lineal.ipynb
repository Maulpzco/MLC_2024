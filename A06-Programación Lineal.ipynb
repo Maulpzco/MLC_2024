{
 "cells": [
  {
   "cell_type": "markdown",
   "id": "b1bd31a8-e4a5-47ed-9965-81db4637a69e",
   "metadata": {},
   "source": [
    "# A06 - programación lineal"
   ]
  },
  {
   "cell_type": "markdown",
   "id": "13a8a495-585b-4c1a-ac40-efbf66bfcca2",
   "metadata": {},
   "source": [
    "## Mauricio López Coronado"
   ]
  },
  {
   "cell_type": "markdown",
   "id": "cb2d3af7-6db3-4dda-8c85-3fb9b46a8538",
   "metadata": {},
   "source": [
    "### Ejercicio 1\n",
    "Una carpintería local fabrica sillas, mesas, libreros y bases de cama. Hay dos empleados en esta carpintería: un empleado experimentado y un aprendiz. El aprendiz tarda aproximadamente 50% más tiempo que el carpintero experimentado en construir cualquier cosa, además de que tiene un desperdicio de alrededor de 20% de material. Los materiales y tiempos necesarios para construir algo se desglozan en la siguiente tabla:"
   ]
  },
  {
   "cell_type": "markdown",
   "id": "7cd79954-1888-40b1-8adb-e215b57ac7b8",
   "metadata": {},
   "source": [
    "![](tabla1.png)"
   ]
  },
  {
   "cell_type": "markdown",
   "id": "0eaa33e9-51aa-44f7-8b72-c1213b30105d",
   "metadata": {},
   "source": [
    "Las mesas se venden en 9000, las sillas en 3000, los libreros en 10000, y las bases de cama en 9000. Suponiendo una jornada de 40 horas a la semana y que tienen 100 unidades de madera, ¿qué les conviene construir durante una semana para maximizar su ganancia?\n",
    "\n",
    "¿Cuántas horas trabaja cada quién?\n",
    "\n",
    "¿Cuánto material se usa?\n",
    "\n",
    "¿Cuál se el ingreso total si se vende todo lo fabricado?"
   ]
  },
  {
   "cell_type": "markdown",
   "id": "741d1862-78ca-4bc0-9d3a-b2070ed300a9",
   "metadata": {},
   "source": [
    "#### 1.- Identificar criterio de otimización:\n",
    "maximizar ganancia\n",
    "#### 2.- Variables de control\n",
    "Mesa Experimentado  --- $ x_{ME}$\n",
    "\n",
    "Silla Experimentado --- $ x_{SE}$  \n",
    "\n",
    "Librero Experimentado --- $ x_{LE}$\n",
    "\n",
    "Bases de cama Experimentado --- $ x_{BE}$\n",
    "\n",
    "Mesa Aprendiz --- $ x_{MA}$\n",
    "\n",
    "Silla Aprendiz --- $ x_{SA}$  \n",
    "\n",
    "Librero Aprendiz--- $ x_{LA}$\n",
    "\n",
    "Bases de cama Aprendiz --- $ x_{BA}$\n",
    "\n",
    "### 3.- Función de costo\n",
    "\n",
    "$ f(x_{ME}, x_{SE}, x_{LE}, x_{BE}, x_{MA}, x_{SA}, x_{LA}, x_{BA}) = 9000 x_{ME} + 3000 x_{SE} + 10000 x_{LE} + 9000 {x_BE} + 9000x_{MA} + 3000x_{SA} + 10000x_{LA} + 9000x_{BA} $\n",
    "\n",
    "### 4.- Información adicional\n",
    "\n",
    "##### Uso de materiales\n",
    "\n",
    "Mesas Exp ---- 6\n",
    "\n",
    "Silla Exp ---- 2\n",
    "\n",
    "Librero Exp ---- 5 \n",
    "\n",
    "Bases Exp ---- 5\n",
    "\n",
    "Mesas Ap ---- 7.2\n",
    "\n",
    "Silla Ap ---- 2.4\n",
    "\n",
    "Librero Ap ---- 6\n",
    "\n",
    "Bases Ap ---- 6\n",
    "\n",
    "hay 100 materiales\n",
    "\n",
    "##### Tiempo\n",
    "\n",
    "Mesas Exp ---- 3\n",
    "\n",
    "Silla Exp ---- 1\n",
    "\n",
    "Librero Exp ---- 4 \n",
    "\n",
    "Bases Exp ---- 3\n",
    "\n",
    "Mesas Ap ---- 4.5\n",
    "\n",
    "Silla Ap ---- 1.5\n",
    "\n",
    "Librero Ap ---- 6\n",
    "\n",
    "Bases Ap ---- 4.5\n",
    "\n",
    "40 horas a la semana"
   ]
  },
  {
   "cell_type": "markdown",
   "id": "2241a800-bce7-44b7-8e98-9969ad1cdcf7",
   "metadata": {},
   "source": [
    "#### Como final debe contener:\n",
    "\n",
    "$$\\min_{x_{ME}, x_{SE}, x_{LE}, x_{BE}, x_{MA}, x_{SA}, x_{LA}, x_{BA}}  9000 x_ME + 3000 x_SE + 10000 x_LE + 9000 x_BE + 9000x_MA + 3000x_SA + 10000x_LA + 9000x_BA $$\n",
    "\n",
    "$$\\text {s.t.} $$\n",
    "\n",
    "\n"
   ]
  },
  {
   "cell_type": "markdown",
   "id": "5d6ce2e5-cefe-4b01-b0c3-fe6032d6c4a2",
   "metadata": {},
   "source": [
    "### Ejercicio 2"
   ]
  },
  {
   "cell_type": "markdown",
   "id": "4d39a028-a706-4c45-b70b-02adbc1d34a2",
   "metadata": {},
   "source": [
    "La carpintería recibió una orden por 3 combos de mesa + 6 sillas.\n",
    "\n",
    "¿Se puede cumplir la orden?\n",
    "\n",
    "Si sí, ¿qué es lo que tienen que fabricar en el resto del tiempo y con el resto del material para maximizar su ganancia?\n",
    "\n",
    "¿Cuántas horas trabaja cada quién?\n",
    "\n",
    "¿Cuánto material se usa?\n",
    "\n",
    "¿Cuál es el nuevo ingreso total?"
   ]
  },
  {
   "cell_type": "code",
   "execution_count": null,
   "id": "9b3ab8d5-fcc7-47bb-ad5c-116ea684d82e",
   "metadata": {},
   "outputs": [],
   "source": []
  }
 ],
 "metadata": {
  "kernelspec": {
   "display_name": "Python 3 (ipykernel)",
   "language": "python",
   "name": "python3"
  },
  "language_info": {
   "codemirror_mode": {
    "name": "ipython",
    "version": 3
   },
   "file_extension": ".py",
   "mimetype": "text/x-python",
   "name": "python",
   "nbconvert_exporter": "python",
   "pygments_lexer": "ipython3",
   "version": "3.12.4"
  }
 },
 "nbformat": 4,
 "nbformat_minor": 5
}
