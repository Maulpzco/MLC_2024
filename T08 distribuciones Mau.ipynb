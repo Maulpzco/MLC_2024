{
 "cells": [
  {
   "cell_type": "markdown",
   "id": "5212de05-a8c6-4db7-b9e7-574aeb93e31a",
   "metadata": {},
   "source": [
    "### Mauricio López Coronado\n",
    "\n",
    "# Tarea 8"
   ]
  },
  {
   "cell_type": "markdown",
   "id": "5ccb6114-c4ef-42e8-bda3-6f16a93ad85e",
   "metadata": {},
   "source": [
    "### 1.- Un proyecto de construcción está por comenzar. Se hace la compra de los materiales y el proveedor dice que en promedio tardan una semana con una desviación de 3 días en llegar. Una vez llegados los materiales se tarda entre 3 y 5 semanas en construir (uniforme). Después de la construcción se deben esperar 3 días antes de empezar a pintar, y toma 6 días en promedio con 2 días de desviación estándar hacerlo.\n",
    "\n",
    "a) Describe en una celda qué distribución usarías para cada paso del proceso\n",
    "\n",
    "b) Simula cada paso en el proceso un millón de veces\n",
    "\n",
    "c) Agrupa las simulaciones de cada paso para tener la simulación del proceso completo\n",
    "\n",
    "d) ¿Cuál es el tiempo promedio para de inicio-fin del proyecto?\n",
    "\n",
    "e) De acuerdo a tus simulaciones, ¿cuál es el peor caso? ¿cuál es el mejor caso?\n",
    "\n",
    "f) Si el proyecto se tiene que entregar a más tardar en 50 días o se tiene que pagar una compensación al cliente, ¿cuál es la probabilidad de que el proyecto se entregue a tiempo?\n",
    "\n",
    "g) ¿Cuál es la probabilidad de que el proyecto tome entre 20 y 40 días?"
   ]
  },
  {
   "cell_type": "markdown",
   "id": "ac84e180-c207-45b1-9d6e-28a85123482d",
   "metadata": {},
   "source": [
    "### a)"
   ]
  },
  {
   "cell_type": "markdown",
   "id": "9658d7fe-ae03-459c-94aa-1806cec1f1c4",
   "metadata": {},
   "source": [
    "Para la llegada de materiales -- distribución Normal\n",
    "\n",
    "Tiempo de construcción -- distribución Uniforme\n",
    "\n",
    "Pintura -- distribución Normal"
   ]
  },
  {
   "cell_type": "markdown",
   "id": "4760863a-9121-4658-aad8-4dd9444b26b0",
   "metadata": {},
   "source": [
    "### b)"
   ]
  },
  {
   "cell_type": "code",
   "execution_count": 5,
   "id": "a28aab96-187f-4c5d-b8fb-068085950b2f",
   "metadata": {},
   "outputs": [],
   "source": [
    "import numpy as np\n",
    "n = 1000000\n",
    "\n",
    "materiales = np.random.normal(7, 3, n)\n",
    "\n",
    "tiempoconstruccion = np.random.uniform(3, 5, n)*7\n",
    "\n",
    "tiempoespera = np.random.normal(3, 0, n)\n",
    "\n",
    "pintura = np.random.normal(6, 2, n)"
   ]
  },
  {
   "cell_type": "markdown",
   "id": "ded3beec-22af-4fab-a6b7-54d5eea07614",
   "metadata": {},
   "source": [
    "### c)"
   ]
  },
  {
   "cell_type": "code",
   "execution_count": 7,
   "id": "b9bf0bcc-77ed-44b0-af10-28efaaf80007",
   "metadata": {},
   "outputs": [
    {
     "data": {
      "text/plain": [
       "array([47.01437862, 37.65648371, 39.85075838, ..., 46.06841808,\n",
       "       50.96699407, 35.19427792])"
      ]
     },
     "execution_count": 7,
     "metadata": {},
     "output_type": "execute_result"
    }
   ],
   "source": [
    "tot = materiales + tiempoconstruccion + tiempoespera + pintura\n",
    "tot"
   ]
  },
  {
   "cell_type": "markdown",
   "id": "ff348391-2c6d-4f64-ad4a-c72ec7d64902",
   "metadata": {},
   "source": [
    "### d)"
   ]
  },
  {
   "cell_type": "code",
   "execution_count": 10,
   "id": "e046cffc-9608-4a78-8f70-94fce2cbe42e",
   "metadata": {},
   "outputs": [
    {
     "data": {
      "text/plain": [
       "43.99840943455712"
      ]
     },
     "execution_count": 10,
     "metadata": {},
     "output_type": "execute_result"
    }
   ],
   "source": [
    "tprom = np.mean(tot)\n",
    "tprom"
   ]
  },
  {
   "cell_type": "markdown",
   "id": "58ae53b9-3ac8-4c5a-89d6-e0edabe0940e",
   "metadata": {},
   "source": [
    "### e)"
   ]
  },
  {
   "cell_type": "code",
   "execution_count": 13,
   "id": "1ae36d73-25f8-47b0-ad55-7a5694929f92",
   "metadata": {},
   "outputs": [
    {
     "name": "stdout",
     "output_type": "stream",
     "text": [
      "Peor =  68.55187706306751    Mejor =  20.659459497752994\n"
     ]
    }
   ],
   "source": [
    "peor = np.max(tot)\n",
    "\n",
    "mejor = np.min(tot)\n",
    "\n",
    "print(\"Peor = \", peor,\"  \", \"Mejor = \", mejor)"
   ]
  },
  {
   "cell_type": "markdown",
   "id": "616891d1-aa53-493b-8221-7a752976c766",
   "metadata": {},
   "source": [
    "### f)"
   ]
  },
  {
   "cell_type": "code",
   "execution_count": 16,
   "id": "589c44e0-a609-4f67-a3e4-7c5e551e92f9",
   "metadata": {},
   "outputs": [
    {
     "data": {
      "text/plain": [
       "0.857646"
      ]
     },
     "execution_count": 16,
     "metadata": {},
     "output_type": "execute_result"
    }
   ],
   "source": [
    "probtiempo = np.mean(tot <= 50)\n",
    "probtiempo"
   ]
  },
  {
   "cell_type": "markdown",
   "id": "6b9403a3-f2f9-43b9-813a-c5c5131809a8",
   "metadata": {},
   "source": [
    "### g)"
   ]
  },
  {
   "cell_type": "code",
   "execution_count": 19,
   "id": "6fd88ead-0027-4e0d-8367-359ce2697d86",
   "metadata": {},
   "outputs": [
    {
     "data": {
      "text/plain": [
       "0.243631"
      ]
     },
     "execution_count": 19,
     "metadata": {},
     "output_type": "execute_result"
    }
   ],
   "source": [
    "probtiempo2 = np.mean((tot >= 20) & (tot <= 40))\n",
    "probtiempo2"
   ]
  },
  {
   "cell_type": "markdown",
   "id": "a2ae8e52-bb97-4cf0-9a29-dddd5e4ebbb4",
   "metadata": {},
   "source": [
    "### 2.- Hay un elevador pequeño en una plaza donde se espera que entren máximo 4 personas a la vez, y su capacidad de peso para poder operar es de 300 kg. En el último censo se encontró que habían 378350 personas en la zona:\n",
    "\n",
    "185392 mujeres\n",
    "\n",
    "162690 hombres\n",
    "\n",
    "30268 personas que o prefirieron no dar la información o se identificaron como no binarias.\n",
    "\n",
    "El peso promedio medido en mujeres es de 70 kg con una desviación estándar de 11 kg. \n",
    "\n",
    "En los hombres se midió un peso promedio de 80 kg y una desviación estándar de 16 kg. \n",
    "\n",
    "En el tercer grupo se midió un peso promedio de 73 kg con una desviación estándar de 12 kg.\n",
    "\n",
    "a) Si el elevador se llenara 10,000 veces, ¿cuántas de esas veces se excedería el peso permitido?\n",
    "\n",
    "b) ¿Qué peso total tendría que soportar el elevador si se quiere que el 95% de las veces que se llene no se exceda el peso permitido?"
   ]
  },
  {
   "cell_type": "code",
   "execution_count": 22,
   "id": "c3d834af-48a4-41a1-86fb-2fe6e8f3c68d",
   "metadata": {},
   "outputs": [],
   "source": [
    "# Proporciones de la población\n",
    "probmu  = .49\n",
    "probhom = .43\n",
    "probnob = .08\n"
   ]
  },
  {
   "cell_type": "markdown",
   "id": "23733016-8fa0-477d-88d3-61bd66f46457",
   "metadata": {},
   "source": [
    "## A"
   ]
  },
  {
   "cell_type": "code",
   "execution_count": 34,
   "id": "dd9056a3-841b-4dfb-b011-c32d1b4c41b3",
   "metadata": {},
   "outputs": [
    {
     "data": {
      "text/plain": [
       "9905"
      ]
     },
     "execution_count": 34,
     "metadata": {},
     "output_type": "execute_result"
    }
   ],
   "source": [
    "n = 10000\n",
    "lista = []\n",
    "\n",
    "for i in range(n):\n",
    "    grupo = 0\n",
    "    \n",
    "    for j in range(5):\n",
    "        probs =  np.random.choice([\"mujer\", \"hombre\", \"no binario\"], p = [.49, .43, .08])\n",
    "        \n",
    "        if probs == \"mujer\":\n",
    "            grupo += np.random.normal(70, 11)\n",
    "            \n",
    "        elif probs == \"hombre\":\n",
    "            grupo += np.random.normal(80, 16)\n",
    "            \n",
    "        else:\n",
    "            grupo += np.random.normal(73, 12)\n",
    "            \n",
    "    lista.append(grupo)\n",
    "\n",
    "res = np.array(lista)\n",
    "\n",
    "np.sum(res>300)\n",
    "        "
   ]
  },
  {
   "cell_type": "markdown",
   "id": "eaa9113f-64f4-4540-a1d7-94fafeeb17ad",
   "metadata": {},
   "source": [
    "## B"
   ]
  },
  {
   "cell_type": "code",
   "execution_count": 39,
   "id": "d248d3e8-3d12-4edf-a66c-38b327794f7d",
   "metadata": {},
   "outputs": [
    {
     "data": {
      "text/plain": [
       "426.24973335726753"
      ]
     },
     "execution_count": 39,
     "metadata": {},
     "output_type": "execute_result"
    }
   ],
   "source": [
    "np.percentile(res, 95)"
   ]
  },
  {
   "cell_type": "markdown",
   "id": "b5295fe5-4e83-432e-a957-cb3202584b68",
   "metadata": {},
   "source": [
    "### 3.- Tienes diez dados justos. Si arrojas todos al mismo tiempo, ¿cuál es la probabilidad de que la suma de los dados sea múltiplo de 6?"
   ]
  },
  {
   "cell_type": "code",
   "execution_count": 79,
   "id": "95ff8b33-8b41-4c72-98cd-9cd1f33e48ec",
   "metadata": {},
   "outputs": [
    {
     "data": {
      "text/plain": [
       "0.1685"
      ]
     },
     "execution_count": 79,
     "metadata": {},
     "output_type": "execute_result"
    }
   ],
   "source": [
    "n = 100000\n",
    "np.random.seed(10)\n",
    "# dados = 10\n",
    "# caras = 6\n",
    "\n",
    "\n",
    "\n",
    "multiplo = 0\n",
    "for i in range(n):\n",
    "    tirada = np.random.randint(1, 7, 10)\n",
    "    suma = np.sum(tirada)\n",
    "    \n",
    "    if suma % 6 == 0:\n",
    "        multiplo +=1\n",
    "\n",
    "multiplo/n"
   ]
  },
  {
   "cell_type": "markdown",
   "id": "44e2a69d-0e5e-4b82-86f6-425ec31f91c5",
   "metadata": {},
   "source": [
    "### 4.- A y B juegan al siguiente juego: un número k del 1 al 6 es elegido, y A y B avientan el dado por turnos hasta que alguien consiga que el dado caiga en k. El ganador recibe $100.\n",
    "\n",
    "a) ¿Cuál es la probabilidad de que el primer jugador gane?\n",
    "\n",
    "b) ¿Cuál es la probabilidad de que el segundo jugador gane?\n",
    "\n",
    "c) ¿Cuánto vale la pena pagar para ir primero?\n",
    "\n",
    " "
   ]
  },
  {
   "cell_type": "code",
   "execution_count": null,
   "id": "2f5b2d5e-5ee3-43c5-b320-ff605e3cf095",
   "metadata": {},
   "outputs": [],
   "source": [
    "\n",
    "\n",
    "\n"
   ]
  }
 ],
 "metadata": {
  "kernelspec": {
   "display_name": "Python 3 (ipykernel)",
   "language": "python",
   "name": "python3"
  },
  "language_info": {
   "codemirror_mode": {
    "name": "ipython",
    "version": 3
   },
   "file_extension": ".py",
   "mimetype": "text/x-python",
   "name": "python",
   "nbconvert_exporter": "python",
   "pygments_lexer": "ipython3",
   "version": "3.12.4"
  }
 },
 "nbformat": 4,
 "nbformat_minor": 5
}
